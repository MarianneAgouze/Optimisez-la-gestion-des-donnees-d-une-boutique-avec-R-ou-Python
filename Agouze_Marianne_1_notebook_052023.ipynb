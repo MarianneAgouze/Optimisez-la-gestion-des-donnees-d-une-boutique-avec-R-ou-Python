{
 "cells": [
  {
   "cell_type": "markdown",
   "id": "7ceeffcc",
   "metadata": {},
   "source": [
    "#  <font color='purple'>Projet 5: Optimisez la gestion des données d'une boutique avec R ou Python"
   ]
  },
  {
   "cell_type": "markdown",
   "id": "69e15a1d",
   "metadata": {},
   "source": [
    "# Table des matières\n",
    "\n",
    "* **[ Importation des librairies et chargement des fichiers](#Etape1)**\n",
    "    * [Importation des librairies nécessaires au projet](#section_1_1)\n",
    "    * [Chargement des fichiers Excel](#section_1_2)\n",
    "* **[Analyse exploratoire des fichiers](#Etape2)**\n",
    "    * [Analyse exploratoire du fichier erp](#section_2_1)\n",
    "    * [Analyse exploratoire du fichier web](#section_2_2)\n",
    "    * [Analyse exploratoire du fichier liason](#section_2_3)\n",
    "* **[  Nettoyage du jeu de données](#Etape3)**\n",
    "    * [ Erreurs de type](#section_3_1)\n",
    "    * [ Valeurs manquantes](#section_3_2)\n",
    "    * [Doublons](#section_3_3)\n",
    "* **[ Rapprochement des exports erp et web via liaison](#Etape4)**  \n",
    "    * [ Création d'un dataframe avec erp et liaison](#section_4_1)\n",
    "    * [ Création d'un dataframe avec erp et web](#section_4_2)\n",
    "* **[ Calcul du chiffre d'affaires](#Etape5)**     \n",
    "    * [ Calcul du chiffre d'affaires par produit](#section_5_1)\n",
    "    * [ Calcul du chiffre d'affaires total](#section_5_2)\n",
    "* **[ Détection de valeurs aberrantes et représentation graphique](#Etape6)**         "
   ]
  },
  {
   "cell_type": "markdown",
   "id": "c25fd67f",
   "metadata": {},
   "source": [
    "# <font color='purple'> Etape 1 - Importation des librairies et chargement des fichiers<a class=\"anchor\" id=\"Etape1\">"
   ]
  },
  {
   "cell_type": "markdown",
   "id": "c905627a",
   "metadata": {},
   "source": [
    "##  <font color='purple'>1.1 - Importation des librairies<a class=\"anchor\" id=\"section_1_1\">"
   ]
  },
  {
   "cell_type": "code",
   "execution_count": 398,
   "id": "a1aa945e",
   "metadata": {},
   "outputs": [],
   "source": [
    "from IPython.display import display, HTML"
   ]
  },
  {
   "cell_type": "markdown",
   "id": "3e9951d0",
   "metadata": {},
   "source": [
    "* Importation de la librairie Pandas"
   ]
  },
  {
   "cell_type": "code",
   "execution_count": 399,
   "id": "1f14046c",
   "metadata": {},
   "outputs": [],
   "source": [
    "import pandas as pd"
   ]
  },
  {
   "cell_type": "markdown",
   "id": "4df0868d",
   "metadata": {},
   "source": [
    "* Importation de la librairie NumPy"
   ]
  },
  {
   "cell_type": "code",
   "execution_count": 400,
   "id": "55251c0e",
   "metadata": {},
   "outputs": [],
   "source": [
    "import numpy as  np"
   ]
  },
  {
   "cell_type": "markdown",
   "id": "e8c4a84e",
   "metadata": {},
   "source": [
    "* Importation de la librairie Matplotlib.pyplot"
   ]
  },
  {
   "cell_type": "code",
   "execution_count": 401,
   "id": "16142078",
   "metadata": {},
   "outputs": [],
   "source": [
    "import matplotlib.pyplot as plt"
   ]
  },
  {
   "cell_type": "markdown",
   "id": "a8132a2d",
   "metadata": {},
   "source": [
    "##  <font color='purple'>1.2 - Chargement des fichiers Excel<a class=\"anchor\" id=\"section_1_2\">"
   ]
  },
  {
   "cell_type": "markdown",
   "id": "2cd28b4d",
   "metadata": {},
   "source": [
    "* Importation du fichier erp.xlsx"
   ]
  },
  {
   "cell_type": "code",
   "execution_count": 402,
   "id": "8aa453c1",
   "metadata": {},
   "outputs": [
    {
     "name": "stderr",
     "output_type": "stream",
     "text": [
      "C:\\ProgramData\\Anaconda3\\lib\\site-packages\\openpyxl\\worksheet\\_read_only.py:79: UserWarning: Unknown extension is not supported and will be removed\n",
      "  for idx, row in parser.parse():\n"
     ]
    }
   ],
   "source": [
    "erp = pd.read_excel('erp.xlsx')"
   ]
  },
  {
   "cell_type": "code",
   "execution_count": 403,
   "id": "d765990a",
   "metadata": {},
   "outputs": [
    {
     "data": {
      "text/plain": [
       "pandas.core.frame.DataFrame"
      ]
     },
     "execution_count": 403,
     "metadata": {},
     "output_type": "execute_result"
    }
   ],
   "source": [
    "type(erp)"
   ]
  },
  {
   "cell_type": "markdown",
   "id": "898ac714",
   "metadata": {},
   "source": [
    "* Importation du fichier web.xlsx"
   ]
  },
  {
   "cell_type": "code",
   "execution_count": 404,
   "id": "4b9839f4",
   "metadata": {
    "scrolled": true
   },
   "outputs": [
    {
     "name": "stderr",
     "output_type": "stream",
     "text": [
      "C:\\ProgramData\\Anaconda3\\lib\\site-packages\\openpyxl\\worksheet\\_read_only.py:79: UserWarning: Unknown extension is not supported and will be removed\n",
      "  for idx, row in parser.parse():\n"
     ]
    }
   ],
   "source": [
    "web = pd.read_excel('web.xlsx')"
   ]
  },
  {
   "cell_type": "code",
   "execution_count": 405,
   "id": "7cdaad52",
   "metadata": {},
   "outputs": [
    {
     "data": {
      "text/plain": [
       "pandas.core.frame.DataFrame"
      ]
     },
     "execution_count": 405,
     "metadata": {},
     "output_type": "execute_result"
    }
   ],
   "source": [
    "type(web)"
   ]
  },
  {
   "cell_type": "markdown",
   "id": "05f4a773",
   "metadata": {},
   "source": [
    "* Importation du fichier liaison.xlsx"
   ]
  },
  {
   "cell_type": "code",
   "execution_count": 406,
   "id": "50dc2776",
   "metadata": {},
   "outputs": [
    {
     "name": "stderr",
     "output_type": "stream",
     "text": [
      "C:\\ProgramData\\Anaconda3\\lib\\site-packages\\openpyxl\\worksheet\\_read_only.py:79: UserWarning: Unknown extension is not supported and will be removed\n",
      "  for idx, row in parser.parse():\n"
     ]
    }
   ],
   "source": [
    "liaison= pd.read_excel('liaison.xlsx')"
   ]
  },
  {
   "cell_type": "code",
   "execution_count": 407,
   "id": "a1904762",
   "metadata": {},
   "outputs": [
    {
     "data": {
      "text/plain": [
       "pandas.core.frame.DataFrame"
      ]
     },
     "execution_count": 407,
     "metadata": {},
     "output_type": "execute_result"
    }
   ],
   "source": [
    "type(liaison)"
   ]
  },
  {
   "cell_type": "markdown",
   "id": "fa2c6ac3",
   "metadata": {},
   "source": [
    "# <font color='purple'> Etape 2 - Analyse exploratoire des fichiers<a class=\"anchor\" id=\"Etape2\">"
   ]
  },
  {
   "cell_type": "markdown",
   "id": "0e5c3c8b",
   "metadata": {},
   "source": [
    "## <font color='purple'> 2.1 - Analyse exploratoire du fichier erp<a class=\"anchor\" id=\"section_2_1\">"
   ]
  },
  {
   "cell_type": "markdown",
   "id": "826b4a3b",
   "metadata": {},
   "source": [
    "* Affichage les 5 premières lignes de la table"
   ]
  },
  {
   "cell_type": "code",
   "execution_count": 408,
   "id": "977bdcff",
   "metadata": {},
   "outputs": [
    {
     "data": {
      "text/html": [
       "<div>\n",
       "<style scoped>\n",
       "    .dataframe tbody tr th:only-of-type {\n",
       "        vertical-align: middle;\n",
       "    }\n",
       "\n",
       "    .dataframe tbody tr th {\n",
       "        vertical-align: top;\n",
       "    }\n",
       "\n",
       "    .dataframe thead th {\n",
       "        text-align: right;\n",
       "    }\n",
       "</style>\n",
       "<table border=\"1\" class=\"dataframe\">\n",
       "  <thead>\n",
       "    <tr style=\"text-align: right;\">\n",
       "      <th></th>\n",
       "      <th>product_id</th>\n",
       "      <th>onsale_web</th>\n",
       "      <th>price</th>\n",
       "      <th>stock_quantity</th>\n",
       "      <th>stock_status</th>\n",
       "    </tr>\n",
       "  </thead>\n",
       "  <tbody>\n",
       "    <tr>\n",
       "      <th>0</th>\n",
       "      <td>3847</td>\n",
       "      <td>1</td>\n",
       "      <td>24.2</td>\n",
       "      <td>0</td>\n",
       "      <td>outofstock</td>\n",
       "    </tr>\n",
       "    <tr>\n",
       "      <th>1</th>\n",
       "      <td>3849</td>\n",
       "      <td>1</td>\n",
       "      <td>34.3</td>\n",
       "      <td>0</td>\n",
       "      <td>outofstock</td>\n",
       "    </tr>\n",
       "    <tr>\n",
       "      <th>2</th>\n",
       "      <td>3850</td>\n",
       "      <td>1</td>\n",
       "      <td>20.8</td>\n",
       "      <td>0</td>\n",
       "      <td>outofstock</td>\n",
       "    </tr>\n",
       "    <tr>\n",
       "      <th>3</th>\n",
       "      <td>4032</td>\n",
       "      <td>1</td>\n",
       "      <td>14.1</td>\n",
       "      <td>0</td>\n",
       "      <td>outofstock</td>\n",
       "    </tr>\n",
       "    <tr>\n",
       "      <th>4</th>\n",
       "      <td>4039</td>\n",
       "      <td>1</td>\n",
       "      <td>46.0</td>\n",
       "      <td>0</td>\n",
       "      <td>outofstock</td>\n",
       "    </tr>\n",
       "  </tbody>\n",
       "</table>\n",
       "</div>"
      ],
      "text/plain": [
       "   product_id  onsale_web  price  stock_quantity stock_status\n",
       "0        3847           1   24.2               0   outofstock\n",
       "1        3849           1   34.3               0   outofstock\n",
       "2        3850           1   20.8               0   outofstock\n",
       "3        4032           1   14.1               0   outofstock\n",
       "4        4039           1   46.0               0   outofstock"
      ]
     },
     "execution_count": 408,
     "metadata": {},
     "output_type": "execute_result"
    }
   ],
   "source": [
    "erp.head()"
   ]
  },
  {
   "cell_type": "markdown",
   "id": "16c066d6",
   "metadata": {},
   "source": [
    "* Affichage  les dimensions du dataset"
   ]
  },
  {
   "cell_type": "code",
   "execution_count": 409,
   "id": "33bbfb71",
   "metadata": {},
   "outputs": [
    {
     "data": {
      "text/plain": [
       "(825, 5)"
      ]
     },
     "execution_count": 409,
     "metadata": {},
     "output_type": "execute_result"
    }
   ],
   "source": [
    "erp.shape"
   ]
  },
  {
   "cell_type": "code",
   "execution_count": 410,
   "id": "f6f70ea3",
   "metadata": {},
   "outputs": [
    {
     "name": "stdout",
     "output_type": "stream",
     "text": [
      "Le dataframe erp comporte 825 observation(s) ou article(s)\n",
      "Le dataframe erp 5 colonne(s)\n"
     ]
    }
   ],
   "source": [
    "print(\"Le dataframe erp comporte {} observation(s) ou article(s)\".format(erp.shape[0]))\n",
    "print(\"Le dataframe erp {} colonne(s)\".format(erp.shape[1]))"
   ]
  },
  {
   "cell_type": "code",
   "execution_count": 411,
   "id": "7ae51044",
   "metadata": {},
   "outputs": [
    {
     "name": "stdout",
     "output_type": "stream",
     "text": [
      "<class 'pandas.core.frame.DataFrame'>\n",
      "RangeIndex: 825 entries, 0 to 824\n",
      "Data columns (total 5 columns):\n",
      " #   Column          Non-Null Count  Dtype  \n",
      "---  ------          --------------  -----  \n",
      " 0   product_id      825 non-null    int64  \n",
      " 1   onsale_web      825 non-null    int64  \n",
      " 2   price           825 non-null    float64\n",
      " 3   stock_quantity  825 non-null    int64  \n",
      " 4   stock_status    825 non-null    object \n",
      "dtypes: float64(1), int64(3), object(1)\n",
      "memory usage: 32.4+ KB\n"
     ]
    }
   ],
   "source": [
    "erp.info()"
   ]
  },
  {
   "cell_type": "markdown",
   "id": "54d6d646",
   "metadata": {},
   "source": [
    "## <font color='purple'> 2.2 - Analyse exploratoire du fichier web<a class=\"anchor\" id=\"section_2_2\">"
   ]
  },
  {
   "cell_type": "markdown",
   "id": "9dde4dc8",
   "metadata": {},
   "source": [
    "L'objectif de cette étape est d'avoir une vue globale sur la forme et le contenu de chaque dataframe afin de procéder à un eventuel nettoyage.\n"
   ]
  },
  {
   "cell_type": "markdown",
   "id": "6a555459",
   "metadata": {},
   "source": [
    "* Affichage les 5 premières lignes de la table"
   ]
  },
  {
   "cell_type": "code",
   "execution_count": 412,
   "id": "32d485d8",
   "metadata": {},
   "outputs": [
    {
     "data": {
      "text/html": [
       "<div>\n",
       "<style scoped>\n",
       "    .dataframe tbody tr th:only-of-type {\n",
       "        vertical-align: middle;\n",
       "    }\n",
       "\n",
       "    .dataframe tbody tr th {\n",
       "        vertical-align: top;\n",
       "    }\n",
       "\n",
       "    .dataframe thead th {\n",
       "        text-align: right;\n",
       "    }\n",
       "</style>\n",
       "<table border=\"1\" class=\"dataframe\">\n",
       "  <thead>\n",
       "    <tr style=\"text-align: right;\">\n",
       "      <th></th>\n",
       "      <th>sku</th>\n",
       "      <th>virtual</th>\n",
       "      <th>downloadable</th>\n",
       "      <th>rating_count</th>\n",
       "      <th>average_rating</th>\n",
       "      <th>total_sales</th>\n",
       "      <th>tax_status</th>\n",
       "      <th>tax_class</th>\n",
       "      <th>post_author</th>\n",
       "      <th>post_date</th>\n",
       "      <th>...</th>\n",
       "      <th>post_name</th>\n",
       "      <th>post_modified</th>\n",
       "      <th>post_modified_gmt</th>\n",
       "      <th>post_content_filtered</th>\n",
       "      <th>post_parent</th>\n",
       "      <th>guid</th>\n",
       "      <th>menu_order</th>\n",
       "      <th>post_type</th>\n",
       "      <th>post_mime_type</th>\n",
       "      <th>comment_count</th>\n",
       "    </tr>\n",
       "  </thead>\n",
       "  <tbody>\n",
       "    <tr>\n",
       "      <th>0</th>\n",
       "      <td>bon-cadeau-25-euros</td>\n",
       "      <td>0</td>\n",
       "      <td>0</td>\n",
       "      <td>0</td>\n",
       "      <td>0.0</td>\n",
       "      <td>10.0</td>\n",
       "      <td>taxable</td>\n",
       "      <td>NaN</td>\n",
       "      <td>1.0</td>\n",
       "      <td>2018-06-01 13:53:46</td>\n",
       "      <td>...</td>\n",
       "      <td>bon-cadeau-de-25-euros</td>\n",
       "      <td>2018-06-01 14:13:57</td>\n",
       "      <td>2018-06-01 12:13:57</td>\n",
       "      <td>NaN</td>\n",
       "      <td>0.0</td>\n",
       "      <td>https://www.bottle-neck.fr/?post_type=product&amp;...</td>\n",
       "      <td>0.0</td>\n",
       "      <td>product</td>\n",
       "      <td>NaN</td>\n",
       "      <td>0.0</td>\n",
       "    </tr>\n",
       "    <tr>\n",
       "      <th>1</th>\n",
       "      <td>15298</td>\n",
       "      <td>0</td>\n",
       "      <td>0</td>\n",
       "      <td>0</td>\n",
       "      <td>0.0</td>\n",
       "      <td>6.0</td>\n",
       "      <td>taxable</td>\n",
       "      <td>NaN</td>\n",
       "      <td>2.0</td>\n",
       "      <td>2018-02-08 12:58:52</td>\n",
       "      <td>...</td>\n",
       "      <td>pierre-jean-villa-saint-joseph-preface-2018</td>\n",
       "      <td>2019-12-30 09:30:29</td>\n",
       "      <td>2019-12-30 08:30:29</td>\n",
       "      <td>NaN</td>\n",
       "      <td>0.0</td>\n",
       "      <td>https://www.bottle-neck.fr/?post_type=product&amp;...</td>\n",
       "      <td>0.0</td>\n",
       "      <td>product</td>\n",
       "      <td>NaN</td>\n",
       "      <td>0.0</td>\n",
       "    </tr>\n",
       "    <tr>\n",
       "      <th>2</th>\n",
       "      <td>15296</td>\n",
       "      <td>0</td>\n",
       "      <td>0</td>\n",
       "      <td>0</td>\n",
       "      <td>0.0</td>\n",
       "      <td>0.0</td>\n",
       "      <td>taxable</td>\n",
       "      <td>NaN</td>\n",
       "      <td>2.0</td>\n",
       "      <td>2018-02-08 13:49:41</td>\n",
       "      <td>...</td>\n",
       "      <td>pierre-jean-villa-saint-joseph-tilde-2017</td>\n",
       "      <td>2019-12-21 09:00:17</td>\n",
       "      <td>2019-12-21 08:00:17</td>\n",
       "      <td>NaN</td>\n",
       "      <td>0.0</td>\n",
       "      <td>https://www.bottle-neck.fr/?post_type=product&amp;...</td>\n",
       "      <td>0.0</td>\n",
       "      <td>product</td>\n",
       "      <td>NaN</td>\n",
       "      <td>0.0</td>\n",
       "    </tr>\n",
       "    <tr>\n",
       "      <th>3</th>\n",
       "      <td>15300</td>\n",
       "      <td>0</td>\n",
       "      <td>0</td>\n",
       "      <td>0</td>\n",
       "      <td>0.0</td>\n",
       "      <td>0.0</td>\n",
       "      <td>taxable</td>\n",
       "      <td>NaN</td>\n",
       "      <td>2.0</td>\n",
       "      <td>2018-02-08 14:08:36</td>\n",
       "      <td>...</td>\n",
       "      <td>pierre-jean-villa-croze-hermitage-accroche-coe...</td>\n",
       "      <td>2020-06-26 18:15:03</td>\n",
       "      <td>2020-06-26 16:15:03</td>\n",
       "      <td>NaN</td>\n",
       "      <td>0.0</td>\n",
       "      <td>https://www.bottle-neck.fr/?post_type=product&amp;...</td>\n",
       "      <td>0.0</td>\n",
       "      <td>product</td>\n",
       "      <td>NaN</td>\n",
       "      <td>0.0</td>\n",
       "    </tr>\n",
       "    <tr>\n",
       "      <th>4</th>\n",
       "      <td>19814</td>\n",
       "      <td>0</td>\n",
       "      <td>0</td>\n",
       "      <td>0</td>\n",
       "      <td>0.0</td>\n",
       "      <td>3.0</td>\n",
       "      <td>taxable</td>\n",
       "      <td>NaN</td>\n",
       "      <td>2.0</td>\n",
       "      <td>2018-02-09 14:01:05</td>\n",
       "      <td>...</td>\n",
       "      <td>pierre-jean-villa-igp-gamine-2018</td>\n",
       "      <td>2020-01-04 16:36:01</td>\n",
       "      <td>2020-01-04 15:36:01</td>\n",
       "      <td>NaN</td>\n",
       "      <td>0.0</td>\n",
       "      <td>https://www.bottle-neck.fr/?post_type=product&amp;...</td>\n",
       "      <td>0.0</td>\n",
       "      <td>product</td>\n",
       "      <td>NaN</td>\n",
       "      <td>0.0</td>\n",
       "    </tr>\n",
       "  </tbody>\n",
       "</table>\n",
       "<p>5 rows × 28 columns</p>\n",
       "</div>"
      ],
      "text/plain": [
       "                   sku  virtual  downloadable  rating_count  average_rating  \\\n",
       "0  bon-cadeau-25-euros        0             0             0             0.0   \n",
       "1                15298        0             0             0             0.0   \n",
       "2                15296        0             0             0             0.0   \n",
       "3                15300        0             0             0             0.0   \n",
       "4                19814        0             0             0             0.0   \n",
       "\n",
       "   total_sales tax_status  tax_class  post_author           post_date  ...  \\\n",
       "0         10.0    taxable        NaN          1.0 2018-06-01 13:53:46  ...   \n",
       "1          6.0    taxable        NaN          2.0 2018-02-08 12:58:52  ...   \n",
       "2          0.0    taxable        NaN          2.0 2018-02-08 13:49:41  ...   \n",
       "3          0.0    taxable        NaN          2.0 2018-02-08 14:08:36  ...   \n",
       "4          3.0    taxable        NaN          2.0 2018-02-09 14:01:05  ...   \n",
       "\n",
       "                                           post_name       post_modified  \\\n",
       "0                             bon-cadeau-de-25-euros 2018-06-01 14:13:57   \n",
       "1        pierre-jean-villa-saint-joseph-preface-2018 2019-12-30 09:30:29   \n",
       "2          pierre-jean-villa-saint-joseph-tilde-2017 2019-12-21 09:00:17   \n",
       "3  pierre-jean-villa-croze-hermitage-accroche-coe... 2020-06-26 18:15:03   \n",
       "4                  pierre-jean-villa-igp-gamine-2018 2020-01-04 16:36:01   \n",
       "\n",
       "    post_modified_gmt post_content_filtered post_parent  \\\n",
       "0 2018-06-01 12:13:57                   NaN         0.0   \n",
       "1 2019-12-30 08:30:29                   NaN         0.0   \n",
       "2 2019-12-21 08:00:17                   NaN         0.0   \n",
       "3 2020-06-26 16:15:03                   NaN         0.0   \n",
       "4 2020-01-04 15:36:01                   NaN         0.0   \n",
       "\n",
       "                                                guid menu_order  post_type  \\\n",
       "0  https://www.bottle-neck.fr/?post_type=product&...        0.0    product   \n",
       "1  https://www.bottle-neck.fr/?post_type=product&...        0.0    product   \n",
       "2  https://www.bottle-neck.fr/?post_type=product&...        0.0    product   \n",
       "3  https://www.bottle-neck.fr/?post_type=product&...        0.0    product   \n",
       "4  https://www.bottle-neck.fr/?post_type=product&...        0.0    product   \n",
       "\n",
       "  post_mime_type comment_count  \n",
       "0            NaN           0.0  \n",
       "1            NaN           0.0  \n",
       "2            NaN           0.0  \n",
       "3            NaN           0.0  \n",
       "4            NaN           0.0  \n",
       "\n",
       "[5 rows x 28 columns]"
      ]
     },
     "execution_count": 412,
     "metadata": {},
     "output_type": "execute_result"
    }
   ],
   "source": [
    "web.head()"
   ]
  },
  {
   "cell_type": "markdown",
   "id": "a254bc8a",
   "metadata": {},
   "source": [
    "* Affichage  les dimensions du dataset"
   ]
  },
  {
   "cell_type": "code",
   "execution_count": 413,
   "id": "d36d935e",
   "metadata": {},
   "outputs": [
    {
     "data": {
      "text/plain": [
       "(1513, 28)"
      ]
     },
     "execution_count": 413,
     "metadata": {},
     "output_type": "execute_result"
    }
   ],
   "source": [
    "web.shape"
   ]
  },
  {
   "cell_type": "code",
   "execution_count": 414,
   "id": "a89bdbc5",
   "metadata": {},
   "outputs": [
    {
     "name": "stdout",
     "output_type": "stream",
     "text": [
      "Le dataframe web comporte 1513 observation(s) ou article(s)\n",
      "Le dataframe web 28 colonne(s)\n"
     ]
    }
   ],
   "source": [
    "print(\"Le dataframe web comporte {} observation(s) ou article(s)\".format(web.shape[0]))\n",
    "print(\"Le dataframe web {} colonne(s)\".format(web.shape[1]))"
   ]
  },
  {
   "cell_type": "code",
   "execution_count": 415,
   "id": "759cfe43",
   "metadata": {},
   "outputs": [
    {
     "name": "stdout",
     "output_type": "stream",
     "text": [
      "<class 'pandas.core.frame.DataFrame'>\n",
      "RangeIndex: 1513 entries, 0 to 1512\n",
      "Data columns (total 28 columns):\n",
      " #   Column                 Non-Null Count  Dtype         \n",
      "---  ------                 --------------  -----         \n",
      " 0   sku                    1428 non-null   object        \n",
      " 1   virtual                1513 non-null   int64         \n",
      " 2   downloadable           1513 non-null   int64         \n",
      " 3   rating_count           1513 non-null   int64         \n",
      " 4   average_rating         1430 non-null   float64       \n",
      " 5   total_sales            1430 non-null   float64       \n",
      " 6   tax_status             716 non-null    object        \n",
      " 7   tax_class              0 non-null      float64       \n",
      " 8   post_author            1430 non-null   float64       \n",
      " 9   post_date              1430 non-null   datetime64[ns]\n",
      " 10  post_date_gmt          1430 non-null   datetime64[ns]\n",
      " 11  post_content           0 non-null      float64       \n",
      " 12  post_title             1430 non-null   object        \n",
      " 13  post_excerpt           716 non-null    object        \n",
      " 14  post_status            1430 non-null   object        \n",
      " 15  comment_status         1430 non-null   object        \n",
      " 16  ping_status            1430 non-null   object        \n",
      " 17  post_password          0 non-null      float64       \n",
      " 18  post_name              1430 non-null   object        \n",
      " 19  post_modified          1430 non-null   datetime64[ns]\n",
      " 20  post_modified_gmt      1430 non-null   datetime64[ns]\n",
      " 21  post_content_filtered  0 non-null      float64       \n",
      " 22  post_parent            1430 non-null   float64       \n",
      " 23  guid                   1430 non-null   object        \n",
      " 24  menu_order             1430 non-null   float64       \n",
      " 25  post_type              1430 non-null   object        \n",
      " 26  post_mime_type         714 non-null    object        \n",
      " 27  comment_count          1430 non-null   float64       \n",
      "dtypes: datetime64[ns](4), float64(10), int64(3), object(11)\n",
      "memory usage: 331.1+ KB\n"
     ]
    }
   ],
   "source": [
    "web.info()"
   ]
  },
  {
   "cell_type": "markdown",
   "id": "e97b1b8a",
   "metadata": {},
   "source": [
    "## <font color='purple'> 2.3 - Analyse exploratoire du fichier liaison<a class=\"anchor\" id=\"section_2_3\">"
   ]
  },
  {
   "cell_type": "markdown",
   "id": "807318fa",
   "metadata": {},
   "source": [
    "* Affichage les 5 premières lignes de la table"
   ]
  },
  {
   "cell_type": "code",
   "execution_count": 416,
   "id": "aa9bb4fd",
   "metadata": {},
   "outputs": [
    {
     "data": {
      "text/html": [
       "<div>\n",
       "<style scoped>\n",
       "    .dataframe tbody tr th:only-of-type {\n",
       "        vertical-align: middle;\n",
       "    }\n",
       "\n",
       "    .dataframe tbody tr th {\n",
       "        vertical-align: top;\n",
       "    }\n",
       "\n",
       "    .dataframe thead th {\n",
       "        text-align: right;\n",
       "    }\n",
       "</style>\n",
       "<table border=\"1\" class=\"dataframe\">\n",
       "  <thead>\n",
       "    <tr style=\"text-align: right;\">\n",
       "      <th></th>\n",
       "      <th>product_id</th>\n",
       "      <th>id_web</th>\n",
       "    </tr>\n",
       "  </thead>\n",
       "  <tbody>\n",
       "    <tr>\n",
       "      <th>0</th>\n",
       "      <td>3847</td>\n",
       "      <td>15298</td>\n",
       "    </tr>\n",
       "    <tr>\n",
       "      <th>1</th>\n",
       "      <td>3849</td>\n",
       "      <td>15296</td>\n",
       "    </tr>\n",
       "    <tr>\n",
       "      <th>2</th>\n",
       "      <td>3850</td>\n",
       "      <td>15300</td>\n",
       "    </tr>\n",
       "    <tr>\n",
       "      <th>3</th>\n",
       "      <td>4032</td>\n",
       "      <td>19814</td>\n",
       "    </tr>\n",
       "    <tr>\n",
       "      <th>4</th>\n",
       "      <td>4039</td>\n",
       "      <td>19815</td>\n",
       "    </tr>\n",
       "  </tbody>\n",
       "</table>\n",
       "</div>"
      ],
      "text/plain": [
       "   product_id id_web\n",
       "0        3847  15298\n",
       "1        3849  15296\n",
       "2        3850  15300\n",
       "3        4032  19814\n",
       "4        4039  19815"
      ]
     },
     "execution_count": 416,
     "metadata": {},
     "output_type": "execute_result"
    }
   ],
   "source": [
    "liaison.head()"
   ]
  },
  {
   "cell_type": "markdown",
   "id": "d2a31a71",
   "metadata": {},
   "source": [
    "* Affichage les dimensions du dataset"
   ]
  },
  {
   "cell_type": "code",
   "execution_count": 417,
   "id": "6fe93b4a",
   "metadata": {},
   "outputs": [
    {
     "data": {
      "text/plain": [
       "(825, 2)"
      ]
     },
     "execution_count": 417,
     "metadata": {},
     "output_type": "execute_result"
    }
   ],
   "source": [
    "liaison.shape"
   ]
  },
  {
   "cell_type": "code",
   "execution_count": 418,
   "id": "43dfad97",
   "metadata": {},
   "outputs": [
    {
     "name": "stdout",
     "output_type": "stream",
     "text": [
      "Le dataframe liaison comporte 825 observation(s) ou article(s)\n",
      "Le dataframe liaison comporte 2 colonne(s)\n"
     ]
    }
   ],
   "source": [
    "print(\"Le dataframe liaison comporte {} observation(s) ou article(s)\".format(liaison.shape[0]))\n",
    "print(\"Le dataframe liaison comporte {} colonne(s)\".format(liaison.shape[1]))"
   ]
  },
  {
   "cell_type": "code",
   "execution_count": 419,
   "id": "ca14c630",
   "metadata": {},
   "outputs": [
    {
     "name": "stdout",
     "output_type": "stream",
     "text": [
      "<class 'pandas.core.frame.DataFrame'>\n",
      "RangeIndex: 825 entries, 0 to 824\n",
      "Data columns (total 2 columns):\n",
      " #   Column      Non-Null Count  Dtype \n",
      "---  ------      --------------  ----- \n",
      " 0   product_id  825 non-null    int64 \n",
      " 1   id_web      734 non-null    object\n",
      "dtypes: int64(1), object(1)\n",
      "memory usage: 13.0+ KB\n"
     ]
    }
   ],
   "source": [
    "liaison.info()"
   ]
  },
  {
   "cell_type": "markdown",
   "id": "c243869f",
   "metadata": {},
   "source": [
    "# <font color='purple'> Etape 3 -  Nettoyage du jeu de données<a class=\"anchor\" id=\"Etape3\">"
   ]
  },
  {
   "cell_type": "markdown",
   "id": "44f86f7a",
   "metadata": {},
   "source": [
    "Nous procederons au nettoyage de notre jeu de donnnées afin de préparer au mieux leur fusion ultérieure."
   ]
  },
  {
   "cell_type": "markdown",
   "id": "9b4b3157",
   "metadata": {},
   "source": [
    "## <font color='purple'> 3.1 - Erreurs de type<a class=\"anchor\" id=\"section_3_1\">"
   ]
  },
  {
   "cell_type": "markdown",
   "id": "51a269cb",
   "metadata": {},
   "source": [
    "### <font color='blue'> Dataframe erp"
   ]
  },
  {
   "cell_type": "code",
   "execution_count": 420,
   "id": "f957661c",
   "metadata": {},
   "outputs": [
    {
     "data": {
      "text/plain": [
       "product_id          int64\n",
       "onsale_web          int64\n",
       "price             float64\n",
       "stock_quantity      int64\n",
       "stock_status       object\n",
       "dtype: object"
      ]
     },
     "execution_count": 420,
     "metadata": {},
     "output_type": "execute_result"
    }
   ],
   "source": [
    "erp.dtypes"
   ]
  },
  {
   "cell_type": "markdown",
   "id": "c3b823e8",
   "metadata": {},
   "source": [
    "onsale_web peut être considéré comme booléen (onsale_web : 1 = en vente sur le site, 0= pas en vente sur le site)."
   ]
  },
  {
   "cell_type": "markdown",
   "id": "fc6f5868",
   "metadata": {},
   "source": [
    "* Changement du type de la colonne product_id en object"
   ]
  },
  {
   "cell_type": "markdown",
   "id": "5f8c31e0",
   "metadata": {},
   "source": [
    "Nous constatons que la variable 'product_id' qui est une variable qualitative est de type entier(int64) , nous la mettrons ici en type object."
   ]
  },
  {
   "cell_type": "code",
   "execution_count": 421,
   "id": "7b7a3d9d",
   "metadata": {},
   "outputs": [],
   "source": [
    "erp['product_id']=erp['product_id'].astype('object')"
   ]
  },
  {
   "cell_type": "code",
   "execution_count": 422,
   "id": "c9ed797c",
   "metadata": {},
   "outputs": [
    {
     "data": {
      "text/plain": [
       "product_id         object\n",
       "onsale_web          int64\n",
       "price             float64\n",
       "stock_quantity      int64\n",
       "stock_status       object\n",
       "dtype: object"
      ]
     },
     "execution_count": 422,
     "metadata": {},
     "output_type": "execute_result"
    }
   ],
   "source": [
    "# Verification du changement de type\n",
    "erp.dtypes"
   ]
  },
  {
   "cell_type": "markdown",
   "id": "38a88851",
   "metadata": {},
   "source": [
    "###  <font color='blue'>Dataframe web"
   ]
  },
  {
   "cell_type": "code",
   "execution_count": 423,
   "id": "1270b5fc",
   "metadata": {},
   "outputs": [
    {
     "data": {
      "text/plain": [
       "sku                              object\n",
       "virtual                           int64\n",
       "downloadable                      int64\n",
       "rating_count                      int64\n",
       "average_rating                  float64\n",
       "total_sales                     float64\n",
       "tax_status                       object\n",
       "tax_class                       float64\n",
       "post_author                     float64\n",
       "post_date                datetime64[ns]\n",
       "post_date_gmt            datetime64[ns]\n",
       "post_content                    float64\n",
       "post_title                       object\n",
       "post_excerpt                     object\n",
       "post_status                      object\n",
       "comment_status                   object\n",
       "ping_status                      object\n",
       "post_password                   float64\n",
       "post_name                        object\n",
       "post_modified            datetime64[ns]\n",
       "post_modified_gmt        datetime64[ns]\n",
       "post_content_filtered           float64\n",
       "post_parent                     float64\n",
       "guid                             object\n",
       "menu_order                      float64\n",
       "post_type                        object\n",
       "post_mime_type                   object\n",
       "comment_count                   float64\n",
       "dtype: object"
      ]
     },
     "execution_count": 423,
     "metadata": {},
     "output_type": "execute_result"
    }
   ],
   "source": [
    "web.dtypes"
   ]
  },
  {
   "cell_type": "markdown",
   "id": "03997f32",
   "metadata": {},
   "source": [
    "###  <font color='blue'>Dataframe liaison"
   ]
  },
  {
   "cell_type": "code",
   "execution_count": 424,
   "id": "d89eb1e5",
   "metadata": {},
   "outputs": [
    {
     "data": {
      "text/plain": [
       "product_id     int64\n",
       "id_web        object\n",
       "dtype: object"
      ]
     },
     "execution_count": 424,
     "metadata": {},
     "output_type": "execute_result"
    }
   ],
   "source": [
    "liaison.dtypes"
   ]
  },
  {
   "cell_type": "markdown",
   "id": "afb0d326",
   "metadata": {},
   "source": [
    "* Changement du type de la colonne product_id en object"
   ]
  },
  {
   "cell_type": "markdown",
   "id": "d7b45b08",
   "metadata": {},
   "source": [
    "Nous ferons de même que dans le dataframe erp, en changeant de type de la variable 'product_id' de int64 à object."
   ]
  },
  {
   "cell_type": "code",
   "execution_count": 425,
   "id": "114a30a2",
   "metadata": {},
   "outputs": [],
   "source": [
    "liaison['product_id']=liaison['product_id'].astype('object')"
   ]
  },
  {
   "cell_type": "code",
   "execution_count": 426,
   "id": "0e716770",
   "metadata": {},
   "outputs": [
    {
     "data": {
      "text/plain": [
       "product_id    object\n",
       "id_web        object\n",
       "dtype: object"
      ]
     },
     "execution_count": 426,
     "metadata": {},
     "output_type": "execute_result"
    }
   ],
   "source": [
    "# Verification du changement de type\n",
    "liaison.dtypes"
   ]
  },
  {
   "cell_type": "markdown",
   "id": "1848aadc",
   "metadata": {},
   "source": [
    "Nous allons renommé la variable 'id_web' par 'sku' pour garder la continuité avec le dataframe web"
   ]
  },
  {
   "cell_type": "code",
   "execution_count": 427,
   "id": "d7e1e4f2",
   "metadata": {},
   "outputs": [],
   "source": [
    "#Changement de la colonne id_web en sku\n",
    "liaison.rename(columns={\"id_web\":\"sku\"},inplace=True)"
   ]
  },
  {
   "cell_type": "markdown",
   "id": "11dae609",
   "metadata": {},
   "source": [
    "## <font color='purple'> 3.2 - Valeurs manquantes<a class=\"anchor\" id=\"section_3_2\">"
   ]
  },
  {
   "cell_type": "markdown",
   "id": "76ef7fed",
   "metadata": {},
   "source": [
    "###  <font color='blue'>Dataframe erp"
   ]
  },
  {
   "cell_type": "code",
   "execution_count": 428,
   "id": "4cd05672",
   "metadata": {},
   "outputs": [
    {
     "data": {
      "text/plain": [
       "product_id        0\n",
       "onsale_web        0\n",
       "price             0\n",
       "stock_quantity    0\n",
       "stock_status      0\n",
       "dtype: int64"
      ]
     },
     "execution_count": 428,
     "metadata": {},
     "output_type": "execute_result"
    }
   ],
   "source": [
    "erp.isnull().sum()"
   ]
  },
  {
   "cell_type": "markdown",
   "id": "3c4cdb09",
   "metadata": {},
   "source": [
    "Le dataframe erp n'a pas de valeurs manquantes"
   ]
  },
  {
   "cell_type": "markdown",
   "id": "2f42d697",
   "metadata": {},
   "source": [
    "###  <font color='blue'>Dataframe web"
   ]
  },
  {
   "cell_type": "code",
   "execution_count": 429,
   "id": "ce4abc35",
   "metadata": {},
   "outputs": [
    {
     "data": {
      "text/plain": [
       "sku                        85\n",
       "virtual                     0\n",
       "downloadable                0\n",
       "rating_count                0\n",
       "average_rating             83\n",
       "total_sales                83\n",
       "tax_status                797\n",
       "tax_class                1513\n",
       "post_author                83\n",
       "post_date                  83\n",
       "post_date_gmt              83\n",
       "post_content             1513\n",
       "post_title                 83\n",
       "post_excerpt              797\n",
       "post_status                83\n",
       "comment_status             83\n",
       "ping_status                83\n",
       "post_password            1513\n",
       "post_name                  83\n",
       "post_modified              83\n",
       "post_modified_gmt          83\n",
       "post_content_filtered    1513\n",
       "post_parent                83\n",
       "guid                       83\n",
       "menu_order                 83\n",
       "post_type                  83\n",
       "post_mime_type            799\n",
       "comment_count              83\n",
       "dtype: int64"
      ]
     },
     "execution_count": 429,
     "metadata": {},
     "output_type": "execute_result"
    }
   ],
   "source": [
    "web.isnull().sum()"
   ]
  },
  {
   "cell_type": "markdown",
   "id": "59733106",
   "metadata": {},
   "source": [
    "Le dataframe web a plusieurs variables avec des valeurs manquantes que nous regarderons plus en détail plutard."
   ]
  },
  {
   "cell_type": "markdown",
   "id": "87347e1d",
   "metadata": {},
   "source": [
    "###  <font color='blue'>Dataframe liaison"
   ]
  },
  {
   "cell_type": "code",
   "execution_count": 430,
   "id": "74d66838",
   "metadata": {},
   "outputs": [
    {
     "data": {
      "text/plain": [
       "product_id     0\n",
       "sku           91\n",
       "dtype: int64"
      ]
     },
     "execution_count": 430,
     "metadata": {},
     "output_type": "execute_result"
    }
   ],
   "source": [
    "liaison.isnull().sum()"
   ]
  },
  {
   "cell_type": "markdown",
   "id": "a2976d2c",
   "metadata": {},
   "source": [
    "La variable 'sku' a 91 valeurs manquantes car certains product_id n'ont pas de correspondance dans sku.En fait il s'agit des références de produits non disponibles sur le site web, ce qui correspond à \"0\" dans la colonne onsale_web du dataframe erp.\n"
   ]
  },
  {
   "cell_type": "markdown",
   "id": "436832ea",
   "metadata": {},
   "source": [
    "## <font color='purple'> 3.3 - Doublons<a class=\"anchor\" id=\"section_3_3\"> "
   ]
  },
  {
   "cell_type": "markdown",
   "id": "287ed582",
   "metadata": {},
   "source": [
    "* Création d'une fonction pour tester l'unicité de la clé primaire dans chaque dataframe"
   ]
  },
  {
   "cell_type": "code",
   "execution_count": 431,
   "id": "6d72de12",
   "metadata": {},
   "outputs": [],
   "source": [
    "def test(df, colonnes):\n",
    "    # On compare la taille du dataframe avant et après suppression des doublons\n",
    "    if df.size == df.drop_duplicates(colonnes).size :\n",
    "        print(\"La clé n'est pas présente plusieurs fois dans le dataframe.\")\n",
    "        print(\"Elle peut donc être utilisée comme clé primaire.\".format(colonnes))\n",
    "    else :\n",
    "        print(\"La clé est présente plusieurs fois dans le dataframe.\")\n",
    "        print(\"Elle ne peut donc pas être utilisée comme clé primaire.\".format(colonnes))\n",
    "    \n",
    "    # Affichage du nombre de lignes et colonnes du dataframe\n",
    "    print(\"Le dataframe est de la forme : {} (lignes, colonnes)\".format(df.shape))"
   ]
  },
  {
   "cell_type": "markdown",
   "id": "d4353f66",
   "metadata": {},
   "source": [
    "###  <font color='blue'>Dataframe erp"
   ]
  },
  {
   "cell_type": "code",
   "execution_count": 432,
   "id": "5653ed12",
   "metadata": {},
   "outputs": [
    {
     "data": {
      "text/html": [
       "<div>\n",
       "<style scoped>\n",
       "    .dataframe tbody tr th:only-of-type {\n",
       "        vertical-align: middle;\n",
       "    }\n",
       "\n",
       "    .dataframe tbody tr th {\n",
       "        vertical-align: top;\n",
       "    }\n",
       "\n",
       "    .dataframe thead th {\n",
       "        text-align: right;\n",
       "    }\n",
       "</style>\n",
       "<table border=\"1\" class=\"dataframe\">\n",
       "  <thead>\n",
       "    <tr style=\"text-align: right;\">\n",
       "      <th></th>\n",
       "      <th>product_id</th>\n",
       "      <th>onsale_web</th>\n",
       "      <th>price</th>\n",
       "      <th>stock_quantity</th>\n",
       "      <th>stock_status</th>\n",
       "    </tr>\n",
       "  </thead>\n",
       "  <tbody>\n",
       "  </tbody>\n",
       "</table>\n",
       "</div>"
      ],
      "text/plain": [
       "Empty DataFrame\n",
       "Columns: [product_id, onsale_web, price, stock_quantity, stock_status]\n",
       "Index: []"
      ]
     },
     "execution_count": 432,
     "metadata": {},
     "output_type": "execute_result"
    }
   ],
   "source": [
    "erp.loc[erp['product_id'].duplicated(keep=False),:]"
   ]
  },
  {
   "cell_type": "code",
   "execution_count": 433,
   "id": "46d88d37",
   "metadata": {},
   "outputs": [
    {
     "name": "stdout",
     "output_type": "stream",
     "text": [
      "4125\n"
     ]
    },
    {
     "data": {
      "text/plain": [
       "4125"
      ]
     },
     "execution_count": 433,
     "metadata": {},
     "output_type": "execute_result"
    }
   ],
   "source": [
    "#Vérification de la taille du datafrmae avant et après dédoublonnage\n",
    "print(erp.size)\n",
    "erp.drop_duplicates(['product_id']).size"
   ]
  },
  {
   "cell_type": "markdown",
   "id": "062d159d",
   "metadata": {},
   "source": [
    "Le dataframe erp comporte 4125 valeurs avant et après dédoublonnage, il ne contient alors aucun doublons."
   ]
  },
  {
   "cell_type": "code",
   "execution_count": 434,
   "id": "6f9188be",
   "metadata": {},
   "outputs": [
    {
     "name": "stdout",
     "output_type": "stream",
     "text": [
      "La clé n'est pas présente plusieurs fois dans le dataframe.\n",
      "Elle peut donc être utilisée comme clé primaire.\n",
      "Le dataframe est de la forme : (825, 5) (lignes, colonnes)\n"
     ]
    }
   ],
   "source": [
    "#Test de la clé primaire\n",
    "test(erp,['product_id'])"
   ]
  },
  {
   "cell_type": "markdown",
   "id": "2cd59c8b",
   "metadata": {},
   "source": [
    "La clé primaire est bien unique."
   ]
  },
  {
   "cell_type": "markdown",
   "id": "332ffaab",
   "metadata": {},
   "source": [
    "###  <font color='blue'>Dataframe web"
   ]
  },
  {
   "cell_type": "code",
   "execution_count": 435,
   "id": "f0702b50",
   "metadata": {
    "scrolled": false
   },
   "outputs": [
    {
     "data": {
      "text/html": [
       "<div>\n",
       "<style scoped>\n",
       "    .dataframe tbody tr th:only-of-type {\n",
       "        vertical-align: middle;\n",
       "    }\n",
       "\n",
       "    .dataframe tbody tr th {\n",
       "        vertical-align: top;\n",
       "    }\n",
       "\n",
       "    .dataframe thead th {\n",
       "        text-align: right;\n",
       "    }\n",
       "</style>\n",
       "<table border=\"1\" class=\"dataframe\">\n",
       "  <thead>\n",
       "    <tr style=\"text-align: right;\">\n",
       "      <th></th>\n",
       "      <th>sku</th>\n",
       "      <th>virtual</th>\n",
       "      <th>downloadable</th>\n",
       "      <th>rating_count</th>\n",
       "      <th>average_rating</th>\n",
       "      <th>total_sales</th>\n",
       "      <th>tax_status</th>\n",
       "      <th>tax_class</th>\n",
       "      <th>post_author</th>\n",
       "      <th>post_date</th>\n",
       "      <th>...</th>\n",
       "      <th>post_name</th>\n",
       "      <th>post_modified</th>\n",
       "      <th>post_modified_gmt</th>\n",
       "      <th>post_content_filtered</th>\n",
       "      <th>post_parent</th>\n",
       "      <th>guid</th>\n",
       "      <th>menu_order</th>\n",
       "      <th>post_type</th>\n",
       "      <th>post_mime_type</th>\n",
       "      <th>comment_count</th>\n",
       "    </tr>\n",
       "  </thead>\n",
       "  <tbody>\n",
       "    <tr>\n",
       "      <th>0</th>\n",
       "      <td>bon-cadeau-25-euros</td>\n",
       "      <td>0</td>\n",
       "      <td>0</td>\n",
       "      <td>0</td>\n",
       "      <td>0.0</td>\n",
       "      <td>10.0</td>\n",
       "      <td>taxable</td>\n",
       "      <td>NaN</td>\n",
       "      <td>1.0</td>\n",
       "      <td>2018-06-01 13:53:46</td>\n",
       "      <td>...</td>\n",
       "      <td>bon-cadeau-de-25-euros</td>\n",
       "      <td>2018-06-01 14:13:57</td>\n",
       "      <td>2018-06-01 12:13:57</td>\n",
       "      <td>NaN</td>\n",
       "      <td>0.0</td>\n",
       "      <td>https://www.bottle-neck.fr/?post_type=product&amp;...</td>\n",
       "      <td>0.0</td>\n",
       "      <td>product</td>\n",
       "      <td>NaN</td>\n",
       "      <td>0.0</td>\n",
       "    </tr>\n",
       "    <tr>\n",
       "      <th>1</th>\n",
       "      <td>15298</td>\n",
       "      <td>0</td>\n",
       "      <td>0</td>\n",
       "      <td>0</td>\n",
       "      <td>0.0</td>\n",
       "      <td>6.0</td>\n",
       "      <td>taxable</td>\n",
       "      <td>NaN</td>\n",
       "      <td>2.0</td>\n",
       "      <td>2018-02-08 12:58:52</td>\n",
       "      <td>...</td>\n",
       "      <td>pierre-jean-villa-saint-joseph-preface-2018</td>\n",
       "      <td>2019-12-30 09:30:29</td>\n",
       "      <td>2019-12-30 08:30:29</td>\n",
       "      <td>NaN</td>\n",
       "      <td>0.0</td>\n",
       "      <td>https://www.bottle-neck.fr/?post_type=product&amp;...</td>\n",
       "      <td>0.0</td>\n",
       "      <td>product</td>\n",
       "      <td>NaN</td>\n",
       "      <td>0.0</td>\n",
       "    </tr>\n",
       "    <tr>\n",
       "      <th>2</th>\n",
       "      <td>15296</td>\n",
       "      <td>0</td>\n",
       "      <td>0</td>\n",
       "      <td>0</td>\n",
       "      <td>0.0</td>\n",
       "      <td>0.0</td>\n",
       "      <td>taxable</td>\n",
       "      <td>NaN</td>\n",
       "      <td>2.0</td>\n",
       "      <td>2018-02-08 13:49:41</td>\n",
       "      <td>...</td>\n",
       "      <td>pierre-jean-villa-saint-joseph-tilde-2017</td>\n",
       "      <td>2019-12-21 09:00:17</td>\n",
       "      <td>2019-12-21 08:00:17</td>\n",
       "      <td>NaN</td>\n",
       "      <td>0.0</td>\n",
       "      <td>https://www.bottle-neck.fr/?post_type=product&amp;...</td>\n",
       "      <td>0.0</td>\n",
       "      <td>product</td>\n",
       "      <td>NaN</td>\n",
       "      <td>0.0</td>\n",
       "    </tr>\n",
       "    <tr>\n",
       "      <th>3</th>\n",
       "      <td>15300</td>\n",
       "      <td>0</td>\n",
       "      <td>0</td>\n",
       "      <td>0</td>\n",
       "      <td>0.0</td>\n",
       "      <td>0.0</td>\n",
       "      <td>taxable</td>\n",
       "      <td>NaN</td>\n",
       "      <td>2.0</td>\n",
       "      <td>2018-02-08 14:08:36</td>\n",
       "      <td>...</td>\n",
       "      <td>pierre-jean-villa-croze-hermitage-accroche-coe...</td>\n",
       "      <td>2020-06-26 18:15:03</td>\n",
       "      <td>2020-06-26 16:15:03</td>\n",
       "      <td>NaN</td>\n",
       "      <td>0.0</td>\n",
       "      <td>https://www.bottle-neck.fr/?post_type=product&amp;...</td>\n",
       "      <td>0.0</td>\n",
       "      <td>product</td>\n",
       "      <td>NaN</td>\n",
       "      <td>0.0</td>\n",
       "    </tr>\n",
       "    <tr>\n",
       "      <th>4</th>\n",
       "      <td>19814</td>\n",
       "      <td>0</td>\n",
       "      <td>0</td>\n",
       "      <td>0</td>\n",
       "      <td>0.0</td>\n",
       "      <td>3.0</td>\n",
       "      <td>taxable</td>\n",
       "      <td>NaN</td>\n",
       "      <td>2.0</td>\n",
       "      <td>2018-02-09 14:01:05</td>\n",
       "      <td>...</td>\n",
       "      <td>pierre-jean-villa-igp-gamine-2018</td>\n",
       "      <td>2020-01-04 16:36:01</td>\n",
       "      <td>2020-01-04 15:36:01</td>\n",
       "      <td>NaN</td>\n",
       "      <td>0.0</td>\n",
       "      <td>https://www.bottle-neck.fr/?post_type=product&amp;...</td>\n",
       "      <td>0.0</td>\n",
       "      <td>product</td>\n",
       "      <td>NaN</td>\n",
       "      <td>0.0</td>\n",
       "    </tr>\n",
       "    <tr>\n",
       "      <th>...</th>\n",
       "      <td>...</td>\n",
       "      <td>...</td>\n",
       "      <td>...</td>\n",
       "      <td>...</td>\n",
       "      <td>...</td>\n",
       "      <td>...</td>\n",
       "      <td>...</td>\n",
       "      <td>...</td>\n",
       "      <td>...</td>\n",
       "      <td>...</td>\n",
       "      <td>...</td>\n",
       "      <td>...</td>\n",
       "      <td>...</td>\n",
       "      <td>...</td>\n",
       "      <td>...</td>\n",
       "      <td>...</td>\n",
       "      <td>...</td>\n",
       "      <td>...</td>\n",
       "      <td>...</td>\n",
       "      <td>...</td>\n",
       "      <td>...</td>\n",
       "    </tr>\n",
       "    <tr>\n",
       "      <th>1508</th>\n",
       "      <td>16135</td>\n",
       "      <td>0</td>\n",
       "      <td>0</td>\n",
       "      <td>0</td>\n",
       "      <td>0.0</td>\n",
       "      <td>5.0</td>\n",
       "      <td>NaN</td>\n",
       "      <td>NaN</td>\n",
       "      <td>2.0</td>\n",
       "      <td>2020-04-25 13:22:38</td>\n",
       "      <td>...</td>\n",
       "      <td>mouthes-le-bihan-aime-chai-2015</td>\n",
       "      <td>2020-08-26 17:35:03</td>\n",
       "      <td>2020-08-26 15:35:03</td>\n",
       "      <td>NaN</td>\n",
       "      <td>0.0</td>\n",
       "      <td>https://www.bottle-neck.fr/wp-content/uploads/...</td>\n",
       "      <td>0.0</td>\n",
       "      <td>attachment</td>\n",
       "      <td>image/jpeg</td>\n",
       "      <td>0.0</td>\n",
       "    </tr>\n",
       "    <tr>\n",
       "      <th>1509</th>\n",
       "      <td>15891</td>\n",
       "      <td>0</td>\n",
       "      <td>0</td>\n",
       "      <td>0</td>\n",
       "      <td>0.0</td>\n",
       "      <td>0.0</td>\n",
       "      <td>NaN</td>\n",
       "      <td>NaN</td>\n",
       "      <td>2.0</td>\n",
       "      <td>2020-05-02 14:53:40</td>\n",
       "      <td>...</td>\n",
       "      <td>camin-larredya-jurancon-sec-la-virada-2018</td>\n",
       "      <td>2020-08-26 17:35:02</td>\n",
       "      <td>2020-08-26 15:35:02</td>\n",
       "      <td>NaN</td>\n",
       "      <td>0.0</td>\n",
       "      <td>https://www.bottle-neck.fr/wp-content/uploads/...</td>\n",
       "      <td>0.0</td>\n",
       "      <td>attachment</td>\n",
       "      <td>image/jpeg</td>\n",
       "      <td>0.0</td>\n",
       "    </tr>\n",
       "    <tr>\n",
       "      <th>1510</th>\n",
       "      <td>15887</td>\n",
       "      <td>0</td>\n",
       "      <td>0</td>\n",
       "      <td>0</td>\n",
       "      <td>0.0</td>\n",
       "      <td>0.0</td>\n",
       "      <td>NaN</td>\n",
       "      <td>NaN</td>\n",
       "      <td>2.0</td>\n",
       "      <td>2020-05-02 15:00:54</td>\n",
       "      <td>...</td>\n",
       "      <td>jamet-cote-rotie-fructus-voluptas-2018</td>\n",
       "      <td>2020-08-14 18:15:03</td>\n",
       "      <td>2020-08-14 16:15:03</td>\n",
       "      <td>NaN</td>\n",
       "      <td>0.0</td>\n",
       "      <td>https://www.bottle-neck.fr/wp-content/uploads/...</td>\n",
       "      <td>0.0</td>\n",
       "      <td>attachment</td>\n",
       "      <td>image/jpeg</td>\n",
       "      <td>0.0</td>\n",
       "    </tr>\n",
       "    <tr>\n",
       "      <th>1511</th>\n",
       "      <td>13127-1</td>\n",
       "      <td>0</td>\n",
       "      <td>0</td>\n",
       "      <td>0</td>\n",
       "      <td>0.0</td>\n",
       "      <td>0.0</td>\n",
       "      <td>NaN</td>\n",
       "      <td>NaN</td>\n",
       "      <td>2.0</td>\n",
       "      <td>2020-06-09 15:42:04</td>\n",
       "      <td>...</td>\n",
       "      <td>clos-du-mont-olivet-chateauneuf-du-pape-2007-2</td>\n",
       "      <td>2020-07-20 17:09:06</td>\n",
       "      <td>2020-07-20 15:09:06</td>\n",
       "      <td>NaN</td>\n",
       "      <td>0.0</td>\n",
       "      <td>https://www.bottle-neck.fr/wp-content/uploads/...</td>\n",
       "      <td>0.0</td>\n",
       "      <td>attachment</td>\n",
       "      <td>image/jpeg</td>\n",
       "      <td>0.0</td>\n",
       "    </tr>\n",
       "    <tr>\n",
       "      <th>1512</th>\n",
       "      <td>16230</td>\n",
       "      <td>0</td>\n",
       "      <td>0</td>\n",
       "      <td>0</td>\n",
       "      <td>0.0</td>\n",
       "      <td>0.0</td>\n",
       "      <td>NaN</td>\n",
       "      <td>NaN</td>\n",
       "      <td>2.0</td>\n",
       "      <td>2020-07-20 11:00:00</td>\n",
       "      <td>...</td>\n",
       "      <td>domaine-saint-nicolas-fiefs-vendeens-blanc-les...</td>\n",
       "      <td>2020-08-13 10:45:03</td>\n",
       "      <td>2020-08-13 08:45:03</td>\n",
       "      <td>NaN</td>\n",
       "      <td>0.0</td>\n",
       "      <td>https://www.bottle-neck.fr/wp-content/uploads/...</td>\n",
       "      <td>0.0</td>\n",
       "      <td>attachment</td>\n",
       "      <td>image/jpeg</td>\n",
       "      <td>0.0</td>\n",
       "    </tr>\n",
       "  </tbody>\n",
       "</table>\n",
       "<p>1513 rows × 28 columns</p>\n",
       "</div>"
      ],
      "text/plain": [
       "                      sku  virtual  downloadable  rating_count  \\\n",
       "0     bon-cadeau-25-euros        0             0             0   \n",
       "1                   15298        0             0             0   \n",
       "2                   15296        0             0             0   \n",
       "3                   15300        0             0             0   \n",
       "4                   19814        0             0             0   \n",
       "...                   ...      ...           ...           ...   \n",
       "1508                16135        0             0             0   \n",
       "1509                15891        0             0             0   \n",
       "1510                15887        0             0             0   \n",
       "1511              13127-1        0             0             0   \n",
       "1512                16230        0             0             0   \n",
       "\n",
       "      average_rating  total_sales tax_status  tax_class  post_author  \\\n",
       "0                0.0         10.0    taxable        NaN          1.0   \n",
       "1                0.0          6.0    taxable        NaN          2.0   \n",
       "2                0.0          0.0    taxable        NaN          2.0   \n",
       "3                0.0          0.0    taxable        NaN          2.0   \n",
       "4                0.0          3.0    taxable        NaN          2.0   \n",
       "...              ...          ...        ...        ...          ...   \n",
       "1508             0.0          5.0        NaN        NaN          2.0   \n",
       "1509             0.0          0.0        NaN        NaN          2.0   \n",
       "1510             0.0          0.0        NaN        NaN          2.0   \n",
       "1511             0.0          0.0        NaN        NaN          2.0   \n",
       "1512             0.0          0.0        NaN        NaN          2.0   \n",
       "\n",
       "               post_date  ...  \\\n",
       "0    2018-06-01 13:53:46  ...   \n",
       "1    2018-02-08 12:58:52  ...   \n",
       "2    2018-02-08 13:49:41  ...   \n",
       "3    2018-02-08 14:08:36  ...   \n",
       "4    2018-02-09 14:01:05  ...   \n",
       "...                  ...  ...   \n",
       "1508 2020-04-25 13:22:38  ...   \n",
       "1509 2020-05-02 14:53:40  ...   \n",
       "1510 2020-05-02 15:00:54  ...   \n",
       "1511 2020-06-09 15:42:04  ...   \n",
       "1512 2020-07-20 11:00:00  ...   \n",
       "\n",
       "                                              post_name       post_modified  \\\n",
       "0                                bon-cadeau-de-25-euros 2018-06-01 14:13:57   \n",
       "1           pierre-jean-villa-saint-joseph-preface-2018 2019-12-30 09:30:29   \n",
       "2             pierre-jean-villa-saint-joseph-tilde-2017 2019-12-21 09:00:17   \n",
       "3     pierre-jean-villa-croze-hermitage-accroche-coe... 2020-06-26 18:15:03   \n",
       "4                     pierre-jean-villa-igp-gamine-2018 2020-01-04 16:36:01   \n",
       "...                                                 ...                 ...   \n",
       "1508                    mouthes-le-bihan-aime-chai-2015 2020-08-26 17:35:03   \n",
       "1509         camin-larredya-jurancon-sec-la-virada-2018 2020-08-26 17:35:02   \n",
       "1510             jamet-cote-rotie-fructus-voluptas-2018 2020-08-14 18:15:03   \n",
       "1511     clos-du-mont-olivet-chateauneuf-du-pape-2007-2 2020-07-20 17:09:06   \n",
       "1512  domaine-saint-nicolas-fiefs-vendeens-blanc-les... 2020-08-13 10:45:03   \n",
       "\n",
       "       post_modified_gmt post_content_filtered post_parent  \\\n",
       "0    2018-06-01 12:13:57                   NaN         0.0   \n",
       "1    2019-12-30 08:30:29                   NaN         0.0   \n",
       "2    2019-12-21 08:00:17                   NaN         0.0   \n",
       "3    2020-06-26 16:15:03                   NaN         0.0   \n",
       "4    2020-01-04 15:36:01                   NaN         0.0   \n",
       "...                  ...                   ...         ...   \n",
       "1508 2020-08-26 15:35:03                   NaN         0.0   \n",
       "1509 2020-08-26 15:35:02                   NaN         0.0   \n",
       "1510 2020-08-14 16:15:03                   NaN         0.0   \n",
       "1511 2020-07-20 15:09:06                   NaN         0.0   \n",
       "1512 2020-08-13 08:45:03                   NaN         0.0   \n",
       "\n",
       "                                                   guid menu_order  \\\n",
       "0     https://www.bottle-neck.fr/?post_type=product&...        0.0   \n",
       "1     https://www.bottle-neck.fr/?post_type=product&...        0.0   \n",
       "2     https://www.bottle-neck.fr/?post_type=product&...        0.0   \n",
       "3     https://www.bottle-neck.fr/?post_type=product&...        0.0   \n",
       "4     https://www.bottle-neck.fr/?post_type=product&...        0.0   \n",
       "...                                                 ...        ...   \n",
       "1508  https://www.bottle-neck.fr/wp-content/uploads/...        0.0   \n",
       "1509  https://www.bottle-neck.fr/wp-content/uploads/...        0.0   \n",
       "1510  https://www.bottle-neck.fr/wp-content/uploads/...        0.0   \n",
       "1511  https://www.bottle-neck.fr/wp-content/uploads/...        0.0   \n",
       "1512  https://www.bottle-neck.fr/wp-content/uploads/...        0.0   \n",
       "\n",
       "       post_type post_mime_type comment_count  \n",
       "0        product            NaN           0.0  \n",
       "1        product            NaN           0.0  \n",
       "2        product            NaN           0.0  \n",
       "3        product            NaN           0.0  \n",
       "4        product            NaN           0.0  \n",
       "...          ...            ...           ...  \n",
       "1508  attachment     image/jpeg           0.0  \n",
       "1509  attachment     image/jpeg           0.0  \n",
       "1510  attachment     image/jpeg           0.0  \n",
       "1511  attachment     image/jpeg           0.0  \n",
       "1512  attachment     image/jpeg           0.0  \n",
       "\n",
       "[1513 rows x 28 columns]"
      ]
     },
     "execution_count": 435,
     "metadata": {},
     "output_type": "execute_result"
    }
   ],
   "source": [
    "web.loc[web['sku'].duplicated(keep=False),:]"
   ]
  },
  {
   "cell_type": "code",
   "execution_count": 436,
   "id": "424e8383",
   "metadata": {},
   "outputs": [
    {
     "name": "stdout",
     "output_type": "stream",
     "text": [
      "42364\n"
     ]
    },
    {
     "data": {
      "text/plain": [
       "20020"
      ]
     },
     "execution_count": 436,
     "metadata": {},
     "output_type": "execute_result"
    }
   ],
   "source": [
    "#Vérification de la taille du dataframe avant et après dédoublonnage\n",
    "print(web.size)\n",
    "web.drop_duplicates(['sku']).size"
   ]
  },
  {
   "cell_type": "markdown",
   "id": "2be05d92",
   "metadata": {},
   "source": [
    "Le dataframe web a 42364 valeurs avant dédoublonnage et 20020 après,il contient alors des doublons."
   ]
  },
  {
   "cell_type": "code",
   "execution_count": 437,
   "id": "1a0d2517",
   "metadata": {},
   "outputs": [
    {
     "name": "stdout",
     "output_type": "stream",
     "text": [
      "La clé est présente plusieurs fois dans le dataframe.\n",
      "Elle ne peut donc pas être utilisée comme clé primaire.\n",
      "Le dataframe est de la forme : (1513, 28) (lignes, colonnes)\n"
     ]
    }
   ],
   "source": [
    "#Test de la clé primaire \n",
    "test(web,['sku'])"
   ]
  },
  {
   "cell_type": "markdown",
   "id": "619a918e",
   "metadata": {},
   "source": [
    "* Recherche d'un dataframe web sans doublons"
   ]
  },
  {
   "cell_type": "code",
   "execution_count": 438,
   "id": "cf08b547",
   "metadata": {},
   "outputs": [
    {
     "data": {
      "text/html": [
       "<div>\n",
       "<style scoped>\n",
       "    .dataframe tbody tr th:only-of-type {\n",
       "        vertical-align: middle;\n",
       "    }\n",
       "\n",
       "    .dataframe tbody tr th {\n",
       "        vertical-align: top;\n",
       "    }\n",
       "\n",
       "    .dataframe thead th {\n",
       "        text-align: right;\n",
       "    }\n",
       "</style>\n",
       "<table border=\"1\" class=\"dataframe\">\n",
       "  <thead>\n",
       "    <tr style=\"text-align: right;\">\n",
       "      <th></th>\n",
       "      <th>sku</th>\n",
       "      <th>virtual</th>\n",
       "      <th>downloadable</th>\n",
       "      <th>rating_count</th>\n",
       "      <th>average_rating</th>\n",
       "      <th>total_sales</th>\n",
       "      <th>tax_status</th>\n",
       "      <th>tax_class</th>\n",
       "      <th>post_author</th>\n",
       "      <th>post_date</th>\n",
       "      <th>...</th>\n",
       "      <th>post_name</th>\n",
       "      <th>post_modified</th>\n",
       "      <th>post_modified_gmt</th>\n",
       "      <th>post_content_filtered</th>\n",
       "      <th>post_parent</th>\n",
       "      <th>guid</th>\n",
       "      <th>menu_order</th>\n",
       "      <th>post_type</th>\n",
       "      <th>post_mime_type</th>\n",
       "      <th>comment_count</th>\n",
       "    </tr>\n",
       "  </thead>\n",
       "  <tbody>\n",
       "    <tr>\n",
       "      <th>178</th>\n",
       "      <td>NaN</td>\n",
       "      <td>0</td>\n",
       "      <td>0</td>\n",
       "      <td>0</td>\n",
       "      <td>NaN</td>\n",
       "      <td>NaN</td>\n",
       "      <td>NaN</td>\n",
       "      <td>NaN</td>\n",
       "      <td>NaN</td>\n",
       "      <td>NaT</td>\n",
       "      <td>...</td>\n",
       "      <td>NaN</td>\n",
       "      <td>NaT</td>\n",
       "      <td>NaT</td>\n",
       "      <td>NaN</td>\n",
       "      <td>NaN</td>\n",
       "      <td>NaN</td>\n",
       "      <td>NaN</td>\n",
       "      <td>NaN</td>\n",
       "      <td>NaN</td>\n",
       "      <td>NaN</td>\n",
       "    </tr>\n",
       "    <tr>\n",
       "      <th>179</th>\n",
       "      <td>NaN</td>\n",
       "      <td>0</td>\n",
       "      <td>0</td>\n",
       "      <td>0</td>\n",
       "      <td>NaN</td>\n",
       "      <td>NaN</td>\n",
       "      <td>NaN</td>\n",
       "      <td>NaN</td>\n",
       "      <td>NaN</td>\n",
       "      <td>NaT</td>\n",
       "      <td>...</td>\n",
       "      <td>NaN</td>\n",
       "      <td>NaT</td>\n",
       "      <td>NaT</td>\n",
       "      <td>NaN</td>\n",
       "      <td>NaN</td>\n",
       "      <td>NaN</td>\n",
       "      <td>NaN</td>\n",
       "      <td>NaN</td>\n",
       "      <td>NaN</td>\n",
       "      <td>NaN</td>\n",
       "    </tr>\n",
       "    <tr>\n",
       "      <th>227</th>\n",
       "      <td>NaN</td>\n",
       "      <td>0</td>\n",
       "      <td>0</td>\n",
       "      <td>0</td>\n",
       "      <td>NaN</td>\n",
       "      <td>NaN</td>\n",
       "      <td>NaN</td>\n",
       "      <td>NaN</td>\n",
       "      <td>NaN</td>\n",
       "      <td>NaT</td>\n",
       "      <td>...</td>\n",
       "      <td>NaN</td>\n",
       "      <td>NaT</td>\n",
       "      <td>NaT</td>\n",
       "      <td>NaN</td>\n",
       "      <td>NaN</td>\n",
       "      <td>NaN</td>\n",
       "      <td>NaN</td>\n",
       "      <td>NaN</td>\n",
       "      <td>NaN</td>\n",
       "      <td>NaN</td>\n",
       "    </tr>\n",
       "    <tr>\n",
       "      <th>230</th>\n",
       "      <td>NaN</td>\n",
       "      <td>0</td>\n",
       "      <td>0</td>\n",
       "      <td>0</td>\n",
       "      <td>NaN</td>\n",
       "      <td>NaN</td>\n",
       "      <td>NaN</td>\n",
       "      <td>NaN</td>\n",
       "      <td>NaN</td>\n",
       "      <td>NaT</td>\n",
       "      <td>...</td>\n",
       "      <td>NaN</td>\n",
       "      <td>NaT</td>\n",
       "      <td>NaT</td>\n",
       "      <td>NaN</td>\n",
       "      <td>NaN</td>\n",
       "      <td>NaN</td>\n",
       "      <td>NaN</td>\n",
       "      <td>NaN</td>\n",
       "      <td>NaN</td>\n",
       "      <td>NaN</td>\n",
       "    </tr>\n",
       "    <tr>\n",
       "      <th>231</th>\n",
       "      <td>NaN</td>\n",
       "      <td>0</td>\n",
       "      <td>0</td>\n",
       "      <td>0</td>\n",
       "      <td>NaN</td>\n",
       "      <td>NaN</td>\n",
       "      <td>NaN</td>\n",
       "      <td>NaN</td>\n",
       "      <td>NaN</td>\n",
       "      <td>NaT</td>\n",
       "      <td>...</td>\n",
       "      <td>NaN</td>\n",
       "      <td>NaT</td>\n",
       "      <td>NaT</td>\n",
       "      <td>NaN</td>\n",
       "      <td>NaN</td>\n",
       "      <td>NaN</td>\n",
       "      <td>NaN</td>\n",
       "      <td>NaN</td>\n",
       "      <td>NaN</td>\n",
       "      <td>NaN</td>\n",
       "    </tr>\n",
       "  </tbody>\n",
       "</table>\n",
       "<p>5 rows × 28 columns</p>\n",
       "</div>"
      ],
      "text/plain": [
       "     sku  virtual  downloadable  rating_count  average_rating  total_sales  \\\n",
       "178  NaN        0             0             0             NaN          NaN   \n",
       "179  NaN        0             0             0             NaN          NaN   \n",
       "227  NaN        0             0             0             NaN          NaN   \n",
       "230  NaN        0             0             0             NaN          NaN   \n",
       "231  NaN        0             0             0             NaN          NaN   \n",
       "\n",
       "    tax_status  tax_class  post_author post_date  ... post_name  \\\n",
       "178        NaN        NaN          NaN       NaT  ...       NaN   \n",
       "179        NaN        NaN          NaN       NaT  ...       NaN   \n",
       "227        NaN        NaN          NaN       NaT  ...       NaN   \n",
       "230        NaN        NaN          NaN       NaT  ...       NaN   \n",
       "231        NaN        NaN          NaN       NaT  ...       NaN   \n",
       "\n",
       "     post_modified post_modified_gmt post_content_filtered post_parent guid  \\\n",
       "178            NaT               NaT                   NaN         NaN  NaN   \n",
       "179            NaT               NaT                   NaN         NaN  NaN   \n",
       "227            NaT               NaT                   NaN         NaN  NaN   \n",
       "230            NaT               NaT                   NaN         NaN  NaN   \n",
       "231            NaT               NaT                   NaN         NaN  NaN   \n",
       "\n",
       "    menu_order  post_type post_mime_type comment_count  \n",
       "178        NaN        NaN            NaN           NaN  \n",
       "179        NaN        NaN            NaN           NaN  \n",
       "227        NaN        NaN            NaN           NaN  \n",
       "230        NaN        NaN            NaN           NaN  \n",
       "231        NaN        NaN            NaN           NaN  \n",
       "\n",
       "[5 rows x 28 columns]"
      ]
     },
     "execution_count": 438,
     "metadata": {},
     "output_type": "execute_result"
    }
   ],
   "source": [
    "# Observation des valeurs NaN de la colonne ['sku'] par la création d'un nouveau dataframe \n",
    "web_null = web[web['sku'].isnull()]\n",
    "web_null.head()"
   ]
  },
  {
   "cell_type": "markdown",
   "id": "eb994d40",
   "metadata": {},
   "source": [
    "On constate qu'il 5 sku qui ont des valeurs en NaN, mais nous allons vérifier s'il y a des colonnes contenant des informations présentes dans ses lignes."
   ]
  },
  {
   "cell_type": "code",
   "execution_count": 439,
   "id": "864debdb",
   "metadata": {},
   "outputs": [
    {
     "name": "stdout",
     "output_type": "stream",
     "text": [
      "(85, 28)\n",
      "\n",
      "<class 'pandas.core.frame.DataFrame'>\n",
      "Int64Index: 85 entries, 178 to 796\n",
      "Data columns (total 28 columns):\n",
      " #   Column                 Non-Null Count  Dtype         \n",
      "---  ------                 --------------  -----         \n",
      " 0   sku                    0 non-null      object        \n",
      " 1   virtual                85 non-null     int64         \n",
      " 2   downloadable           85 non-null     int64         \n",
      " 3   rating_count           85 non-null     int64         \n",
      " 4   average_rating         2 non-null      float64       \n",
      " 5   total_sales            2 non-null      float64       \n",
      " 6   tax_status             2 non-null      object        \n",
      " 7   tax_class              0 non-null      float64       \n",
      " 8   post_author            2 non-null      float64       \n",
      " 9   post_date              2 non-null      datetime64[ns]\n",
      " 10  post_date_gmt          2 non-null      datetime64[ns]\n",
      " 11  post_content           0 non-null      float64       \n",
      " 12  post_title             2 non-null      object        \n",
      " 13  post_excerpt           2 non-null      object        \n",
      " 14  post_status            2 non-null      object        \n",
      " 15  comment_status         2 non-null      object        \n",
      " 16  ping_status            2 non-null      object        \n",
      " 17  post_password          0 non-null      float64       \n",
      " 18  post_name              2 non-null      object        \n",
      " 19  post_modified          2 non-null      datetime64[ns]\n",
      " 20  post_modified_gmt      2 non-null      datetime64[ns]\n",
      " 21  post_content_filtered  0 non-null      float64       \n",
      " 22  post_parent            2 non-null      float64       \n",
      " 23  guid                   2 non-null      object        \n",
      " 24  menu_order             2 non-null      float64       \n",
      " 25  post_type              2 non-null      object        \n",
      " 26  post_mime_type         0 non-null      object        \n",
      " 27  comment_count          2 non-null      float64       \n",
      "dtypes: datetime64[ns](4), float64(10), int64(3), object(11)\n",
      "memory usage: 19.3+ KB\n"
     ]
    }
   ],
   "source": [
    "# Observation des données filtrées\n",
    "print(web_null.shape)\n",
    "print('')\n",
    "web_null.info()"
   ]
  },
  {
   "cell_type": "code",
   "execution_count": 440,
   "id": "77612433",
   "metadata": {},
   "outputs": [
    {
     "name": "stdout",
     "output_type": "stream",
     "text": [
      "(2, 28)\n"
     ]
    },
    {
     "data": {
      "text/html": [
       "<div>\n",
       "<style scoped>\n",
       "    .dataframe tbody tr th:only-of-type {\n",
       "        vertical-align: middle;\n",
       "    }\n",
       "\n",
       "    .dataframe tbody tr th {\n",
       "        vertical-align: top;\n",
       "    }\n",
       "\n",
       "    .dataframe thead th {\n",
       "        text-align: right;\n",
       "    }\n",
       "</style>\n",
       "<table border=\"1\" class=\"dataframe\">\n",
       "  <thead>\n",
       "    <tr style=\"text-align: right;\">\n",
       "      <th></th>\n",
       "      <th>sku</th>\n",
       "      <th>virtual</th>\n",
       "      <th>downloadable</th>\n",
       "      <th>rating_count</th>\n",
       "      <th>average_rating</th>\n",
       "      <th>total_sales</th>\n",
       "      <th>tax_status</th>\n",
       "      <th>tax_class</th>\n",
       "      <th>post_author</th>\n",
       "      <th>post_date</th>\n",
       "      <th>...</th>\n",
       "      <th>post_name</th>\n",
       "      <th>post_modified</th>\n",
       "      <th>post_modified_gmt</th>\n",
       "      <th>post_content_filtered</th>\n",
       "      <th>post_parent</th>\n",
       "      <th>guid</th>\n",
       "      <th>menu_order</th>\n",
       "      <th>post_type</th>\n",
       "      <th>post_mime_type</th>\n",
       "      <th>comment_count</th>\n",
       "    </tr>\n",
       "  </thead>\n",
       "  <tbody>\n",
       "    <tr>\n",
       "      <th>470</th>\n",
       "      <td>NaN</td>\n",
       "      <td>0</td>\n",
       "      <td>0</td>\n",
       "      <td>0</td>\n",
       "      <td>0.0</td>\n",
       "      <td>0.0</td>\n",
       "      <td>taxable</td>\n",
       "      <td>NaN</td>\n",
       "      <td>2.0</td>\n",
       "      <td>2018-07-31 12:07:23</td>\n",
       "      <td>...</td>\n",
       "      <td>pierre-jean-villa-cote-rotie-fongeant-2017</td>\n",
       "      <td>2019-11-02 13:24:15</td>\n",
       "      <td>2019-11-02 12:24:15</td>\n",
       "      <td>NaN</td>\n",
       "      <td>0.0</td>\n",
       "      <td>https://www.bottle-neck.fr/?post_type=product&amp;...</td>\n",
       "      <td>0.0</td>\n",
       "      <td>product</td>\n",
       "      <td>NaN</td>\n",
       "      <td>0.0</td>\n",
       "    </tr>\n",
       "    <tr>\n",
       "      <th>471</th>\n",
       "      <td>NaN</td>\n",
       "      <td>0</td>\n",
       "      <td>0</td>\n",
       "      <td>0</td>\n",
       "      <td>0.0</td>\n",
       "      <td>0.0</td>\n",
       "      <td>taxable</td>\n",
       "      <td>NaN</td>\n",
       "      <td>2.0</td>\n",
       "      <td>2018-08-08 11:23:43</td>\n",
       "      <td>...</td>\n",
       "      <td>pierre-jean-villa-condrieu-suspendu-2018</td>\n",
       "      <td>2019-11-02 13:24:01</td>\n",
       "      <td>2019-11-02 12:24:01</td>\n",
       "      <td>NaN</td>\n",
       "      <td>0.0</td>\n",
       "      <td>https://www.bottle-neck.fr/?post_type=product&amp;...</td>\n",
       "      <td>0.0</td>\n",
       "      <td>product</td>\n",
       "      <td>NaN</td>\n",
       "      <td>0.0</td>\n",
       "    </tr>\n",
       "  </tbody>\n",
       "</table>\n",
       "<p>2 rows × 28 columns</p>\n",
       "</div>"
      ],
      "text/plain": [
       "     sku  virtual  downloadable  rating_count  average_rating  total_sales  \\\n",
       "470  NaN        0             0             0             0.0          0.0   \n",
       "471  NaN        0             0             0             0.0          0.0   \n",
       "\n",
       "    tax_status  tax_class  post_author           post_date  ...  \\\n",
       "470    taxable        NaN          2.0 2018-07-31 12:07:23  ...   \n",
       "471    taxable        NaN          2.0 2018-08-08 11:23:43  ...   \n",
       "\n",
       "                                      post_name       post_modified  \\\n",
       "470  pierre-jean-villa-cote-rotie-fongeant-2017 2019-11-02 13:24:15   \n",
       "471    pierre-jean-villa-condrieu-suspendu-2018 2019-11-02 13:24:01   \n",
       "\n",
       "      post_modified_gmt post_content_filtered post_parent  \\\n",
       "470 2019-11-02 12:24:15                   NaN         0.0   \n",
       "471 2019-11-02 12:24:01                   NaN         0.0   \n",
       "\n",
       "                                                  guid menu_order  post_type  \\\n",
       "470  https://www.bottle-neck.fr/?post_type=product&...        0.0    product   \n",
       "471  https://www.bottle-neck.fr/?post_type=product&...        0.0    product   \n",
       "\n",
       "    post_mime_type comment_count  \n",
       "470            NaN           0.0  \n",
       "471            NaN           0.0  \n",
       "\n",
       "[2 rows x 28 columns]"
      ]
     },
     "execution_count": 440,
     "metadata": {},
     "output_type": "execute_result"
    }
   ],
   "source": [
    "# vérification de lignes avec informations dans tout le nouveau dataset par la création d'un nouveau dataframe:web_obs\n",
    "web_obs = web_null[web_null['post_name'].notnull()]\n",
    "print(web_obs.shape)\n",
    "web_obs"
   ]
  },
  {
   "cell_type": "markdown",
   "id": "b340ac5c",
   "metadata": {},
   "source": [
    "Nous observons que malgré la présence du sku en NaN(pas un nombre), nous avons bien 2 lignes qui contiennent des informations.Nous ne pouvons donc pas les supprimer mais seront stocker dans ce dataframe web_obs."
   ]
  },
  {
   "cell_type": "code",
   "execution_count": 441,
   "id": "845553c8",
   "metadata": {},
   "outputs": [
    {
     "data": {
      "text/html": [
       "<div>\n",
       "<style scoped>\n",
       "    .dataframe tbody tr th:only-of-type {\n",
       "        vertical-align: middle;\n",
       "    }\n",
       "\n",
       "    .dataframe tbody tr th {\n",
       "        vertical-align: top;\n",
       "    }\n",
       "\n",
       "    .dataframe thead th {\n",
       "        text-align: right;\n",
       "    }\n",
       "</style>\n",
       "<table border=\"1\" class=\"dataframe\">\n",
       "  <thead>\n",
       "    <tr style=\"text-align: right;\">\n",
       "      <th></th>\n",
       "      <th>sku</th>\n",
       "      <th>virtual</th>\n",
       "      <th>downloadable</th>\n",
       "      <th>rating_count</th>\n",
       "      <th>average_rating</th>\n",
       "      <th>total_sales</th>\n",
       "      <th>tax_status</th>\n",
       "      <th>tax_class</th>\n",
       "      <th>post_author</th>\n",
       "      <th>post_date</th>\n",
       "      <th>...</th>\n",
       "      <th>post_name</th>\n",
       "      <th>post_modified</th>\n",
       "      <th>post_modified_gmt</th>\n",
       "      <th>post_content_filtered</th>\n",
       "      <th>post_parent</th>\n",
       "      <th>guid</th>\n",
       "      <th>menu_order</th>\n",
       "      <th>post_type</th>\n",
       "      <th>post_mime_type</th>\n",
       "      <th>comment_count</th>\n",
       "    </tr>\n",
       "  </thead>\n",
       "  <tbody>\n",
       "    <tr>\n",
       "      <th>0</th>\n",
       "      <td>bon-cadeau-25-euros</td>\n",
       "      <td>0</td>\n",
       "      <td>0</td>\n",
       "      <td>0</td>\n",
       "      <td>0.0</td>\n",
       "      <td>10.0</td>\n",
       "      <td>taxable</td>\n",
       "      <td>NaN</td>\n",
       "      <td>1.0</td>\n",
       "      <td>2018-06-01 13:53:46</td>\n",
       "      <td>...</td>\n",
       "      <td>bon-cadeau-de-25-euros</td>\n",
       "      <td>2018-06-01 14:13:57</td>\n",
       "      <td>2018-06-01 12:13:57</td>\n",
       "      <td>NaN</td>\n",
       "      <td>0.0</td>\n",
       "      <td>https://www.bottle-neck.fr/?post_type=product&amp;...</td>\n",
       "      <td>0.0</td>\n",
       "      <td>product</td>\n",
       "      <td>NaN</td>\n",
       "      <td>0.0</td>\n",
       "    </tr>\n",
       "    <tr>\n",
       "      <th>1</th>\n",
       "      <td>15298</td>\n",
       "      <td>0</td>\n",
       "      <td>0</td>\n",
       "      <td>0</td>\n",
       "      <td>0.0</td>\n",
       "      <td>6.0</td>\n",
       "      <td>taxable</td>\n",
       "      <td>NaN</td>\n",
       "      <td>2.0</td>\n",
       "      <td>2018-02-08 12:58:52</td>\n",
       "      <td>...</td>\n",
       "      <td>pierre-jean-villa-saint-joseph-preface-2018</td>\n",
       "      <td>2019-12-30 09:30:29</td>\n",
       "      <td>2019-12-30 08:30:29</td>\n",
       "      <td>NaN</td>\n",
       "      <td>0.0</td>\n",
       "      <td>https://www.bottle-neck.fr/?post_type=product&amp;...</td>\n",
       "      <td>0.0</td>\n",
       "      <td>product</td>\n",
       "      <td>NaN</td>\n",
       "      <td>0.0</td>\n",
       "    </tr>\n",
       "    <tr>\n",
       "      <th>2</th>\n",
       "      <td>15296</td>\n",
       "      <td>0</td>\n",
       "      <td>0</td>\n",
       "      <td>0</td>\n",
       "      <td>0.0</td>\n",
       "      <td>0.0</td>\n",
       "      <td>taxable</td>\n",
       "      <td>NaN</td>\n",
       "      <td>2.0</td>\n",
       "      <td>2018-02-08 13:49:41</td>\n",
       "      <td>...</td>\n",
       "      <td>pierre-jean-villa-saint-joseph-tilde-2017</td>\n",
       "      <td>2019-12-21 09:00:17</td>\n",
       "      <td>2019-12-21 08:00:17</td>\n",
       "      <td>NaN</td>\n",
       "      <td>0.0</td>\n",
       "      <td>https://www.bottle-neck.fr/?post_type=product&amp;...</td>\n",
       "      <td>0.0</td>\n",
       "      <td>product</td>\n",
       "      <td>NaN</td>\n",
       "      <td>0.0</td>\n",
       "    </tr>\n",
       "    <tr>\n",
       "      <th>3</th>\n",
       "      <td>15300</td>\n",
       "      <td>0</td>\n",
       "      <td>0</td>\n",
       "      <td>0</td>\n",
       "      <td>0.0</td>\n",
       "      <td>0.0</td>\n",
       "      <td>taxable</td>\n",
       "      <td>NaN</td>\n",
       "      <td>2.0</td>\n",
       "      <td>2018-02-08 14:08:36</td>\n",
       "      <td>...</td>\n",
       "      <td>pierre-jean-villa-croze-hermitage-accroche-coe...</td>\n",
       "      <td>2020-06-26 18:15:03</td>\n",
       "      <td>2020-06-26 16:15:03</td>\n",
       "      <td>NaN</td>\n",
       "      <td>0.0</td>\n",
       "      <td>https://www.bottle-neck.fr/?post_type=product&amp;...</td>\n",
       "      <td>0.0</td>\n",
       "      <td>product</td>\n",
       "      <td>NaN</td>\n",
       "      <td>0.0</td>\n",
       "    </tr>\n",
       "    <tr>\n",
       "      <th>4</th>\n",
       "      <td>19814</td>\n",
       "      <td>0</td>\n",
       "      <td>0</td>\n",
       "      <td>0</td>\n",
       "      <td>0.0</td>\n",
       "      <td>3.0</td>\n",
       "      <td>taxable</td>\n",
       "      <td>NaN</td>\n",
       "      <td>2.0</td>\n",
       "      <td>2018-02-09 14:01:05</td>\n",
       "      <td>...</td>\n",
       "      <td>pierre-jean-villa-igp-gamine-2018</td>\n",
       "      <td>2020-01-04 16:36:01</td>\n",
       "      <td>2020-01-04 15:36:01</td>\n",
       "      <td>NaN</td>\n",
       "      <td>0.0</td>\n",
       "      <td>https://www.bottle-neck.fr/?post_type=product&amp;...</td>\n",
       "      <td>0.0</td>\n",
       "      <td>product</td>\n",
       "      <td>NaN</td>\n",
       "      <td>0.0</td>\n",
       "    </tr>\n",
       "  </tbody>\n",
       "</table>\n",
       "<p>5 rows × 28 columns</p>\n",
       "</div>"
      ],
      "text/plain": [
       "                   sku  virtual  downloadable  rating_count  average_rating  \\\n",
       "0  bon-cadeau-25-euros        0             0             0             0.0   \n",
       "1                15298        0             0             0             0.0   \n",
       "2                15296        0             0             0             0.0   \n",
       "3                15300        0             0             0             0.0   \n",
       "4                19814        0             0             0             0.0   \n",
       "\n",
       "   total_sales tax_status  tax_class  post_author           post_date  ...  \\\n",
       "0         10.0    taxable        NaN          1.0 2018-06-01 13:53:46  ...   \n",
       "1          6.0    taxable        NaN          2.0 2018-02-08 12:58:52  ...   \n",
       "2          0.0    taxable        NaN          2.0 2018-02-08 13:49:41  ...   \n",
       "3          0.0    taxable        NaN          2.0 2018-02-08 14:08:36  ...   \n",
       "4          3.0    taxable        NaN          2.0 2018-02-09 14:01:05  ...   \n",
       "\n",
       "                                           post_name       post_modified  \\\n",
       "0                             bon-cadeau-de-25-euros 2018-06-01 14:13:57   \n",
       "1        pierre-jean-villa-saint-joseph-preface-2018 2019-12-30 09:30:29   \n",
       "2          pierre-jean-villa-saint-joseph-tilde-2017 2019-12-21 09:00:17   \n",
       "3  pierre-jean-villa-croze-hermitage-accroche-coe... 2020-06-26 18:15:03   \n",
       "4                  pierre-jean-villa-igp-gamine-2018 2020-01-04 16:36:01   \n",
       "\n",
       "    post_modified_gmt post_content_filtered post_parent  \\\n",
       "0 2018-06-01 12:13:57                   NaN         0.0   \n",
       "1 2019-12-30 08:30:29                   NaN         0.0   \n",
       "2 2019-12-21 08:00:17                   NaN         0.0   \n",
       "3 2020-06-26 16:15:03                   NaN         0.0   \n",
       "4 2020-01-04 15:36:01                   NaN         0.0   \n",
       "\n",
       "                                                guid menu_order  post_type  \\\n",
       "0  https://www.bottle-neck.fr/?post_type=product&...        0.0    product   \n",
       "1  https://www.bottle-neck.fr/?post_type=product&...        0.0    product   \n",
       "2  https://www.bottle-neck.fr/?post_type=product&...        0.0    product   \n",
       "3  https://www.bottle-neck.fr/?post_type=product&...        0.0    product   \n",
       "4  https://www.bottle-neck.fr/?post_type=product&...        0.0    product   \n",
       "\n",
       "  post_mime_type comment_count  \n",
       "0            NaN           0.0  \n",
       "1            NaN           0.0  \n",
       "2            NaN           0.0  \n",
       "3            NaN           0.0  \n",
       "4            NaN           0.0  \n",
       "\n",
       "[5 rows x 28 columns]"
      ]
     },
     "execution_count": 441,
     "metadata": {},
     "output_type": "execute_result"
    }
   ],
   "source": [
    "# Création d'un nouveau dataframe afin de conserver uniquement les lignes de 'sku' non_null\n",
    "web_notnull = web[web['sku'].notnull()]\n",
    "web_notnull.head()"
   ]
  },
  {
   "cell_type": "code",
   "execution_count": 442,
   "id": "bd3abee9",
   "metadata": {
    "scrolled": true
   },
   "outputs": [
    {
     "name": "stdout",
     "output_type": "stream",
     "text": [
      "(1428, 28)\n",
      "\n",
      "<class 'pandas.core.frame.DataFrame'>\n",
      "Int64Index: 1428 entries, 0 to 1512\n",
      "Data columns (total 28 columns):\n",
      " #   Column                 Non-Null Count  Dtype         \n",
      "---  ------                 --------------  -----         \n",
      " 0   sku                    1428 non-null   object        \n",
      " 1   virtual                1428 non-null   int64         \n",
      " 2   downloadable           1428 non-null   int64         \n",
      " 3   rating_count           1428 non-null   int64         \n",
      " 4   average_rating         1428 non-null   float64       \n",
      " 5   total_sales            1428 non-null   float64       \n",
      " 6   tax_status             714 non-null    object        \n",
      " 7   tax_class              0 non-null      float64       \n",
      " 8   post_author            1428 non-null   float64       \n",
      " 9   post_date              1428 non-null   datetime64[ns]\n",
      " 10  post_date_gmt          1428 non-null   datetime64[ns]\n",
      " 11  post_content           0 non-null      float64       \n",
      " 12  post_title             1428 non-null   object        \n",
      " 13  post_excerpt           714 non-null    object        \n",
      " 14  post_status            1428 non-null   object        \n",
      " 15  comment_status         1428 non-null   object        \n",
      " 16  ping_status            1428 non-null   object        \n",
      " 17  post_password          0 non-null      float64       \n",
      " 18  post_name              1428 non-null   object        \n",
      " 19  post_modified          1428 non-null   datetime64[ns]\n",
      " 20  post_modified_gmt      1428 non-null   datetime64[ns]\n",
      " 21  post_content_filtered  0 non-null      float64       \n",
      " 22  post_parent            1428 non-null   float64       \n",
      " 23  guid                   1428 non-null   object        \n",
      " 24  menu_order             1428 non-null   float64       \n",
      " 25  post_type              1428 non-null   object        \n",
      " 26  post_mime_type         714 non-null    object        \n",
      " 27  comment_count          1428 non-null   float64       \n",
      "dtypes: datetime64[ns](4), float64(10), int64(3), object(11)\n",
      "memory usage: 323.5+ KB\n"
     ]
    }
   ],
   "source": [
    "# Observation des données filtrées\n",
    "print(web_notnull.shape)\n",
    "print('')\n",
    "web_notnull.info()"
   ]
  },
  {
   "cell_type": "code",
   "execution_count": 443,
   "id": "3df00e22",
   "metadata": {},
   "outputs": [
    {
     "name": "stdout",
     "output_type": "stream",
     "text": [
      "La clé est présente plusieurs fois dans le dataframe.\n",
      "Elle ne peut donc pas être utilisée comme clé primaire.\n",
      "Le dataframe est de la forme : (1428, 28) (lignes, colonnes)\n"
     ]
    }
   ],
   "source": [
    "# Observation du df web_notnull en testant de la clés primaire. \n",
    "test(web_notnull, ['sku'])"
   ]
  },
  {
   "cell_type": "markdown",
   "id": "fedb09ea",
   "metadata": {},
   "source": [
    "On constate que la clé n'est toujours pas validée, nous allons continuer l'observation des données (nombre de lignes....)."
   ]
  },
  {
   "cell_type": "code",
   "execution_count": 444,
   "id": "4b8c896f",
   "metadata": {},
   "outputs": [
    {
     "data": {
      "text/plain": [
       "array(['product', 'attachment'], dtype=object)"
      ]
     },
     "execution_count": 444,
     "metadata": {},
     "output_type": "execute_result"
    }
   ],
   "source": [
    "# Observation de la colonne post_type\n",
    "web_notnull['post_type'].unique()"
   ]
  },
  {
   "cell_type": "markdown",
   "id": "55680573",
   "metadata": {},
   "source": [
    "Dans cette colonne, nous remarquons que certaines lignes correspondent à des produits tandis que d'autres sont des pièces jointes(attachment), qui sont en fait des liens vers des images illustrant le produit. Ces dernières peuvent être supprimées sans aucune conséquence.\n",
    "\n",
    "Nous allons mettre en place un filtre sur le dataframe nommé web_notnull, en conservant uniquement les lignes où la colonne \"post_type\" est égale à \"product\". Le résultat de cette opération sera assigné à un nouveau DataFrame, que nous appellerons web_product.\n",
    "\n",
    "Pour être plus précis, le code utilise la méthode .loc de Pandas afin de ne sélectionner que les lignes de web_notnull qui répondent à la condition 'post_type'=='product'. Cela aboutit à un nouveau dataframe qui n'inclut que les lignes où \"post_type\" est \"product\".\n",
    "\n",
    "En somme, ce code vise à filtrer les données d'un dataframe pour ne retenir que les lignes qui correspondent à un type de produit spécifique."
   ]
  },
  {
   "cell_type": "code",
   "execution_count": 445,
   "id": "6f7f90f4",
   "metadata": {},
   "outputs": [],
   "source": [
    "# Ajustement du dataframe en selectionnant un seul type.On garde les prduits et on enlève les attachements des postes\n",
    "web_product=web_notnull.loc[web_notnull['post_type']=='product']"
   ]
  },
  {
   "cell_type": "code",
   "execution_count": 446,
   "id": "42a51c85",
   "metadata": {},
   "outputs": [
    {
     "name": "stdout",
     "output_type": "stream",
     "text": [
      "La clé n'est pas présente plusieurs fois dans le dataframe.\n",
      "Elle peut donc être utilisée comme clé primaire.\n",
      "Le dataframe est de la forme : (714, 28) (lignes, colonnes)\n"
     ]
    }
   ],
   "source": [
    "#Test de la clé primaire dans notre nouveau df\n",
    "test(web_product,'sku')"
   ]
  },
  {
   "cell_type": "markdown",
   "id": "df4784cd",
   "metadata": {},
   "source": [
    "La clé primaire est enfin unique."
   ]
  },
  {
   "cell_type": "code",
   "execution_count": 447,
   "id": "51b156e6",
   "metadata": {
    "scrolled": true
   },
   "outputs": [
    {
     "name": "stdout",
     "output_type": "stream",
     "text": [
      "(714, 28)\n",
      "\n",
      "<class 'pandas.core.frame.DataFrame'>\n",
      "Int64Index: 714 entries, 0 to 798\n",
      "Data columns (total 28 columns):\n",
      " #   Column                 Non-Null Count  Dtype         \n",
      "---  ------                 --------------  -----         \n",
      " 0   sku                    714 non-null    object        \n",
      " 1   virtual                714 non-null    int64         \n",
      " 2   downloadable           714 non-null    int64         \n",
      " 3   rating_count           714 non-null    int64         \n",
      " 4   average_rating         714 non-null    float64       \n",
      " 5   total_sales            714 non-null    float64       \n",
      " 6   tax_status             714 non-null    object        \n",
      " 7   tax_class              0 non-null      float64       \n",
      " 8   post_author            714 non-null    float64       \n",
      " 9   post_date              714 non-null    datetime64[ns]\n",
      " 10  post_date_gmt          714 non-null    datetime64[ns]\n",
      " 11  post_content           0 non-null      float64       \n",
      " 12  post_title             714 non-null    object        \n",
      " 13  post_excerpt           714 non-null    object        \n",
      " 14  post_status            714 non-null    object        \n",
      " 15  comment_status         714 non-null    object        \n",
      " 16  ping_status            714 non-null    object        \n",
      " 17  post_password          0 non-null      float64       \n",
      " 18  post_name              714 non-null    object        \n",
      " 19  post_modified          714 non-null    datetime64[ns]\n",
      " 20  post_modified_gmt      714 non-null    datetime64[ns]\n",
      " 21  post_content_filtered  0 non-null      float64       \n",
      " 22  post_parent            714 non-null    float64       \n",
      " 23  guid                   714 non-null    object        \n",
      " 24  menu_order             714 non-null    float64       \n",
      " 25  post_type              714 non-null    object        \n",
      " 26  post_mime_type         0 non-null      object        \n",
      " 27  comment_count          714 non-null    float64       \n",
      "dtypes: datetime64[ns](4), float64(10), int64(3), object(11)\n",
      "memory usage: 161.8+ KB\n"
     ]
    }
   ],
   "source": [
    "print(web_product.shape)\n",
    "print('')\n",
    "web_product.info()"
   ]
  },
  {
   "cell_type": "markdown",
   "id": "70f0e36a",
   "metadata": {},
   "source": [
    "###  <font color='blue'>Dataframe liaison"
   ]
  },
  {
   "cell_type": "code",
   "execution_count": 448,
   "id": "6aaeb6c2",
   "metadata": {},
   "outputs": [
    {
     "data": {
      "text/html": [
       "<div>\n",
       "<style scoped>\n",
       "    .dataframe tbody tr th:only-of-type {\n",
       "        vertical-align: middle;\n",
       "    }\n",
       "\n",
       "    .dataframe tbody tr th {\n",
       "        vertical-align: top;\n",
       "    }\n",
       "\n",
       "    .dataframe thead th {\n",
       "        text-align: right;\n",
       "    }\n",
       "</style>\n",
       "<table border=\"1\" class=\"dataframe\">\n",
       "  <thead>\n",
       "    <tr style=\"text-align: right;\">\n",
       "      <th></th>\n",
       "      <th>product_id</th>\n",
       "      <th>sku</th>\n",
       "    </tr>\n",
       "  </thead>\n",
       "  <tbody>\n",
       "  </tbody>\n",
       "</table>\n",
       "</div>"
      ],
      "text/plain": [
       "Empty DataFrame\n",
       "Columns: [product_id, sku]\n",
       "Index: []"
      ]
     },
     "execution_count": 448,
     "metadata": {},
     "output_type": "execute_result"
    }
   ],
   "source": [
    "liaison.loc[liaison['product_id'].duplicated(keep=False),:]"
   ]
  },
  {
   "cell_type": "markdown",
   "id": "5200d042",
   "metadata": {},
   "source": [
    "Le dataframe liaison ne contient pas de doublons."
   ]
  },
  {
   "cell_type": "code",
   "execution_count": 449,
   "id": "ec4c6108",
   "metadata": {},
   "outputs": [
    {
     "name": "stdout",
     "output_type": "stream",
     "text": [
      "1650\n"
     ]
    },
    {
     "data": {
      "text/plain": [
       "1650"
      ]
     },
     "execution_count": 449,
     "metadata": {},
     "output_type": "execute_result"
    }
   ],
   "source": [
    "#Vérification de la taille du datafrmae avant et après dédoublonnage\n",
    "print(liaison.size)\n",
    "liaison.drop_duplicates(['product_id']).size"
   ]
  },
  {
   "cell_type": "markdown",
   "id": "68dd4c8e",
   "metadata": {},
   "source": [
    "Le dataframe liaison contient 1650 valeurs avant et après dédounlonnage."
   ]
  },
  {
   "cell_type": "code",
   "execution_count": 450,
   "id": "a2579401",
   "metadata": {},
   "outputs": [
    {
     "name": "stdout",
     "output_type": "stream",
     "text": [
      "La clé n'est pas présente plusieurs fois dans le dataframe.\n",
      "Elle peut donc être utilisée comme clé primaire.\n",
      "Le dataframe est de la forme : (825, 2) (lignes, colonnes)\n"
     ]
    }
   ],
   "source": [
    "#Test de la clé primaire\n",
    "test(liaison,['product_id'])"
   ]
  },
  {
   "cell_type": "markdown",
   "id": "fae2e07f",
   "metadata": {},
   "source": [
    "#  <font color='purple'>Etape 4 - Rapprochement des exports  erp et web via liaison<a class=\"anchor\" id=\"Etape4\">"
   ]
  },
  {
   "cell_type": "markdown",
   "id": "8fb44549",
   "metadata": {},
   "source": [
    "##  <font color='purple'>4.1 - Création d'un dataframe avec erp et liaison<a class=\"anchor\" id=\"section_4_1\">"
   ]
  },
  {
   "cell_type": "markdown",
   "id": "970f66a9",
   "metadata": {},
   "source": [
    "Nous allons effectuer une jointure externe en intégrant un indicateur que nous établirons comme étant True."
   ]
  },
  {
   "cell_type": "code",
   "execution_count": 451,
   "id": "dbad6eed",
   "metadata": {},
   "outputs": [],
   "source": [
    "# Jointure entre erp et liaison\n",
    "erp_liaison = pd.merge(erp, liaison, on='product_id', how='outer',indicator=True)"
   ]
  },
  {
   "cell_type": "code",
   "execution_count": 452,
   "id": "29db66d6",
   "metadata": {},
   "outputs": [
    {
     "data": {
      "text/plain": [
       "(825, 7)"
      ]
     },
     "execution_count": 452,
     "metadata": {},
     "output_type": "execute_result"
    }
   ],
   "source": [
    "erp_liaison.shape"
   ]
  },
  {
   "cell_type": "code",
   "execution_count": 453,
   "id": "bbec3e0f",
   "metadata": {},
   "outputs": [
    {
     "data": {
      "text/html": [
       "<div>\n",
       "<style scoped>\n",
       "    .dataframe tbody tr th:only-of-type {\n",
       "        vertical-align: middle;\n",
       "    }\n",
       "\n",
       "    .dataframe tbody tr th {\n",
       "        vertical-align: top;\n",
       "    }\n",
       "\n",
       "    .dataframe thead th {\n",
       "        text-align: right;\n",
       "    }\n",
       "</style>\n",
       "<table border=\"1\" class=\"dataframe\">\n",
       "  <thead>\n",
       "    <tr style=\"text-align: right;\">\n",
       "      <th></th>\n",
       "      <th>product_id</th>\n",
       "      <th>onsale_web</th>\n",
       "      <th>price</th>\n",
       "      <th>stock_quantity</th>\n",
       "      <th>stock_status</th>\n",
       "      <th>sku</th>\n",
       "      <th>_merge</th>\n",
       "    </tr>\n",
       "  </thead>\n",
       "  <tbody>\n",
       "    <tr>\n",
       "      <th>0</th>\n",
       "      <td>3847</td>\n",
       "      <td>1</td>\n",
       "      <td>24.2</td>\n",
       "      <td>0</td>\n",
       "      <td>outofstock</td>\n",
       "      <td>15298</td>\n",
       "      <td>both</td>\n",
       "    </tr>\n",
       "    <tr>\n",
       "      <th>1</th>\n",
       "      <td>3849</td>\n",
       "      <td>1</td>\n",
       "      <td>34.3</td>\n",
       "      <td>0</td>\n",
       "      <td>outofstock</td>\n",
       "      <td>15296</td>\n",
       "      <td>both</td>\n",
       "    </tr>\n",
       "    <tr>\n",
       "      <th>2</th>\n",
       "      <td>3850</td>\n",
       "      <td>1</td>\n",
       "      <td>20.8</td>\n",
       "      <td>0</td>\n",
       "      <td>outofstock</td>\n",
       "      <td>15300</td>\n",
       "      <td>both</td>\n",
       "    </tr>\n",
       "    <tr>\n",
       "      <th>3</th>\n",
       "      <td>4032</td>\n",
       "      <td>1</td>\n",
       "      <td>14.1</td>\n",
       "      <td>0</td>\n",
       "      <td>outofstock</td>\n",
       "      <td>19814</td>\n",
       "      <td>both</td>\n",
       "    </tr>\n",
       "    <tr>\n",
       "      <th>4</th>\n",
       "      <td>4039</td>\n",
       "      <td>1</td>\n",
       "      <td>46.0</td>\n",
       "      <td>0</td>\n",
       "      <td>outofstock</td>\n",
       "      <td>19815</td>\n",
       "      <td>both</td>\n",
       "    </tr>\n",
       "    <tr>\n",
       "      <th>...</th>\n",
       "      <td>...</td>\n",
       "      <td>...</td>\n",
       "      <td>...</td>\n",
       "      <td>...</td>\n",
       "      <td>...</td>\n",
       "      <td>...</td>\n",
       "      <td>...</td>\n",
       "    </tr>\n",
       "    <tr>\n",
       "      <th>820</th>\n",
       "      <td>7203</td>\n",
       "      <td>0</td>\n",
       "      <td>45.0</td>\n",
       "      <td>30</td>\n",
       "      <td>instock</td>\n",
       "      <td>NaN</td>\n",
       "      <td>both</td>\n",
       "    </tr>\n",
       "    <tr>\n",
       "      <th>821</th>\n",
       "      <td>7204</td>\n",
       "      <td>0</td>\n",
       "      <td>45.0</td>\n",
       "      <td>9</td>\n",
       "      <td>instock</td>\n",
       "      <td>NaN</td>\n",
       "      <td>both</td>\n",
       "    </tr>\n",
       "    <tr>\n",
       "      <th>822</th>\n",
       "      <td>7247</td>\n",
       "      <td>1</td>\n",
       "      <td>54.8</td>\n",
       "      <td>23</td>\n",
       "      <td>instock</td>\n",
       "      <td>13127-1</td>\n",
       "      <td>both</td>\n",
       "    </tr>\n",
       "    <tr>\n",
       "      <th>823</th>\n",
       "      <td>7329</td>\n",
       "      <td>0</td>\n",
       "      <td>26.5</td>\n",
       "      <td>14</td>\n",
       "      <td>instock</td>\n",
       "      <td>14680-1</td>\n",
       "      <td>both</td>\n",
       "    </tr>\n",
       "    <tr>\n",
       "      <th>824</th>\n",
       "      <td>7338</td>\n",
       "      <td>1</td>\n",
       "      <td>16.3</td>\n",
       "      <td>45</td>\n",
       "      <td>instock</td>\n",
       "      <td>16230</td>\n",
       "      <td>both</td>\n",
       "    </tr>\n",
       "  </tbody>\n",
       "</table>\n",
       "<p>825 rows × 7 columns</p>\n",
       "</div>"
      ],
      "text/plain": [
       "    product_id  onsale_web  price  stock_quantity stock_status      sku _merge\n",
       "0         3847           1   24.2               0   outofstock    15298   both\n",
       "1         3849           1   34.3               0   outofstock    15296   both\n",
       "2         3850           1   20.8               0   outofstock    15300   both\n",
       "3         4032           1   14.1               0   outofstock    19814   both\n",
       "4         4039           1   46.0               0   outofstock    19815   both\n",
       "..         ...         ...    ...             ...          ...      ...    ...\n",
       "820       7203           0   45.0              30      instock      NaN   both\n",
       "821       7204           0   45.0               9      instock      NaN   both\n",
       "822       7247           1   54.8              23      instock  13127-1   both\n",
       "823       7329           0   26.5              14      instock  14680-1   both\n",
       "824       7338           1   16.3              45      instock    16230   both\n",
       "\n",
       "[825 rows x 7 columns]"
      ]
     },
     "execution_count": 453,
     "metadata": {},
     "output_type": "execute_result"
    }
   ],
   "source": [
    "erp_liaison"
   ]
  },
  {
   "cell_type": "markdown",
   "id": "146b7ce9",
   "metadata": {},
   "source": [
    "Nous observerons le nombre de lignes qui ont trouvé une correspondance dans nos deux dataframes lors de la jointure, en sélectionnant la colonne '_merge'."
   ]
  },
  {
   "cell_type": "code",
   "execution_count": 454,
   "id": "e02651d7",
   "metadata": {},
   "outputs": [],
   "source": [
    "erp_liaison1=erp_liaison.loc[erp_liaison['_merge'] == 'both']"
   ]
  },
  {
   "cell_type": "code",
   "execution_count": 455,
   "id": "e886c332",
   "metadata": {},
   "outputs": [
    {
     "data": {
      "text/plain": [
       "(825, 7)"
      ]
     },
     "execution_count": 455,
     "metadata": {},
     "output_type": "execute_result"
    }
   ],
   "source": [
    "erp_liaison1.shape"
   ]
  },
  {
   "cell_type": "markdown",
   "id": "e9629390",
   "metadata": {},
   "source": [
    "On constate que toutes les lignes du dataframe erp ont trouvé correspondance dans le dataframe liaison"
   ]
  },
  {
   "cell_type": "code",
   "execution_count": 456,
   "id": "c67a5bb3",
   "metadata": {},
   "outputs": [],
   "source": [
    "# Abandon de la colonne _merge\n",
    "erp_liaison_final = erp_liaison.drop(columns=['_merge'],axis=1)"
   ]
  },
  {
   "cell_type": "code",
   "execution_count": 457,
   "id": "0fd36647",
   "metadata": {},
   "outputs": [
    {
     "data": {
      "text/plain": [
       "(825, 6)"
      ]
     },
     "execution_count": 457,
     "metadata": {},
     "output_type": "execute_result"
    }
   ],
   "source": [
    "erp_liaison_final.shape"
   ]
  },
  {
   "cell_type": "markdown",
   "id": "0f0c331c",
   "metadata": {},
   "source": [
    "##  <font color='purple'>4.2 - Création d'un dataframe avec erp et web<a class=\"anchor\" id=\"section_4_2\">"
   ]
  },
  {
   "cell_type": "code",
   "execution_count": 458,
   "id": "9c58368a",
   "metadata": {},
   "outputs": [],
   "source": [
    "# jointure entre erp_liaison et web\n",
    "erp_liaison_web = pd.merge(erp_liaison_final, web_product, on='sku', how='outer', indicator=True)"
   ]
  },
  {
   "cell_type": "code",
   "execution_count": 459,
   "id": "4f929e01",
   "metadata": {},
   "outputs": [
    {
     "data": {
      "text/plain": [
       "(825, 34)"
      ]
     },
     "execution_count": 459,
     "metadata": {},
     "output_type": "execute_result"
    }
   ],
   "source": [
    "erp_liaison_web.shape"
   ]
  },
  {
   "cell_type": "code",
   "execution_count": 460,
   "id": "d88e4232",
   "metadata": {},
   "outputs": [],
   "source": [
    "# Stockage des valeurs ayant trouvés une correspondance dans la jointure entre les dataframes erp_liaison et web\n",
    "df_BottleNeck= erp_liaison_web.loc[erp_liaison_web['_merge'] == 'both']"
   ]
  },
  {
   "cell_type": "code",
   "execution_count": 461,
   "id": "77be401d",
   "metadata": {
    "scrolled": false
   },
   "outputs": [
    {
     "data": {
      "text/html": [
       "<div>\n",
       "<style scoped>\n",
       "    .dataframe tbody tr th:only-of-type {\n",
       "        vertical-align: middle;\n",
       "    }\n",
       "\n",
       "    .dataframe tbody tr th {\n",
       "        vertical-align: top;\n",
       "    }\n",
       "\n",
       "    .dataframe thead th {\n",
       "        text-align: right;\n",
       "    }\n",
       "</style>\n",
       "<table border=\"1\" class=\"dataframe\">\n",
       "  <thead>\n",
       "    <tr style=\"text-align: right;\">\n",
       "      <th></th>\n",
       "      <th>product_id</th>\n",
       "      <th>onsale_web</th>\n",
       "      <th>price</th>\n",
       "      <th>stock_quantity</th>\n",
       "      <th>stock_status</th>\n",
       "      <th>sku</th>\n",
       "      <th>virtual</th>\n",
       "      <th>downloadable</th>\n",
       "      <th>rating_count</th>\n",
       "      <th>average_rating</th>\n",
       "      <th>...</th>\n",
       "      <th>post_modified</th>\n",
       "      <th>post_modified_gmt</th>\n",
       "      <th>post_content_filtered</th>\n",
       "      <th>post_parent</th>\n",
       "      <th>guid</th>\n",
       "      <th>menu_order</th>\n",
       "      <th>post_type</th>\n",
       "      <th>post_mime_type</th>\n",
       "      <th>comment_count</th>\n",
       "      <th>_merge</th>\n",
       "    </tr>\n",
       "  </thead>\n",
       "  <tbody>\n",
       "    <tr>\n",
       "      <th>0</th>\n",
       "      <td>3847</td>\n",
       "      <td>1</td>\n",
       "      <td>24.2</td>\n",
       "      <td>0</td>\n",
       "      <td>outofstock</td>\n",
       "      <td>15298</td>\n",
       "      <td>0.0</td>\n",
       "      <td>0.0</td>\n",
       "      <td>0.0</td>\n",
       "      <td>0.0</td>\n",
       "      <td>...</td>\n",
       "      <td>2019-12-30 09:30:29</td>\n",
       "      <td>2019-12-30 08:30:29</td>\n",
       "      <td>NaN</td>\n",
       "      <td>0.0</td>\n",
       "      <td>https://www.bottle-neck.fr/?post_type=product&amp;...</td>\n",
       "      <td>0.0</td>\n",
       "      <td>product</td>\n",
       "      <td>NaN</td>\n",
       "      <td>0.0</td>\n",
       "      <td>both</td>\n",
       "    </tr>\n",
       "    <tr>\n",
       "      <th>1</th>\n",
       "      <td>3849</td>\n",
       "      <td>1</td>\n",
       "      <td>34.3</td>\n",
       "      <td>0</td>\n",
       "      <td>outofstock</td>\n",
       "      <td>15296</td>\n",
       "      <td>0.0</td>\n",
       "      <td>0.0</td>\n",
       "      <td>0.0</td>\n",
       "      <td>0.0</td>\n",
       "      <td>...</td>\n",
       "      <td>2019-12-21 09:00:17</td>\n",
       "      <td>2019-12-21 08:00:17</td>\n",
       "      <td>NaN</td>\n",
       "      <td>0.0</td>\n",
       "      <td>https://www.bottle-neck.fr/?post_type=product&amp;...</td>\n",
       "      <td>0.0</td>\n",
       "      <td>product</td>\n",
       "      <td>NaN</td>\n",
       "      <td>0.0</td>\n",
       "      <td>both</td>\n",
       "    </tr>\n",
       "    <tr>\n",
       "      <th>2</th>\n",
       "      <td>3850</td>\n",
       "      <td>1</td>\n",
       "      <td>20.8</td>\n",
       "      <td>0</td>\n",
       "      <td>outofstock</td>\n",
       "      <td>15300</td>\n",
       "      <td>0.0</td>\n",
       "      <td>0.0</td>\n",
       "      <td>0.0</td>\n",
       "      <td>0.0</td>\n",
       "      <td>...</td>\n",
       "      <td>2020-06-26 18:15:03</td>\n",
       "      <td>2020-06-26 16:15:03</td>\n",
       "      <td>NaN</td>\n",
       "      <td>0.0</td>\n",
       "      <td>https://www.bottle-neck.fr/?post_type=product&amp;...</td>\n",
       "      <td>0.0</td>\n",
       "      <td>product</td>\n",
       "      <td>NaN</td>\n",
       "      <td>0.0</td>\n",
       "      <td>both</td>\n",
       "    </tr>\n",
       "    <tr>\n",
       "      <th>3</th>\n",
       "      <td>4032</td>\n",
       "      <td>1</td>\n",
       "      <td>14.1</td>\n",
       "      <td>0</td>\n",
       "      <td>outofstock</td>\n",
       "      <td>19814</td>\n",
       "      <td>0.0</td>\n",
       "      <td>0.0</td>\n",
       "      <td>0.0</td>\n",
       "      <td>0.0</td>\n",
       "      <td>...</td>\n",
       "      <td>2020-01-04 16:36:01</td>\n",
       "      <td>2020-01-04 15:36:01</td>\n",
       "      <td>NaN</td>\n",
       "      <td>0.0</td>\n",
       "      <td>https://www.bottle-neck.fr/?post_type=product&amp;...</td>\n",
       "      <td>0.0</td>\n",
       "      <td>product</td>\n",
       "      <td>NaN</td>\n",
       "      <td>0.0</td>\n",
       "      <td>both</td>\n",
       "    </tr>\n",
       "    <tr>\n",
       "      <th>4</th>\n",
       "      <td>4039</td>\n",
       "      <td>1</td>\n",
       "      <td>46.0</td>\n",
       "      <td>0</td>\n",
       "      <td>outofstock</td>\n",
       "      <td>19815</td>\n",
       "      <td>0.0</td>\n",
       "      <td>0.0</td>\n",
       "      <td>0.0</td>\n",
       "      <td>0.0</td>\n",
       "      <td>...</td>\n",
       "      <td>2020-01-04 16:36:10</td>\n",
       "      <td>2020-01-04 15:36:10</td>\n",
       "      <td>NaN</td>\n",
       "      <td>0.0</td>\n",
       "      <td>https://www.bottle-neck.fr/?post_type=product&amp;...</td>\n",
       "      <td>0.0</td>\n",
       "      <td>product</td>\n",
       "      <td>NaN</td>\n",
       "      <td>0.0</td>\n",
       "      <td>both</td>\n",
       "    </tr>\n",
       "    <tr>\n",
       "      <th>...</th>\n",
       "      <td>...</td>\n",
       "      <td>...</td>\n",
       "      <td>...</td>\n",
       "      <td>...</td>\n",
       "      <td>...</td>\n",
       "      <td>...</td>\n",
       "      <td>...</td>\n",
       "      <td>...</td>\n",
       "      <td>...</td>\n",
       "      <td>...</td>\n",
       "      <td>...</td>\n",
       "      <td>...</td>\n",
       "      <td>...</td>\n",
       "      <td>...</td>\n",
       "      <td>...</td>\n",
       "      <td>...</td>\n",
       "      <td>...</td>\n",
       "      <td>...</td>\n",
       "      <td>...</td>\n",
       "      <td>...</td>\n",
       "      <td>...</td>\n",
       "    </tr>\n",
       "    <tr>\n",
       "      <th>819</th>\n",
       "      <td>6930</td>\n",
       "      <td>1</td>\n",
       "      <td>8.4</td>\n",
       "      <td>83</td>\n",
       "      <td>instock</td>\n",
       "      <td>16135</td>\n",
       "      <td>0.0</td>\n",
       "      <td>0.0</td>\n",
       "      <td>0.0</td>\n",
       "      <td>0.0</td>\n",
       "      <td>...</td>\n",
       "      <td>2020-08-26 17:35:03</td>\n",
       "      <td>2020-08-26 15:35:03</td>\n",
       "      <td>NaN</td>\n",
       "      <td>0.0</td>\n",
       "      <td>https://www.bottle-neck.fr/?post_type=product&amp;...</td>\n",
       "      <td>0.0</td>\n",
       "      <td>product</td>\n",
       "      <td>NaN</td>\n",
       "      <td>0.0</td>\n",
       "      <td>both</td>\n",
       "    </tr>\n",
       "    <tr>\n",
       "      <th>820</th>\n",
       "      <td>7023</td>\n",
       "      <td>1</td>\n",
       "      <td>27.5</td>\n",
       "      <td>15</td>\n",
       "      <td>instock</td>\n",
       "      <td>15891</td>\n",
       "      <td>0.0</td>\n",
       "      <td>0.0</td>\n",
       "      <td>0.0</td>\n",
       "      <td>0.0</td>\n",
       "      <td>...</td>\n",
       "      <td>2020-08-26 17:35:02</td>\n",
       "      <td>2020-08-26 15:35:02</td>\n",
       "      <td>NaN</td>\n",
       "      <td>0.0</td>\n",
       "      <td>https://www.bottle-neck.fr/?post_type=product&amp;...</td>\n",
       "      <td>0.0</td>\n",
       "      <td>product</td>\n",
       "      <td>NaN</td>\n",
       "      <td>0.0</td>\n",
       "      <td>both</td>\n",
       "    </tr>\n",
       "    <tr>\n",
       "      <th>821</th>\n",
       "      <td>7025</td>\n",
       "      <td>1</td>\n",
       "      <td>69.0</td>\n",
       "      <td>2</td>\n",
       "      <td>instock</td>\n",
       "      <td>15887</td>\n",
       "      <td>0.0</td>\n",
       "      <td>0.0</td>\n",
       "      <td>0.0</td>\n",
       "      <td>0.0</td>\n",
       "      <td>...</td>\n",
       "      <td>2020-08-14 18:15:03</td>\n",
       "      <td>2020-08-14 16:15:03</td>\n",
       "      <td>NaN</td>\n",
       "      <td>0.0</td>\n",
       "      <td>https://www.bottle-neck.fr/?post_type=product&amp;...</td>\n",
       "      <td>0.0</td>\n",
       "      <td>product</td>\n",
       "      <td>NaN</td>\n",
       "      <td>0.0</td>\n",
       "      <td>both</td>\n",
       "    </tr>\n",
       "    <tr>\n",
       "      <th>822</th>\n",
       "      <td>7247</td>\n",
       "      <td>1</td>\n",
       "      <td>54.8</td>\n",
       "      <td>23</td>\n",
       "      <td>instock</td>\n",
       "      <td>13127-1</td>\n",
       "      <td>0.0</td>\n",
       "      <td>0.0</td>\n",
       "      <td>0.0</td>\n",
       "      <td>0.0</td>\n",
       "      <td>...</td>\n",
       "      <td>2020-07-20 17:09:06</td>\n",
       "      <td>2020-07-20 15:09:06</td>\n",
       "      <td>NaN</td>\n",
       "      <td>0.0</td>\n",
       "      <td>https://www.bottle-neck.fr/?post_type=product&amp;...</td>\n",
       "      <td>0.0</td>\n",
       "      <td>product</td>\n",
       "      <td>NaN</td>\n",
       "      <td>0.0</td>\n",
       "      <td>both</td>\n",
       "    </tr>\n",
       "    <tr>\n",
       "      <th>824</th>\n",
       "      <td>7338</td>\n",
       "      <td>1</td>\n",
       "      <td>16.3</td>\n",
       "      <td>45</td>\n",
       "      <td>instock</td>\n",
       "      <td>16230</td>\n",
       "      <td>0.0</td>\n",
       "      <td>0.0</td>\n",
       "      <td>0.0</td>\n",
       "      <td>0.0</td>\n",
       "      <td>...</td>\n",
       "      <td>2020-08-13 10:45:03</td>\n",
       "      <td>2020-08-13 08:45:03</td>\n",
       "      <td>NaN</td>\n",
       "      <td>0.0</td>\n",
       "      <td>https://www.bottle-neck.fr/?post_type=product&amp;...</td>\n",
       "      <td>0.0</td>\n",
       "      <td>product</td>\n",
       "      <td>NaN</td>\n",
       "      <td>0.0</td>\n",
       "      <td>both</td>\n",
       "    </tr>\n",
       "  </tbody>\n",
       "</table>\n",
       "<p>714 rows × 34 columns</p>\n",
       "</div>"
      ],
      "text/plain": [
       "    product_id  onsale_web  price  stock_quantity stock_status      sku  \\\n",
       "0         3847           1   24.2               0   outofstock    15298   \n",
       "1         3849           1   34.3               0   outofstock    15296   \n",
       "2         3850           1   20.8               0   outofstock    15300   \n",
       "3         4032           1   14.1               0   outofstock    19814   \n",
       "4         4039           1   46.0               0   outofstock    19815   \n",
       "..         ...         ...    ...             ...          ...      ...   \n",
       "819       6930           1    8.4              83      instock    16135   \n",
       "820       7023           1   27.5              15      instock    15891   \n",
       "821       7025           1   69.0               2      instock    15887   \n",
       "822       7247           1   54.8              23      instock  13127-1   \n",
       "824       7338           1   16.3              45      instock    16230   \n",
       "\n",
       "     virtual  downloadable  rating_count  average_rating  ...  \\\n",
       "0        0.0           0.0           0.0             0.0  ...   \n",
       "1        0.0           0.0           0.0             0.0  ...   \n",
       "2        0.0           0.0           0.0             0.0  ...   \n",
       "3        0.0           0.0           0.0             0.0  ...   \n",
       "4        0.0           0.0           0.0             0.0  ...   \n",
       "..       ...           ...           ...             ...  ...   \n",
       "819      0.0           0.0           0.0             0.0  ...   \n",
       "820      0.0           0.0           0.0             0.0  ...   \n",
       "821      0.0           0.0           0.0             0.0  ...   \n",
       "822      0.0           0.0           0.0             0.0  ...   \n",
       "824      0.0           0.0           0.0             0.0  ...   \n",
       "\n",
       "          post_modified   post_modified_gmt  post_content_filtered  \\\n",
       "0   2019-12-30 09:30:29 2019-12-30 08:30:29                    NaN   \n",
       "1   2019-12-21 09:00:17 2019-12-21 08:00:17                    NaN   \n",
       "2   2020-06-26 18:15:03 2020-06-26 16:15:03                    NaN   \n",
       "3   2020-01-04 16:36:01 2020-01-04 15:36:01                    NaN   \n",
       "4   2020-01-04 16:36:10 2020-01-04 15:36:10                    NaN   \n",
       "..                  ...                 ...                    ...   \n",
       "819 2020-08-26 17:35:03 2020-08-26 15:35:03                    NaN   \n",
       "820 2020-08-26 17:35:02 2020-08-26 15:35:02                    NaN   \n",
       "821 2020-08-14 18:15:03 2020-08-14 16:15:03                    NaN   \n",
       "822 2020-07-20 17:09:06 2020-07-20 15:09:06                    NaN   \n",
       "824 2020-08-13 10:45:03 2020-08-13 08:45:03                    NaN   \n",
       "\n",
       "     post_parent                                               guid  \\\n",
       "0            0.0  https://www.bottle-neck.fr/?post_type=product&...   \n",
       "1            0.0  https://www.bottle-neck.fr/?post_type=product&...   \n",
       "2            0.0  https://www.bottle-neck.fr/?post_type=product&...   \n",
       "3            0.0  https://www.bottle-neck.fr/?post_type=product&...   \n",
       "4            0.0  https://www.bottle-neck.fr/?post_type=product&...   \n",
       "..           ...                                                ...   \n",
       "819          0.0  https://www.bottle-neck.fr/?post_type=product&...   \n",
       "820          0.0  https://www.bottle-neck.fr/?post_type=product&...   \n",
       "821          0.0  https://www.bottle-neck.fr/?post_type=product&...   \n",
       "822          0.0  https://www.bottle-neck.fr/?post_type=product&...   \n",
       "824          0.0  https://www.bottle-neck.fr/?post_type=product&...   \n",
       "\n",
       "    menu_order  post_type post_mime_type comment_count _merge  \n",
       "0          0.0    product            NaN           0.0   both  \n",
       "1          0.0    product            NaN           0.0   both  \n",
       "2          0.0    product            NaN           0.0   both  \n",
       "3          0.0    product            NaN           0.0   both  \n",
       "4          0.0    product            NaN           0.0   both  \n",
       "..         ...        ...            ...           ...    ...  \n",
       "819        0.0    product            NaN           0.0   both  \n",
       "820        0.0    product            NaN           0.0   both  \n",
       "821        0.0    product            NaN           0.0   both  \n",
       "822        0.0    product            NaN           0.0   both  \n",
       "824        0.0    product            NaN           0.0   both  \n",
       "\n",
       "[714 rows x 34 columns]"
      ]
     },
     "execution_count": 461,
     "metadata": {},
     "output_type": "execute_result"
    }
   ],
   "source": [
    "df_BottleNeck"
   ]
  },
  {
   "cell_type": "code",
   "execution_count": 462,
   "id": "89ee0de3",
   "metadata": {
    "scrolled": true
   },
   "outputs": [
    {
     "name": "stdout",
     "output_type": "stream",
     "text": [
      "(714, 34)\n",
      "\n",
      "<class 'pandas.core.frame.DataFrame'>\n",
      "Int64Index: 714 entries, 0 to 824\n",
      "Data columns (total 34 columns):\n",
      " #   Column                 Non-Null Count  Dtype         \n",
      "---  ------                 --------------  -----         \n",
      " 0   product_id             714 non-null    object        \n",
      " 1   onsale_web             714 non-null    int64         \n",
      " 2   price                  714 non-null    float64       \n",
      " 3   stock_quantity         714 non-null    int64         \n",
      " 4   stock_status           714 non-null    object        \n",
      " 5   sku                    714 non-null    object        \n",
      " 6   virtual                714 non-null    float64       \n",
      " 7   downloadable           714 non-null    float64       \n",
      " 8   rating_count           714 non-null    float64       \n",
      " 9   average_rating         714 non-null    float64       \n",
      " 10  total_sales            714 non-null    float64       \n",
      " 11  tax_status             714 non-null    object        \n",
      " 12  tax_class              0 non-null      float64       \n",
      " 13  post_author            714 non-null    float64       \n",
      " 14  post_date              714 non-null    datetime64[ns]\n",
      " 15  post_date_gmt          714 non-null    datetime64[ns]\n",
      " 16  post_content           0 non-null      float64       \n",
      " 17  post_title             714 non-null    object        \n",
      " 18  post_excerpt           714 non-null    object        \n",
      " 19  post_status            714 non-null    object        \n",
      " 20  comment_status         714 non-null    object        \n",
      " 21  ping_status            714 non-null    object        \n",
      " 22  post_password          0 non-null      float64       \n",
      " 23  post_name              714 non-null    object        \n",
      " 24  post_modified          714 non-null    datetime64[ns]\n",
      " 25  post_modified_gmt      714 non-null    datetime64[ns]\n",
      " 26  post_content_filtered  0 non-null      float64       \n",
      " 27  post_parent            714 non-null    float64       \n",
      " 28  guid                   714 non-null    object        \n",
      " 29  menu_order             714 non-null    float64       \n",
      " 30  post_type              714 non-null    object        \n",
      " 31  post_mime_type         0 non-null      object        \n",
      " 32  comment_count          714 non-null    float64       \n",
      " 33  _merge                 714 non-null    category      \n",
      "dtypes: category(1), datetime64[ns](4), float64(14), int64(2), object(13)\n",
      "memory usage: 190.5+ KB\n"
     ]
    }
   ],
   "source": [
    "print(df_BottleNeck.shape)\n",
    "print('')\n",
    "df_BottleNeck.info()"
   ]
  },
  {
   "cell_type": "code",
   "execution_count": 463,
   "id": "6c8e177f",
   "metadata": {},
   "outputs": [
    {
     "data": {
      "text/plain": [
       "(111, 34)"
      ]
     },
     "execution_count": 463,
     "metadata": {},
     "output_type": "execute_result"
    }
   ],
   "source": [
    "# Stockage des valeurs qui n'ont pas trouvé de correspondance lors de la jointure entre les dataframes erp_liaison et web.\n",
    "df_BottleNeck1=erp_liaison_web.loc[erp_liaison_web['_merge']!='both']\n",
    "df_BottleNeck1.shape"
   ]
  },
  {
   "cell_type": "code",
   "execution_count": 464,
   "id": "438d381c",
   "metadata": {},
   "outputs": [
    {
     "data": {
      "text/html": [
       "<div>\n",
       "<style scoped>\n",
       "    .dataframe tbody tr th:only-of-type {\n",
       "        vertical-align: middle;\n",
       "    }\n",
       "\n",
       "    .dataframe tbody tr th {\n",
       "        vertical-align: top;\n",
       "    }\n",
       "\n",
       "    .dataframe thead th {\n",
       "        text-align: right;\n",
       "    }\n",
       "</style>\n",
       "<table border=\"1\" class=\"dataframe\">\n",
       "  <thead>\n",
       "    <tr style=\"text-align: right;\">\n",
       "      <th></th>\n",
       "      <th>product_id</th>\n",
       "      <th>onsale_web</th>\n",
       "      <th>price</th>\n",
       "      <th>stock_quantity</th>\n",
       "      <th>stock_status</th>\n",
       "      <th>sku</th>\n",
       "      <th>virtual</th>\n",
       "      <th>downloadable</th>\n",
       "      <th>rating_count</th>\n",
       "      <th>average_rating</th>\n",
       "      <th>...</th>\n",
       "      <th>post_modified</th>\n",
       "      <th>post_modified_gmt</th>\n",
       "      <th>post_content_filtered</th>\n",
       "      <th>post_parent</th>\n",
       "      <th>guid</th>\n",
       "      <th>menu_order</th>\n",
       "      <th>post_type</th>\n",
       "      <th>post_mime_type</th>\n",
       "      <th>comment_count</th>\n",
       "      <th>_merge</th>\n",
       "    </tr>\n",
       "  </thead>\n",
       "  <tbody>\n",
       "    <tr>\n",
       "      <th>19</th>\n",
       "      <td>4055</td>\n",
       "      <td>0</td>\n",
       "      <td>86.1</td>\n",
       "      <td>0</td>\n",
       "      <td>outofstock</td>\n",
       "      <td>NaN</td>\n",
       "      <td>NaN</td>\n",
       "      <td>NaN</td>\n",
       "      <td>NaN</td>\n",
       "      <td>NaN</td>\n",
       "      <td>...</td>\n",
       "      <td>NaT</td>\n",
       "      <td>NaT</td>\n",
       "      <td>NaN</td>\n",
       "      <td>NaN</td>\n",
       "      <td>NaN</td>\n",
       "      <td>NaN</td>\n",
       "      <td>NaN</td>\n",
       "      <td>NaN</td>\n",
       "      <td>NaN</td>\n",
       "      <td>left_only</td>\n",
       "    </tr>\n",
       "    <tr>\n",
       "      <th>20</th>\n",
       "      <td>4090</td>\n",
       "      <td>0</td>\n",
       "      <td>73.0</td>\n",
       "      <td>0</td>\n",
       "      <td>outofstock</td>\n",
       "      <td>NaN</td>\n",
       "      <td>NaN</td>\n",
       "      <td>NaN</td>\n",
       "      <td>NaN</td>\n",
       "      <td>NaN</td>\n",
       "      <td>...</td>\n",
       "      <td>NaT</td>\n",
       "      <td>NaT</td>\n",
       "      <td>NaN</td>\n",
       "      <td>NaN</td>\n",
       "      <td>NaN</td>\n",
       "      <td>NaN</td>\n",
       "      <td>NaN</td>\n",
       "      <td>NaN</td>\n",
       "      <td>NaN</td>\n",
       "      <td>left_only</td>\n",
       "    </tr>\n",
       "    <tr>\n",
       "      <th>21</th>\n",
       "      <td>4092</td>\n",
       "      <td>0</td>\n",
       "      <td>47.0</td>\n",
       "      <td>0</td>\n",
       "      <td>outofstock</td>\n",
       "      <td>NaN</td>\n",
       "      <td>NaN</td>\n",
       "      <td>NaN</td>\n",
       "      <td>NaN</td>\n",
       "      <td>NaN</td>\n",
       "      <td>...</td>\n",
       "      <td>NaT</td>\n",
       "      <td>NaT</td>\n",
       "      <td>NaN</td>\n",
       "      <td>NaN</td>\n",
       "      <td>NaN</td>\n",
       "      <td>NaN</td>\n",
       "      <td>NaN</td>\n",
       "      <td>NaN</td>\n",
       "      <td>NaN</td>\n",
       "      <td>left_only</td>\n",
       "    </tr>\n",
       "    <tr>\n",
       "      <th>22</th>\n",
       "      <td>4195</td>\n",
       "      <td>0</td>\n",
       "      <td>14.1</td>\n",
       "      <td>0</td>\n",
       "      <td>outofstock</td>\n",
       "      <td>NaN</td>\n",
       "      <td>NaN</td>\n",
       "      <td>NaN</td>\n",
       "      <td>NaN</td>\n",
       "      <td>NaN</td>\n",
       "      <td>...</td>\n",
       "      <td>NaT</td>\n",
       "      <td>NaT</td>\n",
       "      <td>NaN</td>\n",
       "      <td>NaN</td>\n",
       "      <td>NaN</td>\n",
       "      <td>NaN</td>\n",
       "      <td>NaN</td>\n",
       "      <td>NaN</td>\n",
       "      <td>NaN</td>\n",
       "      <td>left_only</td>\n",
       "    </tr>\n",
       "    <tr>\n",
       "      <th>23</th>\n",
       "      <td>4209</td>\n",
       "      <td>0</td>\n",
       "      <td>73.5</td>\n",
       "      <td>0</td>\n",
       "      <td>outofstock</td>\n",
       "      <td>NaN</td>\n",
       "      <td>NaN</td>\n",
       "      <td>NaN</td>\n",
       "      <td>NaN</td>\n",
       "      <td>NaN</td>\n",
       "      <td>...</td>\n",
       "      <td>NaT</td>\n",
       "      <td>NaT</td>\n",
       "      <td>NaN</td>\n",
       "      <td>NaN</td>\n",
       "      <td>NaN</td>\n",
       "      <td>NaN</td>\n",
       "      <td>NaN</td>\n",
       "      <td>NaN</td>\n",
       "      <td>NaN</td>\n",
       "      <td>left_only</td>\n",
       "    </tr>\n",
       "  </tbody>\n",
       "</table>\n",
       "<p>5 rows × 34 columns</p>\n",
       "</div>"
      ],
      "text/plain": [
       "   product_id  onsale_web  price  stock_quantity stock_status  sku  virtual  \\\n",
       "19       4055           0   86.1               0   outofstock  NaN      NaN   \n",
       "20       4090           0   73.0               0   outofstock  NaN      NaN   \n",
       "21       4092           0   47.0               0   outofstock  NaN      NaN   \n",
       "22       4195           0   14.1               0   outofstock  NaN      NaN   \n",
       "23       4209           0   73.5               0   outofstock  NaN      NaN   \n",
       "\n",
       "    downloadable  rating_count  average_rating  ...  post_modified  \\\n",
       "19           NaN           NaN             NaN  ...            NaT   \n",
       "20           NaN           NaN             NaN  ...            NaT   \n",
       "21           NaN           NaN             NaN  ...            NaT   \n",
       "22           NaN           NaN             NaN  ...            NaT   \n",
       "23           NaN           NaN             NaN  ...            NaT   \n",
       "\n",
       "   post_modified_gmt  post_content_filtered  post_parent guid menu_order  \\\n",
       "19               NaT                    NaN          NaN  NaN        NaN   \n",
       "20               NaT                    NaN          NaN  NaN        NaN   \n",
       "21               NaT                    NaN          NaN  NaN        NaN   \n",
       "22               NaT                    NaN          NaN  NaN        NaN   \n",
       "23               NaT                    NaN          NaN  NaN        NaN   \n",
       "\n",
       "    post_type post_mime_type comment_count     _merge  \n",
       "19        NaN            NaN           NaN  left_only  \n",
       "20        NaN            NaN           NaN  left_only  \n",
       "21        NaN            NaN           NaN  left_only  \n",
       "22        NaN            NaN           NaN  left_only  \n",
       "23        NaN            NaN           NaN  left_only  \n",
       "\n",
       "[5 rows x 34 columns]"
      ]
     },
     "execution_count": 464,
     "metadata": {},
     "output_type": "execute_result"
    }
   ],
   "source": [
    "df_BottleNeck1.head()"
   ]
  },
  {
   "cell_type": "code",
   "execution_count": 465,
   "id": "140fe531",
   "metadata": {},
   "outputs": [
    {
     "data": {
      "text/plain": [
       "(0, 34)"
      ]
     },
     "execution_count": 465,
     "metadata": {},
     "output_type": "execute_result"
    }
   ],
   "source": [
    "# Identification du type de jointure où certaines lignes n'ont pas trouvé de correspondance\n",
    "df_BottleNeck_right=erp_liaison_web.loc[erp_liaison_web['_merge']=='right_only']\n",
    "df_BottleNeck_right.shape"
   ]
  },
  {
   "cell_type": "code",
   "execution_count": 466,
   "id": "17550793",
   "metadata": {},
   "outputs": [
    {
     "data": {
      "text/plain": [
       "(111, 34)"
      ]
     },
     "execution_count": 466,
     "metadata": {},
     "output_type": "execute_result"
    }
   ],
   "source": [
    "df_BottleNeck_left=erp_liaison_web.loc[erp_liaison_web['_merge']=='left_only']\n",
    "df_BottleNeck_left.shape"
   ]
  },
  {
   "cell_type": "markdown",
   "id": "b181d133",
   "metadata": {},
   "source": [
    "Nous constatons que la jointure pour laquelle il n'y a pas eu correspondance sur toutes les lignes est de type 'left_only'.\n",
    "Ce qui nous permet de conclure que tous les 'sku' du dataframe erp_liaison, n'ont pas trouvé de correspondance dans le 'sku' du web_product(des produits)."
   ]
  },
  {
   "cell_type": "markdown",
   "id": "9845aa25",
   "metadata": {},
   "source": [
    "#  <font color='purple'>Etape 5 - Calcul du chiffre d'affaires<a class=\"anchor\" id=\"Etape5\">"
   ]
  },
  {
   "cell_type": "markdown",
   "id": "395ceb78",
   "metadata": {},
   "source": [
    "## <font color='purple'>5.1 - Calcul du chiffre d'affaires par produit<a class=\"anchor\" id=\"section_5_1\">"
   ]
  },
  {
   "cell_type": "code",
   "execution_count": 467,
   "id": "28125a76",
   "metadata": {
    "scrolled": true
   },
   "outputs": [
    {
     "name": "stderr",
     "output_type": "stream",
     "text": [
      "C:\\Users\\Ruddy\\AppData\\Local\\Temp\\ipykernel_15308\\205186514.py:2: SettingWithCopyWarning: \n",
      "A value is trying to be set on a copy of a slice from a DataFrame.\n",
      "Try using .loc[row_indexer,col_indexer] = value instead\n",
      "\n",
      "See the caveats in the documentation: https://pandas.pydata.org/pandas-docs/stable/user_guide/indexing.html#returning-a-view-versus-a-copy\n",
      "  df_BottleNeck['Chiffre_affaires'] = df_BottleNeck['total_sales'] * df_BottleNeck['price']\n"
     ]
    }
   ],
   "source": [
    "# Calcul du chiffre d'affaires par produit\n",
    "df_BottleNeck['Chiffre_affaires'] = df_BottleNeck['total_sales'] * df_BottleNeck['price']"
   ]
  },
  {
   "cell_type": "code",
   "execution_count": 468,
   "id": "c315e36d",
   "metadata": {},
   "outputs": [
    {
     "data": {
      "text/html": [
       "<div>\n",
       "<style scoped>\n",
       "    .dataframe tbody tr th:only-of-type {\n",
       "        vertical-align: middle;\n",
       "    }\n",
       "\n",
       "    .dataframe tbody tr th {\n",
       "        vertical-align: top;\n",
       "    }\n",
       "\n",
       "    .dataframe thead th {\n",
       "        text-align: right;\n",
       "    }\n",
       "</style>\n",
       "<table border=\"1\" class=\"dataframe\">\n",
       "  <thead>\n",
       "    <tr style=\"text-align: right;\">\n",
       "      <th></th>\n",
       "      <th>product_id</th>\n",
       "      <th>onsale_web</th>\n",
       "      <th>price</th>\n",
       "      <th>stock_quantity</th>\n",
       "      <th>stock_status</th>\n",
       "      <th>sku</th>\n",
       "      <th>virtual</th>\n",
       "      <th>downloadable</th>\n",
       "      <th>rating_count</th>\n",
       "      <th>average_rating</th>\n",
       "      <th>...</th>\n",
       "      <th>post_modified_gmt</th>\n",
       "      <th>post_content_filtered</th>\n",
       "      <th>post_parent</th>\n",
       "      <th>guid</th>\n",
       "      <th>menu_order</th>\n",
       "      <th>post_type</th>\n",
       "      <th>post_mime_type</th>\n",
       "      <th>comment_count</th>\n",
       "      <th>_merge</th>\n",
       "      <th>Chiffre_affaires</th>\n",
       "    </tr>\n",
       "  </thead>\n",
       "  <tbody>\n",
       "    <tr>\n",
       "      <th>0</th>\n",
       "      <td>3847</td>\n",
       "      <td>1</td>\n",
       "      <td>24.2</td>\n",
       "      <td>0</td>\n",
       "      <td>outofstock</td>\n",
       "      <td>15298</td>\n",
       "      <td>0.0</td>\n",
       "      <td>0.0</td>\n",
       "      <td>0.0</td>\n",
       "      <td>0.0</td>\n",
       "      <td>...</td>\n",
       "      <td>2019-12-30 08:30:29</td>\n",
       "      <td>NaN</td>\n",
       "      <td>0.0</td>\n",
       "      <td>https://www.bottle-neck.fr/?post_type=product&amp;...</td>\n",
       "      <td>0.0</td>\n",
       "      <td>product</td>\n",
       "      <td>NaN</td>\n",
       "      <td>0.0</td>\n",
       "      <td>both</td>\n",
       "      <td>145.2</td>\n",
       "    </tr>\n",
       "    <tr>\n",
       "      <th>1</th>\n",
       "      <td>3849</td>\n",
       "      <td>1</td>\n",
       "      <td>34.3</td>\n",
       "      <td>0</td>\n",
       "      <td>outofstock</td>\n",
       "      <td>15296</td>\n",
       "      <td>0.0</td>\n",
       "      <td>0.0</td>\n",
       "      <td>0.0</td>\n",
       "      <td>0.0</td>\n",
       "      <td>...</td>\n",
       "      <td>2019-12-21 08:00:17</td>\n",
       "      <td>NaN</td>\n",
       "      <td>0.0</td>\n",
       "      <td>https://www.bottle-neck.fr/?post_type=product&amp;...</td>\n",
       "      <td>0.0</td>\n",
       "      <td>product</td>\n",
       "      <td>NaN</td>\n",
       "      <td>0.0</td>\n",
       "      <td>both</td>\n",
       "      <td>0.0</td>\n",
       "    </tr>\n",
       "    <tr>\n",
       "      <th>2</th>\n",
       "      <td>3850</td>\n",
       "      <td>1</td>\n",
       "      <td>20.8</td>\n",
       "      <td>0</td>\n",
       "      <td>outofstock</td>\n",
       "      <td>15300</td>\n",
       "      <td>0.0</td>\n",
       "      <td>0.0</td>\n",
       "      <td>0.0</td>\n",
       "      <td>0.0</td>\n",
       "      <td>...</td>\n",
       "      <td>2020-06-26 16:15:03</td>\n",
       "      <td>NaN</td>\n",
       "      <td>0.0</td>\n",
       "      <td>https://www.bottle-neck.fr/?post_type=product&amp;...</td>\n",
       "      <td>0.0</td>\n",
       "      <td>product</td>\n",
       "      <td>NaN</td>\n",
       "      <td>0.0</td>\n",
       "      <td>both</td>\n",
       "      <td>0.0</td>\n",
       "    </tr>\n",
       "    <tr>\n",
       "      <th>3</th>\n",
       "      <td>4032</td>\n",
       "      <td>1</td>\n",
       "      <td>14.1</td>\n",
       "      <td>0</td>\n",
       "      <td>outofstock</td>\n",
       "      <td>19814</td>\n",
       "      <td>0.0</td>\n",
       "      <td>0.0</td>\n",
       "      <td>0.0</td>\n",
       "      <td>0.0</td>\n",
       "      <td>...</td>\n",
       "      <td>2020-01-04 15:36:01</td>\n",
       "      <td>NaN</td>\n",
       "      <td>0.0</td>\n",
       "      <td>https://www.bottle-neck.fr/?post_type=product&amp;...</td>\n",
       "      <td>0.0</td>\n",
       "      <td>product</td>\n",
       "      <td>NaN</td>\n",
       "      <td>0.0</td>\n",
       "      <td>both</td>\n",
       "      <td>42.3</td>\n",
       "    </tr>\n",
       "    <tr>\n",
       "      <th>4</th>\n",
       "      <td>4039</td>\n",
       "      <td>1</td>\n",
       "      <td>46.0</td>\n",
       "      <td>0</td>\n",
       "      <td>outofstock</td>\n",
       "      <td>19815</td>\n",
       "      <td>0.0</td>\n",
       "      <td>0.0</td>\n",
       "      <td>0.0</td>\n",
       "      <td>0.0</td>\n",
       "      <td>...</td>\n",
       "      <td>2020-01-04 15:36:10</td>\n",
       "      <td>NaN</td>\n",
       "      <td>0.0</td>\n",
       "      <td>https://www.bottle-neck.fr/?post_type=product&amp;...</td>\n",
       "      <td>0.0</td>\n",
       "      <td>product</td>\n",
       "      <td>NaN</td>\n",
       "      <td>0.0</td>\n",
       "      <td>both</td>\n",
       "      <td>0.0</td>\n",
       "    </tr>\n",
       "    <tr>\n",
       "      <th>...</th>\n",
       "      <td>...</td>\n",
       "      <td>...</td>\n",
       "      <td>...</td>\n",
       "      <td>...</td>\n",
       "      <td>...</td>\n",
       "      <td>...</td>\n",
       "      <td>...</td>\n",
       "      <td>...</td>\n",
       "      <td>...</td>\n",
       "      <td>...</td>\n",
       "      <td>...</td>\n",
       "      <td>...</td>\n",
       "      <td>...</td>\n",
       "      <td>...</td>\n",
       "      <td>...</td>\n",
       "      <td>...</td>\n",
       "      <td>...</td>\n",
       "      <td>...</td>\n",
       "      <td>...</td>\n",
       "      <td>...</td>\n",
       "      <td>...</td>\n",
       "    </tr>\n",
       "    <tr>\n",
       "      <th>819</th>\n",
       "      <td>6930</td>\n",
       "      <td>1</td>\n",
       "      <td>8.4</td>\n",
       "      <td>83</td>\n",
       "      <td>instock</td>\n",
       "      <td>16135</td>\n",
       "      <td>0.0</td>\n",
       "      <td>0.0</td>\n",
       "      <td>0.0</td>\n",
       "      <td>0.0</td>\n",
       "      <td>...</td>\n",
       "      <td>2020-08-26 15:35:03</td>\n",
       "      <td>NaN</td>\n",
       "      <td>0.0</td>\n",
       "      <td>https://www.bottle-neck.fr/?post_type=product&amp;...</td>\n",
       "      <td>0.0</td>\n",
       "      <td>product</td>\n",
       "      <td>NaN</td>\n",
       "      <td>0.0</td>\n",
       "      <td>both</td>\n",
       "      <td>42.0</td>\n",
       "    </tr>\n",
       "    <tr>\n",
       "      <th>820</th>\n",
       "      <td>7023</td>\n",
       "      <td>1</td>\n",
       "      <td>27.5</td>\n",
       "      <td>15</td>\n",
       "      <td>instock</td>\n",
       "      <td>15891</td>\n",
       "      <td>0.0</td>\n",
       "      <td>0.0</td>\n",
       "      <td>0.0</td>\n",
       "      <td>0.0</td>\n",
       "      <td>...</td>\n",
       "      <td>2020-08-26 15:35:02</td>\n",
       "      <td>NaN</td>\n",
       "      <td>0.0</td>\n",
       "      <td>https://www.bottle-neck.fr/?post_type=product&amp;...</td>\n",
       "      <td>0.0</td>\n",
       "      <td>product</td>\n",
       "      <td>NaN</td>\n",
       "      <td>0.0</td>\n",
       "      <td>both</td>\n",
       "      <td>0.0</td>\n",
       "    </tr>\n",
       "    <tr>\n",
       "      <th>821</th>\n",
       "      <td>7025</td>\n",
       "      <td>1</td>\n",
       "      <td>69.0</td>\n",
       "      <td>2</td>\n",
       "      <td>instock</td>\n",
       "      <td>15887</td>\n",
       "      <td>0.0</td>\n",
       "      <td>0.0</td>\n",
       "      <td>0.0</td>\n",
       "      <td>0.0</td>\n",
       "      <td>...</td>\n",
       "      <td>2020-08-14 16:15:03</td>\n",
       "      <td>NaN</td>\n",
       "      <td>0.0</td>\n",
       "      <td>https://www.bottle-neck.fr/?post_type=product&amp;...</td>\n",
       "      <td>0.0</td>\n",
       "      <td>product</td>\n",
       "      <td>NaN</td>\n",
       "      <td>0.0</td>\n",
       "      <td>both</td>\n",
       "      <td>0.0</td>\n",
       "    </tr>\n",
       "    <tr>\n",
       "      <th>822</th>\n",
       "      <td>7247</td>\n",
       "      <td>1</td>\n",
       "      <td>54.8</td>\n",
       "      <td>23</td>\n",
       "      <td>instock</td>\n",
       "      <td>13127-1</td>\n",
       "      <td>0.0</td>\n",
       "      <td>0.0</td>\n",
       "      <td>0.0</td>\n",
       "      <td>0.0</td>\n",
       "      <td>...</td>\n",
       "      <td>2020-07-20 15:09:06</td>\n",
       "      <td>NaN</td>\n",
       "      <td>0.0</td>\n",
       "      <td>https://www.bottle-neck.fr/?post_type=product&amp;...</td>\n",
       "      <td>0.0</td>\n",
       "      <td>product</td>\n",
       "      <td>NaN</td>\n",
       "      <td>0.0</td>\n",
       "      <td>both</td>\n",
       "      <td>0.0</td>\n",
       "    </tr>\n",
       "    <tr>\n",
       "      <th>824</th>\n",
       "      <td>7338</td>\n",
       "      <td>1</td>\n",
       "      <td>16.3</td>\n",
       "      <td>45</td>\n",
       "      <td>instock</td>\n",
       "      <td>16230</td>\n",
       "      <td>0.0</td>\n",
       "      <td>0.0</td>\n",
       "      <td>0.0</td>\n",
       "      <td>0.0</td>\n",
       "      <td>...</td>\n",
       "      <td>2020-08-13 08:45:03</td>\n",
       "      <td>NaN</td>\n",
       "      <td>0.0</td>\n",
       "      <td>https://www.bottle-neck.fr/?post_type=product&amp;...</td>\n",
       "      <td>0.0</td>\n",
       "      <td>product</td>\n",
       "      <td>NaN</td>\n",
       "      <td>0.0</td>\n",
       "      <td>both</td>\n",
       "      <td>0.0</td>\n",
       "    </tr>\n",
       "  </tbody>\n",
       "</table>\n",
       "<p>714 rows × 35 columns</p>\n",
       "</div>"
      ],
      "text/plain": [
       "    product_id  onsale_web  price  stock_quantity stock_status      sku  \\\n",
       "0         3847           1   24.2               0   outofstock    15298   \n",
       "1         3849           1   34.3               0   outofstock    15296   \n",
       "2         3850           1   20.8               0   outofstock    15300   \n",
       "3         4032           1   14.1               0   outofstock    19814   \n",
       "4         4039           1   46.0               0   outofstock    19815   \n",
       "..         ...         ...    ...             ...          ...      ...   \n",
       "819       6930           1    8.4              83      instock    16135   \n",
       "820       7023           1   27.5              15      instock    15891   \n",
       "821       7025           1   69.0               2      instock    15887   \n",
       "822       7247           1   54.8              23      instock  13127-1   \n",
       "824       7338           1   16.3              45      instock    16230   \n",
       "\n",
       "     virtual  downloadable  rating_count  average_rating  ...  \\\n",
       "0        0.0           0.0           0.0             0.0  ...   \n",
       "1        0.0           0.0           0.0             0.0  ...   \n",
       "2        0.0           0.0           0.0             0.0  ...   \n",
       "3        0.0           0.0           0.0             0.0  ...   \n",
       "4        0.0           0.0           0.0             0.0  ...   \n",
       "..       ...           ...           ...             ...  ...   \n",
       "819      0.0           0.0           0.0             0.0  ...   \n",
       "820      0.0           0.0           0.0             0.0  ...   \n",
       "821      0.0           0.0           0.0             0.0  ...   \n",
       "822      0.0           0.0           0.0             0.0  ...   \n",
       "824      0.0           0.0           0.0             0.0  ...   \n",
       "\n",
       "      post_modified_gmt post_content_filtered  post_parent  \\\n",
       "0   2019-12-30 08:30:29                   NaN          0.0   \n",
       "1   2019-12-21 08:00:17                   NaN          0.0   \n",
       "2   2020-06-26 16:15:03                   NaN          0.0   \n",
       "3   2020-01-04 15:36:01                   NaN          0.0   \n",
       "4   2020-01-04 15:36:10                   NaN          0.0   \n",
       "..                  ...                   ...          ...   \n",
       "819 2020-08-26 15:35:03                   NaN          0.0   \n",
       "820 2020-08-26 15:35:02                   NaN          0.0   \n",
       "821 2020-08-14 16:15:03                   NaN          0.0   \n",
       "822 2020-07-20 15:09:06                   NaN          0.0   \n",
       "824 2020-08-13 08:45:03                   NaN          0.0   \n",
       "\n",
       "                                                  guid menu_order post_type  \\\n",
       "0    https://www.bottle-neck.fr/?post_type=product&...        0.0   product   \n",
       "1    https://www.bottle-neck.fr/?post_type=product&...        0.0   product   \n",
       "2    https://www.bottle-neck.fr/?post_type=product&...        0.0   product   \n",
       "3    https://www.bottle-neck.fr/?post_type=product&...        0.0   product   \n",
       "4    https://www.bottle-neck.fr/?post_type=product&...        0.0   product   \n",
       "..                                                 ...        ...       ...   \n",
       "819  https://www.bottle-neck.fr/?post_type=product&...        0.0   product   \n",
       "820  https://www.bottle-neck.fr/?post_type=product&...        0.0   product   \n",
       "821  https://www.bottle-neck.fr/?post_type=product&...        0.0   product   \n",
       "822  https://www.bottle-neck.fr/?post_type=product&...        0.0   product   \n",
       "824  https://www.bottle-neck.fr/?post_type=product&...        0.0   product   \n",
       "\n",
       "     post_mime_type comment_count _merge Chiffre_affaires  \n",
       "0               NaN           0.0   both            145.2  \n",
       "1               NaN           0.0   both              0.0  \n",
       "2               NaN           0.0   both              0.0  \n",
       "3               NaN           0.0   both             42.3  \n",
       "4               NaN           0.0   both              0.0  \n",
       "..              ...           ...    ...              ...  \n",
       "819             NaN           0.0   both             42.0  \n",
       "820             NaN           0.0   both              0.0  \n",
       "821             NaN           0.0   both              0.0  \n",
       "822             NaN           0.0   both              0.0  \n",
       "824             NaN           0.0   both              0.0  \n",
       "\n",
       "[714 rows x 35 columns]"
      ]
     },
     "execution_count": 468,
     "metadata": {},
     "output_type": "execute_result"
    }
   ],
   "source": [
    "df_BottleNeck"
   ]
  },
  {
   "cell_type": "code",
   "execution_count": 469,
   "id": "92871e12",
   "metadata": {},
   "outputs": [
    {
     "data": {
      "text/html": [
       "<div>\n",
       "<style scoped>\n",
       "    .dataframe tbody tr th:only-of-type {\n",
       "        vertical-align: middle;\n",
       "    }\n",
       "\n",
       "    .dataframe tbody tr th {\n",
       "        vertical-align: top;\n",
       "    }\n",
       "\n",
       "    .dataframe thead th {\n",
       "        text-align: right;\n",
       "    }\n",
       "</style>\n",
       "<table border=\"1\" class=\"dataframe\">\n",
       "  <thead>\n",
       "    <tr style=\"text-align: right;\">\n",
       "      <th></th>\n",
       "      <th>product_id</th>\n",
       "      <th>total_sales</th>\n",
       "      <th>price</th>\n",
       "      <th>Chiffre_affaires</th>\n",
       "    </tr>\n",
       "  </thead>\n",
       "  <tbody>\n",
       "    <tr>\n",
       "      <th>0</th>\n",
       "      <td>3847</td>\n",
       "      <td>6.0</td>\n",
       "      <td>24.2</td>\n",
       "      <td>145.2</td>\n",
       "    </tr>\n",
       "    <tr>\n",
       "      <th>1</th>\n",
       "      <td>3849</td>\n",
       "      <td>0.0</td>\n",
       "      <td>34.3</td>\n",
       "      <td>0.0</td>\n",
       "    </tr>\n",
       "    <tr>\n",
       "      <th>2</th>\n",
       "      <td>3850</td>\n",
       "      <td>0.0</td>\n",
       "      <td>20.8</td>\n",
       "      <td>0.0</td>\n",
       "    </tr>\n",
       "    <tr>\n",
       "      <th>3</th>\n",
       "      <td>4032</td>\n",
       "      <td>3.0</td>\n",
       "      <td>14.1</td>\n",
       "      <td>42.3</td>\n",
       "    </tr>\n",
       "    <tr>\n",
       "      <th>4</th>\n",
       "      <td>4039</td>\n",
       "      <td>0.0</td>\n",
       "      <td>46.0</td>\n",
       "      <td>0.0</td>\n",
       "    </tr>\n",
       "    <tr>\n",
       "      <th>...</th>\n",
       "      <td>...</td>\n",
       "      <td>...</td>\n",
       "      <td>...</td>\n",
       "      <td>...</td>\n",
       "    </tr>\n",
       "    <tr>\n",
       "      <th>819</th>\n",
       "      <td>6930</td>\n",
       "      <td>5.0</td>\n",
       "      <td>8.4</td>\n",
       "      <td>42.0</td>\n",
       "    </tr>\n",
       "    <tr>\n",
       "      <th>820</th>\n",
       "      <td>7023</td>\n",
       "      <td>0.0</td>\n",
       "      <td>27.5</td>\n",
       "      <td>0.0</td>\n",
       "    </tr>\n",
       "    <tr>\n",
       "      <th>821</th>\n",
       "      <td>7025</td>\n",
       "      <td>0.0</td>\n",
       "      <td>69.0</td>\n",
       "      <td>0.0</td>\n",
       "    </tr>\n",
       "    <tr>\n",
       "      <th>822</th>\n",
       "      <td>7247</td>\n",
       "      <td>0.0</td>\n",
       "      <td>54.8</td>\n",
       "      <td>0.0</td>\n",
       "    </tr>\n",
       "    <tr>\n",
       "      <th>824</th>\n",
       "      <td>7338</td>\n",
       "      <td>0.0</td>\n",
       "      <td>16.3</td>\n",
       "      <td>0.0</td>\n",
       "    </tr>\n",
       "  </tbody>\n",
       "</table>\n",
       "<p>714 rows × 4 columns</p>\n",
       "</div>"
      ],
      "text/plain": [
       "    product_id  total_sales  price  Chiffre_affaires\n",
       "0         3847          6.0   24.2             145.2\n",
       "1         3849          0.0   34.3               0.0\n",
       "2         3850          0.0   20.8               0.0\n",
       "3         4032          3.0   14.1              42.3\n",
       "4         4039          0.0   46.0               0.0\n",
       "..         ...          ...    ...               ...\n",
       "819       6930          5.0    8.4              42.0\n",
       "820       7023          0.0   27.5               0.0\n",
       "821       7025          0.0   69.0               0.0\n",
       "822       7247          0.0   54.8               0.0\n",
       "824       7338          0.0   16.3               0.0\n",
       "\n",
       "[714 rows x 4 columns]"
      ]
     },
     "execution_count": 469,
     "metadata": {},
     "output_type": "execute_result"
    }
   ],
   "source": [
    "# df pour mieux observer le chiffre d'affaires par produit\n",
    "df_BottleNeck_ca=df_BottleNeck[['product_id','total_sales','price','Chiffre_affaires']]\n",
    "df_BottleNeck_ca"
   ]
  },
  {
   "cell_type": "markdown",
   "id": "cbfe6329",
   "metadata": {},
   "source": [
    "## <font color='purple'> 5.2 - Calcul du chiffre d'affaires total<a class=\"anchor\" id=\"section_5_2\">"
   ]
  },
  {
   "cell_type": "code",
   "execution_count": 470,
   "id": "4b217bdd",
   "metadata": {},
   "outputs": [
    {
     "name": "stdout",
     "output_type": "stream",
     "text": [
      "Le chiffre d'affaires total réalisé en ligne est de : 70568.6 €.\n"
     ]
    }
   ],
   "source": [
    "# Calcul du total du chiffre d'affaires\n",
    "total_CA = df_BottleNeck['Chiffre_affaires'].sum()\n",
    "print(\"Le chiffre d'affaires total réalisé en ligne est de :\", total_CA, \"€.\")"
   ]
  },
  {
   "cell_type": "markdown",
   "id": "b48bf4b9",
   "metadata": {},
   "source": [
    "# <font color='purple'> Etape 6 - Détection de valeurs aberrantes et représentation graphique<a class=\"anchor\" id=\"Etape6\">"
   ]
  },
  {
   "cell_type": "markdown",
   "id": "b16be718",
   "metadata": {},
   "source": [
    "*  <font color='blue'>Recherche les valeurs aberrantes en utilisant la règle empirique \n",
    "\n",
    "Pour cette méthode,nous calculerons la moyenne et l'écart type des prix.\n",
    "\n",
    "Les valeurs aberrante sont les données qui se situent à plus ou moins 2 écarts-types de la moyenne"
   ]
  },
  {
   "cell_type": "code",
   "execution_count": 471,
   "id": "7c09d364",
   "metadata": {},
   "outputs": [],
   "source": [
    "# Calcul de la moyenne et l'écart type des prix\n",
    "mean = np.mean(df_BottleNeck['price'])\n",
    "std = np.std(df_BottleNeck['price'])"
   ]
  },
  {
   "cell_type": "code",
   "execution_count": 472,
   "id": "8dc11a59",
   "metadata": {},
   "outputs": [
    {
     "data": {
      "text/plain": [
       "32.49313725490197"
      ]
     },
     "execution_count": 472,
     "metadata": {},
     "output_type": "execute_result"
    }
   ],
   "source": [
    "mean"
   ]
  },
  {
   "cell_type": "code",
   "execution_count": 473,
   "id": "78993a43",
   "metadata": {},
   "outputs": [
    {
     "data": {
      "text/plain": [
       "27.791042941002935"
      ]
     },
     "execution_count": 473,
     "metadata": {},
     "output_type": "execute_result"
    }
   ],
   "source": [
    "std"
   ]
  },
  {
   "cell_type": "code",
   "execution_count": 474,
   "id": "3dff7b48",
   "metadata": {
    "scrolled": true
   },
   "outputs": [
    {
     "data": {
      "text/plain": [
       "count    714.000000\n",
       "mean      32.493137\n",
       "std       27.810525\n",
       "min        5.200000\n",
       "25%       14.100000\n",
       "50%       23.550000\n",
       "75%       42.175000\n",
       "max      225.000000\n",
       "Name: price, dtype: float64"
      ]
     },
     "execution_count": 474,
     "metadata": {},
     "output_type": "execute_result"
    }
   ],
   "source": [
    "df_BottleNeck['price'].describe()"
   ]
  },
  {
   "cell_type": "markdown",
   "id": "31b4042d",
   "metadata": {},
   "source": [
    "La méthode .describe nous fournit un récapitulatif statistique de base de la colonne 'price' de notre dataframe.\n",
    "\n",
    "Ainsi, sur un total de 714 produits, le prix le plus bas est de 5.20€ et le plus élevé est de 225€. Les valeurs du premier et du troisième quartiles sont respectivement de 14.10€ et 42.17€, tandis que la médiane (ou deuxième quartile, représentant 50% de l'ensemble) est de 23.55€.\n",
    "\n",
    "L'écart type est de 27.81€, indiquant une dispersion des prix autour de la moyenne, qui est de 32.49€. Il est à noter une divergence entre cette dernière et la médiane, signalant une distribution possiblement asymétrique des prix."
   ]
  },
  {
   "cell_type": "code",
   "execution_count": 475,
   "id": "d36bdbc2",
   "metadata": {},
   "outputs": [],
   "source": [
    "outlier = df_BottleNeck[(df_BottleNeck['price'] < mean - 2 * std) | (df_BottleNeck['price'] > mean + 2 * std)]"
   ]
  },
  {
   "cell_type": "code",
   "execution_count": 476,
   "id": "c6ec19ac",
   "metadata": {
    "scrolled": false
   },
   "outputs": [
    {
     "name": "stdout",
     "output_type": "stream",
     "text": [
      "Valeurs aberrantes :\n",
      "154    100.0\n",
      "156     88.4\n",
      "291    225.0\n",
      "293    126.5\n",
      "310    176.0\n",
      "311    108.5\n",
      "313    157.0\n",
      "314    104.0\n",
      "320    109.6\n",
      "477    102.3\n",
      "478    137.0\n",
      "525    217.5\n",
      "530    105.0\n",
      "531    105.0\n",
      "538    112.0\n",
      "605     92.0\n",
      "615    124.8\n",
      "657    175.0\n",
      "692    191.3\n",
      "707     93.0\n",
      "708    122.0\n",
      "709    114.0\n",
      "752    135.0\n",
      "757    105.6\n",
      "758    116.4\n",
      "763    115.0\n",
      "764    121.0\n",
      "765     99.0\n",
      "766    115.0\n",
      "767    121.0\n",
      "Name: price, dtype: float64\n",
      "Le nombre total de valeurs aberrantes est de : 30\n"
     ]
    }
   ],
   "source": [
    "# Affichage des valeurs aberrantes \n",
    "print(\"Valeurs aberrantes :\")\n",
    "print(outlier['price'])\n",
    "print(\"Le nombre total de valeurs aberrantes est de :\", outlier['price'].count())"
   ]
  },
  {
   "cell_type": "markdown",
   "id": "22cc629b",
   "metadata": {},
   "source": [
    "*  <font color='blue'>Représentation graphique des données et des valeurs aberrantes "
   ]
  },
  {
   "cell_type": "code",
   "execution_count": 477,
   "id": "4a2e4545",
   "metadata": {},
   "outputs": [
    {
     "data": {
      "image/png": "[encoded data removed]",
      "text/plain": [
       "<Figure size 640x480 with 1 Axes>"
      ]
     },
     "metadata": {},
     "output_type": "display_data"
    }
   ],
   "source": [
    "# Création un graphique à points (scatter plot) pour les données normales et les valeurs aberrantes\n",
    "plt.scatter(df_BottleNeck['product_id'], df_BottleNeck['price'], color='blue', label='Données normales')\n",
    "plt.scatter(outlier['product_id'], outlier['price'], color='red', label='Valeurs aberrantes')\n",
    "\n",
    "# Ajout du titre\n",
    "plt.xlabel('product_id')\n",
    "plt.ylabel('price')\n",
    "plt.title('Représentation graphique des prix de produits et des valeurs aberrantes')\n",
    "plt.legend()\n",
    "plt.show()"
   ]
  },
  {
   "cell_type": "markdown",
   "id": "f11be82e",
   "metadata": {},
   "source": [
    "*  <font color='blue'>Méthode des inter-quartiles\n",
    "\n",
    "\n",
    "Dans cette approche, nous déterminerons les valeurs du premier et du troisième quartile, ainsi que l'écart interquartile. De plus, nous établirons la valeur de la borne inférieure et celle de la borne supérieure.\n",
    "\n",
    "Les valeurs qui se situent en dessous de la borne inférieure ou au-dessus de la borne supérieure seront traitées comme des valeurs aberrantes (outliers).\n",
    "\n",
    "\n"
   ]
  },
  {
   "cell_type": "code",
   "execution_count": 478,
   "id": "d1a1b9f1",
   "metadata": {},
   "outputs": [
    {
     "name": "stdout",
     "output_type": "stream",
     "text": [
      "Q1= 14.1  \n"
     ]
    }
   ],
   "source": [
    "# Calcul du premier quartile\n",
    "q1= np.percentile(df_BottleNeck['price'],25)\n",
    "print(\"Q1=\", q1, \" \")"
   ]
  },
  {
   "cell_type": "code",
   "execution_count": 479,
   "id": "1b538a83",
   "metadata": {},
   "outputs": [
    {
     "name": "stdout",
     "output_type": "stream",
     "text": [
      "Q3= 42.175000000000004  \n"
     ]
    }
   ],
   "source": [
    "# Calcul du troisième quartile\n",
    "q3= np.percentile(df_BottleNeck['price'],75)\n",
    "print(\"Q3=\", q3, \" \")"
   ]
  },
  {
   "cell_type": "code",
   "execution_count": 480,
   "id": "b8b735c7",
   "metadata": {},
   "outputs": [
    {
     "name": "stdout",
     "output_type": "stream",
     "text": [
      "IQR= 28.075000000000003  \n"
     ]
    }
   ],
   "source": [
    "# Calcul de l'inter-quartile\n",
    "iqr=q3-q1\n",
    "print(\"IQR=\",iqr,\" \")"
   ]
  },
  {
   "cell_type": "code",
   "execution_count": 481,
   "id": "f49728a3",
   "metadata": {},
   "outputs": [
    {
     "name": "stdout",
     "output_type": "stream",
     "text": [
      "lower_bound= -28.012500000000003  \n"
     ]
    }
   ],
   "source": [
    "# Calcul de la borne inférieure\n",
    "lower_bound = q1 -(1.5 * iqr)\n",
    "print(\"lower_bound=\",lower_bound,\" \")"
   ]
  },
  {
   "cell_type": "code",
   "execution_count": 482,
   "id": "203fc2ad",
   "metadata": {},
   "outputs": [
    {
     "name": "stdout",
     "output_type": "stream",
     "text": [
      "upper_bound= 84.28750000000001  \n"
     ]
    }
   ],
   "source": [
    "# Calcul de la borne supérieure\n",
    "upper_bound = q3 +(1.5 * iqr)\n",
    "print(\"upper_bound=\",upper_bound,\" \")"
   ]
  },
  {
   "cell_type": "code",
   "execution_count": 483,
   "id": "e224fb91",
   "metadata": {},
   "outputs": [],
   "source": [
    "# Recherche des outliers\n",
    "outliers = df_BottleNeck[(df_BottleNeck['price'] > upper_bound) | (df_BottleNeck['price'] < lower_bound)]"
   ]
  },
  {
   "cell_type": "code",
   "execution_count": 484,
   "id": "0ca163a8",
   "metadata": {},
   "outputs": [
    {
     "name": "stdout",
     "output_type": "stream",
     "text": [
      "Le nombre total de valeurs aberrantes est de : 32\n"
     ]
    },
    {
     "data": {
      "text/plain": [
       "154    100.0\n",
       "156     88.4\n",
       "291    225.0\n",
       "293    126.5\n",
       "297     85.6\n",
       "310    176.0\n",
       "311    108.5\n",
       "313    157.0\n",
       "314    104.0\n",
       "320    109.6\n",
       "477    102.3\n",
       "478    137.0\n",
       "525    217.5\n",
       "530    105.0\n",
       "531    105.0\n",
       "538    112.0\n",
       "539     86.8\n",
       "605     92.0\n",
       "615    124.8\n",
       "657    175.0\n",
       "692    191.3\n",
       "707     93.0\n",
       "708    122.0\n",
       "709    114.0\n",
       "752    135.0\n",
       "757    105.6\n",
       "758    116.4\n",
       "763    115.0\n",
       "764    121.0\n",
       "765     99.0\n",
       "766    115.0\n",
       "767    121.0\n",
       "Name: price, dtype: float64"
      ]
     },
     "execution_count": 484,
     "metadata": {},
     "output_type": "execute_result"
    }
   ],
   "source": [
    "print(\"Le nombre total de valeurs aberrantes est de :\", outliers['price'].count())\n",
    "outliers['price']"
   ]
  },
  {
   "cell_type": "markdown",
   "id": "d79fef57",
   "metadata": {},
   "source": [
    "*  <font color='blue'>Représentation graphique des données et des outliers"
   ]
  },
  {
   "cell_type": "code",
   "execution_count": 485,
   "id": "4b0ea949",
   "metadata": {},
   "outputs": [
    {
     "data": {
      "image/png": "[encoded data removed]",
      "text/plain": [
       "<Figure size 640x480 with 1 Axes>"
      ]
     },
     "metadata": {},
     "output_type": "display_data"
    }
   ],
   "source": [
    "df_BottleNeck.boxplot(column =['price'],grid = False) \n",
    "plt.title('Représentation graphique des prix de produits et des valeurs aberrantes')\n",
    "plt.ylabel('Price')\n",
    "plt.show()"
   ]
  },
  {
   "cell_type": "markdown",
   "id": "940dc8f9",
   "metadata": {},
   "source": [
    "Étant donné que la limite inférieure est négative (-28,01), il est naturel de ne pas trouver d'outlier inférieur, puisqu'un prix ne peut pas être négatif et le prix minimal dans nos données est de 5,20€.\n",
    "\n",
    "Pour ce qui est de la limite supérieure, elle est fixée à 84,28€. Cependant, le prix maximal de nos produits est de 225€, indiquant clairement la présence d'au moins un outlier supérieur. En fait, nous avons identifié 32 produits comme tels.\n",
    "\n",
    "En regardant la médiane de notre graphique, il est évident que les produits à bas prix sont plus fréquents sur la boutique en ligne de BottleNeck par rapport aux produits à prix élevé.\n"
   ]
  },
  {
   "cell_type": "markdown",
   "id": "fcb15349",
   "metadata": {},
   "source": [
    "* <font color='blue'>Observation de la liste des produits considérés comme outliers"
   ]
  },
  {
   "cell_type": "code",
   "execution_count": 486,
   "id": "f45a8dce",
   "metadata": {},
   "outputs": [],
   "source": [
    "# Création d'un dataframe avec uniquement les produits considérés comme des valeurs aberrantes. \n",
    "df_outliers=df_BottleNeck[['product_id','post_title','total_sales','price','stock_status','Chiffre_affaires']]"
   ]
  },
  {
   "cell_type": "code",
   "execution_count": 487,
   "id": "27500d8d",
   "metadata": {},
   "outputs": [],
   "source": [
    "# Création d'un liste de valeurs aberrantes et selection à partir de la liste dans notre dataframe\n",
    "liste_outliers = [154.0,100.0,88.4,225.0,126.5,85.6,176.0,108.5,157.0,104.0,109.6,102.3,137.0,217.5,105.0,105.0,112.0,86.8,92.0,124.8,175.0,191.3,93.0,122.0,114.0,135.0,105.6,116.4,115.0,121.0,99.0,115.0,121.0]\n",
    "df_outliers1 = df_outliers.loc[df_outliers['price'].isin(liste_outliers), :]"
   ]
  },
  {
   "cell_type": "code",
   "execution_count": 488,
   "id": "08244e21",
   "metadata": {},
   "outputs": [
    {
     "data": {
      "text/html": [
       "<div>\n",
       "<style scoped>\n",
       "    .dataframe tbody tr th:only-of-type {\n",
       "        vertical-align: middle;\n",
       "    }\n",
       "\n",
       "    .dataframe tbody tr th {\n",
       "        vertical-align: top;\n",
       "    }\n",
       "\n",
       "    .dataframe thead th {\n",
       "        text-align: right;\n",
       "    }\n",
       "</style>\n",
       "<table border=\"1\" class=\"dataframe\">\n",
       "  <thead>\n",
       "    <tr style=\"text-align: right;\">\n",
       "      <th></th>\n",
       "      <th>product_id</th>\n",
       "      <th>post_title</th>\n",
       "      <th>total_sales</th>\n",
       "      <th>price</th>\n",
       "      <th>stock_status</th>\n",
       "      <th>Chiffre_affaires</th>\n",
       "    </tr>\n",
       "  </thead>\n",
       "  <tbody>\n",
       "    <tr>\n",
       "      <th>154</th>\n",
       "      <td>4115</td>\n",
       "      <td>Zind-Humbrecht Riesling Grand Cru Rangen De Th...</td>\n",
       "      <td>0.0</td>\n",
       "      <td>100.0</td>\n",
       "      <td>instock</td>\n",
       "      <td>0.0</td>\n",
       "    </tr>\n",
       "    <tr>\n",
       "      <th>156</th>\n",
       "      <td>4132</td>\n",
       "      <td>Zind-Humbrecht Pinot Gris Grand Cru Rangen De ...</td>\n",
       "      <td>0.0</td>\n",
       "      <td>88.4</td>\n",
       "      <td>instock</td>\n",
       "      <td>0.0</td>\n",
       "    </tr>\n",
       "    <tr>\n",
       "      <th>291</th>\n",
       "      <td>4352</td>\n",
       "      <td>Champagne Egly-Ouriet Grand Cru Millésimé 2008</td>\n",
       "      <td>5.0</td>\n",
       "      <td>225.0</td>\n",
       "      <td>outofstock</td>\n",
       "      <td>1125.0</td>\n",
       "    </tr>\n",
       "    <tr>\n",
       "      <th>293</th>\n",
       "      <td>4355</td>\n",
       "      <td>Champagne Egly-Ouriet Grand Cru Blanc de Noirs</td>\n",
       "      <td>11.0</td>\n",
       "      <td>126.5</td>\n",
       "      <td>instock</td>\n",
       "      <td>1391.5</td>\n",
       "    </tr>\n",
       "    <tr>\n",
       "      <th>297</th>\n",
       "      <td>4359</td>\n",
       "      <td>Champagne Larmandier-Bernier Grand Cru Les Che...</td>\n",
       "      <td>1.0</td>\n",
       "      <td>85.6</td>\n",
       "      <td>outofstock</td>\n",
       "      <td>85.6</td>\n",
       "    </tr>\n",
       "    <tr>\n",
       "      <th>310</th>\n",
       "      <td>4402</td>\n",
       "      <td>Cognac Frapin VIP XO</td>\n",
       "      <td>13.0</td>\n",
       "      <td>176.0</td>\n",
       "      <td>instock</td>\n",
       "      <td>2288.0</td>\n",
       "    </tr>\n",
       "    <tr>\n",
       "      <th>311</th>\n",
       "      <td>4404</td>\n",
       "      <td>Cognac Frapin Château de Fontpinot XO</td>\n",
       "      <td>2.0</td>\n",
       "      <td>108.5</td>\n",
       "      <td>instock</td>\n",
       "      <td>217.0</td>\n",
       "    </tr>\n",
       "    <tr>\n",
       "      <th>313</th>\n",
       "      <td>4406</td>\n",
       "      <td>Cognac Frapin Château de Fontpinot 1989 20 Ans...</td>\n",
       "      <td>0.0</td>\n",
       "      <td>157.0</td>\n",
       "      <td>instock</td>\n",
       "      <td>0.0</td>\n",
       "    </tr>\n",
       "    <tr>\n",
       "      <th>314</th>\n",
       "      <td>4407</td>\n",
       "      <td>Cognac Frapin Cigar Blend</td>\n",
       "      <td>1.0</td>\n",
       "      <td>104.0</td>\n",
       "      <td>instock</td>\n",
       "      <td>104.0</td>\n",
       "    </tr>\n",
       "    <tr>\n",
       "      <th>320</th>\n",
       "      <td>4582</td>\n",
       "      <td>Château de Meursault Puligny-Montrachet 1er Cr...</td>\n",
       "      <td>0.0</td>\n",
       "      <td>109.6</td>\n",
       "      <td>instock</td>\n",
       "      <td>0.0</td>\n",
       "    </tr>\n",
       "    <tr>\n",
       "      <th>477</th>\n",
       "      <td>4903</td>\n",
       "      <td>Domaine Des Croix Corton Grand Cru Les Grèves ...</td>\n",
       "      <td>0.0</td>\n",
       "      <td>102.3</td>\n",
       "      <td>instock</td>\n",
       "      <td>0.0</td>\n",
       "    </tr>\n",
       "    <tr>\n",
       "      <th>478</th>\n",
       "      <td>4904</td>\n",
       "      <td>Domaine Des Croix Corton Charlemagne Grand Cru...</td>\n",
       "      <td>5.0</td>\n",
       "      <td>137.0</td>\n",
       "      <td>instock</td>\n",
       "      <td>685.0</td>\n",
       "    </tr>\n",
       "    <tr>\n",
       "      <th>525</th>\n",
       "      <td>5001</td>\n",
       "      <td>David Duband Charmes-Chambertin Grand Cru 2014</td>\n",
       "      <td>0.0</td>\n",
       "      <td>217.5</td>\n",
       "      <td>instock</td>\n",
       "      <td>0.0</td>\n",
       "    </tr>\n",
       "    <tr>\n",
       "      <th>530</th>\n",
       "      <td>5007</td>\n",
       "      <td>Domaine des Comtes Lafon Volnay 1er Cru Santen...</td>\n",
       "      <td>0.0</td>\n",
       "      <td>105.0</td>\n",
       "      <td>instock</td>\n",
       "      <td>0.0</td>\n",
       "    </tr>\n",
       "    <tr>\n",
       "      <th>531</th>\n",
       "      <td>5008</td>\n",
       "      <td>Domaine des Comtes Lafon Volnay 1er Cru Santen...</td>\n",
       "      <td>0.0</td>\n",
       "      <td>105.0</td>\n",
       "      <td>instock</td>\n",
       "      <td>0.0</td>\n",
       "    </tr>\n",
       "    <tr>\n",
       "      <th>538</th>\n",
       "      <td>5025</td>\n",
       "      <td>Champagne Agrapart &amp;amp; Fils L'Avizoise Extra...</td>\n",
       "      <td>0.0</td>\n",
       "      <td>112.0</td>\n",
       "      <td>outofstock</td>\n",
       "      <td>0.0</td>\n",
       "    </tr>\n",
       "    <tr>\n",
       "      <th>539</th>\n",
       "      <td>5026</td>\n",
       "      <td>Champagne Agrapart &amp;amp; Fils Minéral Extra Br...</td>\n",
       "      <td>0.0</td>\n",
       "      <td>86.8</td>\n",
       "      <td>instock</td>\n",
       "      <td>0.0</td>\n",
       "    </tr>\n",
       "    <tr>\n",
       "      <th>605</th>\n",
       "      <td>5565</td>\n",
       "      <td>Tempier Bandol Cabassaou 2017</td>\n",
       "      <td>0.0</td>\n",
       "      <td>92.0</td>\n",
       "      <td>outofstock</td>\n",
       "      <td>0.0</td>\n",
       "    </tr>\n",
       "    <tr>\n",
       "      <th>615</th>\n",
       "      <td>5612</td>\n",
       "      <td>Domaine Weinbach Gewurztraminer Grand Cru Furs...</td>\n",
       "      <td>0.0</td>\n",
       "      <td>124.8</td>\n",
       "      <td>instock</td>\n",
       "      <td>0.0</td>\n",
       "    </tr>\n",
       "    <tr>\n",
       "      <th>657</th>\n",
       "      <td>5767</td>\n",
       "      <td>Camille Giroud Clos de Vougeot 2016</td>\n",
       "      <td>0.0</td>\n",
       "      <td>175.0</td>\n",
       "      <td>instock</td>\n",
       "      <td>0.0</td>\n",
       "    </tr>\n",
       "    <tr>\n",
       "      <th>692</th>\n",
       "      <td>5892</td>\n",
       "      <td>Coteaux Champenois Egly-Ouriet Ambonnay Rouge ...</td>\n",
       "      <td>3.0</td>\n",
       "      <td>191.3</td>\n",
       "      <td>instock</td>\n",
       "      <td>573.9</td>\n",
       "    </tr>\n",
       "    <tr>\n",
       "      <th>707</th>\n",
       "      <td>5916</td>\n",
       "      <td>Wemyss Malts Single Cask Scotch Whisky Chocola...</td>\n",
       "      <td>0.0</td>\n",
       "      <td>93.0</td>\n",
       "      <td>instock</td>\n",
       "      <td>0.0</td>\n",
       "    </tr>\n",
       "    <tr>\n",
       "      <th>708</th>\n",
       "      <td>5917</td>\n",
       "      <td>Wemyss Malts Single Cask Scotch Whisky Choc 'n...</td>\n",
       "      <td>0.0</td>\n",
       "      <td>122.0</td>\n",
       "      <td>instock</td>\n",
       "      <td>0.0</td>\n",
       "    </tr>\n",
       "    <tr>\n",
       "      <th>709</th>\n",
       "      <td>5918</td>\n",
       "      <td>Wemyss Malts Single Cask Scotch Whisky Chai Ca...</td>\n",
       "      <td>0.0</td>\n",
       "      <td>114.0</td>\n",
       "      <td>instock</td>\n",
       "      <td>0.0</td>\n",
       "    </tr>\n",
       "    <tr>\n",
       "      <th>752</th>\n",
       "      <td>6126</td>\n",
       "      <td>Champagne Gosset Célébris Vintage 2007</td>\n",
       "      <td>2.0</td>\n",
       "      <td>135.0</td>\n",
       "      <td>instock</td>\n",
       "      <td>270.0</td>\n",
       "    </tr>\n",
       "    <tr>\n",
       "      <th>757</th>\n",
       "      <td>6201</td>\n",
       "      <td>David Duband Chambolle-Musigny 1er Cru Les Sen...</td>\n",
       "      <td>0.0</td>\n",
       "      <td>105.6</td>\n",
       "      <td>instock</td>\n",
       "      <td>0.0</td>\n",
       "    </tr>\n",
       "    <tr>\n",
       "      <th>758</th>\n",
       "      <td>6202</td>\n",
       "      <td>Domaine Clerget Echezeaux Grand Cru En Orveaux...</td>\n",
       "      <td>0.0</td>\n",
       "      <td>116.4</td>\n",
       "      <td>instock</td>\n",
       "      <td>0.0</td>\n",
       "    </tr>\n",
       "    <tr>\n",
       "      <th>763</th>\n",
       "      <td>6212</td>\n",
       "      <td>Domaine des Comtes Lafon Volnay 1er Cru Santen...</td>\n",
       "      <td>2.0</td>\n",
       "      <td>115.0</td>\n",
       "      <td>instock</td>\n",
       "      <td>230.0</td>\n",
       "    </tr>\n",
       "    <tr>\n",
       "      <th>764</th>\n",
       "      <td>6213</td>\n",
       "      <td>Domaine des Comtes Lafon Volnay 1er Cru Santen...</td>\n",
       "      <td>0.0</td>\n",
       "      <td>121.0</td>\n",
       "      <td>instock</td>\n",
       "      <td>0.0</td>\n",
       "    </tr>\n",
       "    <tr>\n",
       "      <th>765</th>\n",
       "      <td>6214</td>\n",
       "      <td>Domaine des Comtes Lafon Volnay 1er Cru Champa...</td>\n",
       "      <td>0.0</td>\n",
       "      <td>99.0</td>\n",
       "      <td>instock</td>\n",
       "      <td>0.0</td>\n",
       "    </tr>\n",
       "    <tr>\n",
       "      <th>766</th>\n",
       "      <td>6215</td>\n",
       "      <td>Domaine des Comtes Lafon Volnay 1er Cru Champa...</td>\n",
       "      <td>0.0</td>\n",
       "      <td>115.0</td>\n",
       "      <td>instock</td>\n",
       "      <td>0.0</td>\n",
       "    </tr>\n",
       "    <tr>\n",
       "      <th>767</th>\n",
       "      <td>6216</td>\n",
       "      <td>Domaine des Comtes Lafon Volnay 1er Cru Champa...</td>\n",
       "      <td>0.0</td>\n",
       "      <td>121.0</td>\n",
       "      <td>instock</td>\n",
       "      <td>0.0</td>\n",
       "    </tr>\n",
       "  </tbody>\n",
       "</table>\n",
       "</div>"
      ],
      "text/plain": [
       "    product_id                                         post_title  \\\n",
       "154       4115  Zind-Humbrecht Riesling Grand Cru Rangen De Th...   \n",
       "156       4132  Zind-Humbrecht Pinot Gris Grand Cru Rangen De ...   \n",
       "291       4352     Champagne Egly-Ouriet Grand Cru Millésimé 2008   \n",
       "293       4355     Champagne Egly-Ouriet Grand Cru Blanc de Noirs   \n",
       "297       4359  Champagne Larmandier-Bernier Grand Cru Les Che...   \n",
       "310       4402                               Cognac Frapin VIP XO   \n",
       "311       4404              Cognac Frapin Château de Fontpinot XO   \n",
       "313       4406  Cognac Frapin Château de Fontpinot 1989 20 Ans...   \n",
       "314       4407                          Cognac Frapin Cigar Blend   \n",
       "320       4582  Château de Meursault Puligny-Montrachet 1er Cr...   \n",
       "477       4903  Domaine Des Croix Corton Grand Cru Les Grèves ...   \n",
       "478       4904  Domaine Des Croix Corton Charlemagne Grand Cru...   \n",
       "525       5001     David Duband Charmes-Chambertin Grand Cru 2014   \n",
       "530       5007  Domaine des Comtes Lafon Volnay 1er Cru Santen...   \n",
       "531       5008  Domaine des Comtes Lafon Volnay 1er Cru Santen...   \n",
       "538       5025  Champagne Agrapart &amp; Fils L'Avizoise Extra...   \n",
       "539       5026  Champagne Agrapart &amp; Fils Minéral Extra Br...   \n",
       "605       5565                      Tempier Bandol Cabassaou 2017   \n",
       "615       5612  Domaine Weinbach Gewurztraminer Grand Cru Furs...   \n",
       "657       5767                Camille Giroud Clos de Vougeot 2016   \n",
       "692       5892  Coteaux Champenois Egly-Ouriet Ambonnay Rouge ...   \n",
       "707       5916  Wemyss Malts Single Cask Scotch Whisky Chocola...   \n",
       "708       5917  Wemyss Malts Single Cask Scotch Whisky Choc 'n...   \n",
       "709       5918  Wemyss Malts Single Cask Scotch Whisky Chai Ca...   \n",
       "752       6126             Champagne Gosset Célébris Vintage 2007   \n",
       "757       6201  David Duband Chambolle-Musigny 1er Cru Les Sen...   \n",
       "758       6202  Domaine Clerget Echezeaux Grand Cru En Orveaux...   \n",
       "763       6212  Domaine des Comtes Lafon Volnay 1er Cru Santen...   \n",
       "764       6213  Domaine des Comtes Lafon Volnay 1er Cru Santen...   \n",
       "765       6214  Domaine des Comtes Lafon Volnay 1er Cru Champa...   \n",
       "766       6215  Domaine des Comtes Lafon Volnay 1er Cru Champa...   \n",
       "767       6216  Domaine des Comtes Lafon Volnay 1er Cru Champa...   \n",
       "\n",
       "     total_sales  price stock_status  Chiffre_affaires  \n",
       "154          0.0  100.0      instock               0.0  \n",
       "156          0.0   88.4      instock               0.0  \n",
       "291          5.0  225.0   outofstock            1125.0  \n",
       "293         11.0  126.5      instock            1391.5  \n",
       "297          1.0   85.6   outofstock              85.6  \n",
       "310         13.0  176.0      instock            2288.0  \n",
       "311          2.0  108.5      instock             217.0  \n",
       "313          0.0  157.0      instock               0.0  \n",
       "314          1.0  104.0      instock             104.0  \n",
       "320          0.0  109.6      instock               0.0  \n",
       "477          0.0  102.3      instock               0.0  \n",
       "478          5.0  137.0      instock             685.0  \n",
       "525          0.0  217.5      instock               0.0  \n",
       "530          0.0  105.0      instock               0.0  \n",
       "531          0.0  105.0      instock               0.0  \n",
       "538          0.0  112.0   outofstock               0.0  \n",
       "539          0.0   86.8      instock               0.0  \n",
       "605          0.0   92.0   outofstock               0.0  \n",
       "615          0.0  124.8      instock               0.0  \n",
       "657          0.0  175.0      instock               0.0  \n",
       "692          3.0  191.3      instock             573.9  \n",
       "707          0.0   93.0      instock               0.0  \n",
       "708          0.0  122.0      instock               0.0  \n",
       "709          0.0  114.0      instock               0.0  \n",
       "752          2.0  135.0      instock             270.0  \n",
       "757          0.0  105.6      instock               0.0  \n",
       "758          0.0  116.4      instock               0.0  \n",
       "763          2.0  115.0      instock             230.0  \n",
       "764          0.0  121.0      instock               0.0  \n",
       "765          0.0   99.0      instock               0.0  \n",
       "766          0.0  115.0      instock               0.0  \n",
       "767          0.0  121.0      instock               0.0  "
      ]
     },
     "execution_count": 488,
     "metadata": {},
     "output_type": "execute_result"
    }
   ],
   "source": [
    "df_outliers1.head(32)"
   ]
  },
  {
   "cell_type": "code",
   "execution_count": 489,
   "id": "e96b34e9",
   "metadata": {
    "scrolled": true
   },
   "outputs": [
    {
     "data": {
      "text/html": [
       "<div>\n",
       "<style scoped>\n",
       "    .dataframe tbody tr th:only-of-type {\n",
       "        vertical-align: middle;\n",
       "    }\n",
       "\n",
       "    .dataframe tbody tr th {\n",
       "        vertical-align: top;\n",
       "    }\n",
       "\n",
       "    .dataframe thead th {\n",
       "        text-align: right;\n",
       "    }\n",
       "</style>\n",
       "<table border=\"1\" class=\"dataframe\">\n",
       "  <thead>\n",
       "    <tr style=\"text-align: right;\">\n",
       "      <th></th>\n",
       "      <th>product_id</th>\n",
       "      <th>post_title</th>\n",
       "      <th>total_sales</th>\n",
       "      <th>price</th>\n",
       "      <th>stock_status</th>\n",
       "      <th>Chiffre_affaires</th>\n",
       "    </tr>\n",
       "  </thead>\n",
       "  <tbody>\n",
       "    <tr>\n",
       "      <th>154</th>\n",
       "      <td>4115</td>\n",
       "      <td>Zind-Humbrecht Riesling Grand Cru Rangen De Th...</td>\n",
       "      <td>0.0</td>\n",
       "      <td>100.0</td>\n",
       "      <td>instock</td>\n",
       "      <td>0.0</td>\n",
       "    </tr>\n",
       "    <tr>\n",
       "      <th>156</th>\n",
       "      <td>4132</td>\n",
       "      <td>Zind-Humbrecht Pinot Gris Grand Cru Rangen De ...</td>\n",
       "      <td>0.0</td>\n",
       "      <td>88.4</td>\n",
       "      <td>instock</td>\n",
       "      <td>0.0</td>\n",
       "    </tr>\n",
       "    <tr>\n",
       "      <th>313</th>\n",
       "      <td>4406</td>\n",
       "      <td>Cognac Frapin Château de Fontpinot 1989 20 Ans...</td>\n",
       "      <td>0.0</td>\n",
       "      <td>157.0</td>\n",
       "      <td>instock</td>\n",
       "      <td>0.0</td>\n",
       "    </tr>\n",
       "    <tr>\n",
       "      <th>320</th>\n",
       "      <td>4582</td>\n",
       "      <td>Château de Meursault Puligny-Montrachet 1er Cr...</td>\n",
       "      <td>0.0</td>\n",
       "      <td>109.6</td>\n",
       "      <td>instock</td>\n",
       "      <td>0.0</td>\n",
       "    </tr>\n",
       "    <tr>\n",
       "      <th>477</th>\n",
       "      <td>4903</td>\n",
       "      <td>Domaine Des Croix Corton Grand Cru Les Grèves ...</td>\n",
       "      <td>0.0</td>\n",
       "      <td>102.3</td>\n",
       "      <td>instock</td>\n",
       "      <td>0.0</td>\n",
       "    </tr>\n",
       "    <tr>\n",
       "      <th>525</th>\n",
       "      <td>5001</td>\n",
       "      <td>David Duband Charmes-Chambertin Grand Cru 2014</td>\n",
       "      <td>0.0</td>\n",
       "      <td>217.5</td>\n",
       "      <td>instock</td>\n",
       "      <td>0.0</td>\n",
       "    </tr>\n",
       "    <tr>\n",
       "      <th>530</th>\n",
       "      <td>5007</td>\n",
       "      <td>Domaine des Comtes Lafon Volnay 1er Cru Santen...</td>\n",
       "      <td>0.0</td>\n",
       "      <td>105.0</td>\n",
       "      <td>instock</td>\n",
       "      <td>0.0</td>\n",
       "    </tr>\n",
       "    <tr>\n",
       "      <th>531</th>\n",
       "      <td>5008</td>\n",
       "      <td>Domaine des Comtes Lafon Volnay 1er Cru Santen...</td>\n",
       "      <td>0.0</td>\n",
       "      <td>105.0</td>\n",
       "      <td>instock</td>\n",
       "      <td>0.0</td>\n",
       "    </tr>\n",
       "    <tr>\n",
       "      <th>538</th>\n",
       "      <td>5025</td>\n",
       "      <td>Champagne Agrapart &amp;amp; Fils L'Avizoise Extra...</td>\n",
       "      <td>0.0</td>\n",
       "      <td>112.0</td>\n",
       "      <td>outofstock</td>\n",
       "      <td>0.0</td>\n",
       "    </tr>\n",
       "    <tr>\n",
       "      <th>539</th>\n",
       "      <td>5026</td>\n",
       "      <td>Champagne Agrapart &amp;amp; Fils Minéral Extra Br...</td>\n",
       "      <td>0.0</td>\n",
       "      <td>86.8</td>\n",
       "      <td>instock</td>\n",
       "      <td>0.0</td>\n",
       "    </tr>\n",
       "    <tr>\n",
       "      <th>605</th>\n",
       "      <td>5565</td>\n",
       "      <td>Tempier Bandol Cabassaou 2017</td>\n",
       "      <td>0.0</td>\n",
       "      <td>92.0</td>\n",
       "      <td>outofstock</td>\n",
       "      <td>0.0</td>\n",
       "    </tr>\n",
       "    <tr>\n",
       "      <th>615</th>\n",
       "      <td>5612</td>\n",
       "      <td>Domaine Weinbach Gewurztraminer Grand Cru Furs...</td>\n",
       "      <td>0.0</td>\n",
       "      <td>124.8</td>\n",
       "      <td>instock</td>\n",
       "      <td>0.0</td>\n",
       "    </tr>\n",
       "    <tr>\n",
       "      <th>657</th>\n",
       "      <td>5767</td>\n",
       "      <td>Camille Giroud Clos de Vougeot 2016</td>\n",
       "      <td>0.0</td>\n",
       "      <td>175.0</td>\n",
       "      <td>instock</td>\n",
       "      <td>0.0</td>\n",
       "    </tr>\n",
       "    <tr>\n",
       "      <th>707</th>\n",
       "      <td>5916</td>\n",
       "      <td>Wemyss Malts Single Cask Scotch Whisky Chocola...</td>\n",
       "      <td>0.0</td>\n",
       "      <td>93.0</td>\n",
       "      <td>instock</td>\n",
       "      <td>0.0</td>\n",
       "    </tr>\n",
       "    <tr>\n",
       "      <th>708</th>\n",
       "      <td>5917</td>\n",
       "      <td>Wemyss Malts Single Cask Scotch Whisky Choc 'n...</td>\n",
       "      <td>0.0</td>\n",
       "      <td>122.0</td>\n",
       "      <td>instock</td>\n",
       "      <td>0.0</td>\n",
       "    </tr>\n",
       "    <tr>\n",
       "      <th>709</th>\n",
       "      <td>5918</td>\n",
       "      <td>Wemyss Malts Single Cask Scotch Whisky Chai Ca...</td>\n",
       "      <td>0.0</td>\n",
       "      <td>114.0</td>\n",
       "      <td>instock</td>\n",
       "      <td>0.0</td>\n",
       "    </tr>\n",
       "    <tr>\n",
       "      <th>757</th>\n",
       "      <td>6201</td>\n",
       "      <td>David Duband Chambolle-Musigny 1er Cru Les Sen...</td>\n",
       "      <td>0.0</td>\n",
       "      <td>105.6</td>\n",
       "      <td>instock</td>\n",
       "      <td>0.0</td>\n",
       "    </tr>\n",
       "    <tr>\n",
       "      <th>758</th>\n",
       "      <td>6202</td>\n",
       "      <td>Domaine Clerget Echezeaux Grand Cru En Orveaux...</td>\n",
       "      <td>0.0</td>\n",
       "      <td>116.4</td>\n",
       "      <td>instock</td>\n",
       "      <td>0.0</td>\n",
       "    </tr>\n",
       "    <tr>\n",
       "      <th>764</th>\n",
       "      <td>6213</td>\n",
       "      <td>Domaine des Comtes Lafon Volnay 1er Cru Santen...</td>\n",
       "      <td>0.0</td>\n",
       "      <td>121.0</td>\n",
       "      <td>instock</td>\n",
       "      <td>0.0</td>\n",
       "    </tr>\n",
       "    <tr>\n",
       "      <th>765</th>\n",
       "      <td>6214</td>\n",
       "      <td>Domaine des Comtes Lafon Volnay 1er Cru Champa...</td>\n",
       "      <td>0.0</td>\n",
       "      <td>99.0</td>\n",
       "      <td>instock</td>\n",
       "      <td>0.0</td>\n",
       "    </tr>\n",
       "    <tr>\n",
       "      <th>766</th>\n",
       "      <td>6215</td>\n",
       "      <td>Domaine des Comtes Lafon Volnay 1er Cru Champa...</td>\n",
       "      <td>0.0</td>\n",
       "      <td>115.0</td>\n",
       "      <td>instock</td>\n",
       "      <td>0.0</td>\n",
       "    </tr>\n",
       "    <tr>\n",
       "      <th>767</th>\n",
       "      <td>6216</td>\n",
       "      <td>Domaine des Comtes Lafon Volnay 1er Cru Champa...</td>\n",
       "      <td>0.0</td>\n",
       "      <td>121.0</td>\n",
       "      <td>instock</td>\n",
       "      <td>0.0</td>\n",
       "    </tr>\n",
       "  </tbody>\n",
       "</table>\n",
       "</div>"
      ],
      "text/plain": [
       "    product_id                                         post_title  \\\n",
       "154       4115  Zind-Humbrecht Riesling Grand Cru Rangen De Th...   \n",
       "156       4132  Zind-Humbrecht Pinot Gris Grand Cru Rangen De ...   \n",
       "313       4406  Cognac Frapin Château de Fontpinot 1989 20 Ans...   \n",
       "320       4582  Château de Meursault Puligny-Montrachet 1er Cr...   \n",
       "477       4903  Domaine Des Croix Corton Grand Cru Les Grèves ...   \n",
       "525       5001     David Duband Charmes-Chambertin Grand Cru 2014   \n",
       "530       5007  Domaine des Comtes Lafon Volnay 1er Cru Santen...   \n",
       "531       5008  Domaine des Comtes Lafon Volnay 1er Cru Santen...   \n",
       "538       5025  Champagne Agrapart &amp; Fils L'Avizoise Extra...   \n",
       "539       5026  Champagne Agrapart &amp; Fils Minéral Extra Br...   \n",
       "605       5565                      Tempier Bandol Cabassaou 2017   \n",
       "615       5612  Domaine Weinbach Gewurztraminer Grand Cru Furs...   \n",
       "657       5767                Camille Giroud Clos de Vougeot 2016   \n",
       "707       5916  Wemyss Malts Single Cask Scotch Whisky Chocola...   \n",
       "708       5917  Wemyss Malts Single Cask Scotch Whisky Choc 'n...   \n",
       "709       5918  Wemyss Malts Single Cask Scotch Whisky Chai Ca...   \n",
       "757       6201  David Duband Chambolle-Musigny 1er Cru Les Sen...   \n",
       "758       6202  Domaine Clerget Echezeaux Grand Cru En Orveaux...   \n",
       "764       6213  Domaine des Comtes Lafon Volnay 1er Cru Santen...   \n",
       "765       6214  Domaine des Comtes Lafon Volnay 1er Cru Champa...   \n",
       "766       6215  Domaine des Comtes Lafon Volnay 1er Cru Champa...   \n",
       "767       6216  Domaine des Comtes Lafon Volnay 1er Cru Champa...   \n",
       "\n",
       "     total_sales  price stock_status  Chiffre_affaires  \n",
       "154          0.0  100.0      instock               0.0  \n",
       "156          0.0   88.4      instock               0.0  \n",
       "313          0.0  157.0      instock               0.0  \n",
       "320          0.0  109.6      instock               0.0  \n",
       "477          0.0  102.3      instock               0.0  \n",
       "525          0.0  217.5      instock               0.0  \n",
       "530          0.0  105.0      instock               0.0  \n",
       "531          0.0  105.0      instock               0.0  \n",
       "538          0.0  112.0   outofstock               0.0  \n",
       "539          0.0   86.8      instock               0.0  \n",
       "605          0.0   92.0   outofstock               0.0  \n",
       "615          0.0  124.8      instock               0.0  \n",
       "657          0.0  175.0      instock               0.0  \n",
       "707          0.0   93.0      instock               0.0  \n",
       "708          0.0  122.0      instock               0.0  \n",
       "709          0.0  114.0      instock               0.0  \n",
       "757          0.0  105.6      instock               0.0  \n",
       "758          0.0  116.4      instock               0.0  \n",
       "764          0.0  121.0      instock               0.0  \n",
       "765          0.0   99.0      instock               0.0  \n",
       "766          0.0  115.0      instock               0.0  \n",
       "767          0.0  121.0      instock               0.0  "
      ]
     },
     "execution_count": 489,
     "metadata": {},
     "output_type": "execute_result"
    }
   ],
   "source": [
    "# Création d'un dataframe contenant uniquement des valeurs aberrantes n'ayant fait l'objet d'aucune vente. \n",
    "df_outliers_invendus=df_outliers1.loc[df_outliers['total_sales']==0.0]\n",
    "df_outliers_invendus"
   ]
  },
  {
   "cell_type": "code",
   "execution_count": 490,
   "id": "06a59d4a",
   "metadata": {},
   "outputs": [
    {
     "data": {
      "text/plain": [
       "(22, 6)"
      ]
     },
     "execution_count": 490,
     "metadata": {},
     "output_type": "execute_result"
    }
   ],
   "source": [
    "df_outliers_invendus.shape"
   ]
  },
  {
   "cell_type": "markdown",
   "id": "b0596630",
   "metadata": {},
   "source": [
    "Il est à noter que, sur  les 32 vins,whiskys et champagnes identifiés comme des valeurs aberrantes, 22, soit près des deux tiers, n'ont pas été achetés en ligne. Ces valeurs aberrantes correspondent à des produits de haute gamme(produits plus coûteux), ce qui est prévisible étant donné qu'elles représentent des produits de qualité supérieure"
   ]
  },
  {
   "cell_type": "code",
   "execution_count": null,
   "id": "a41e51ac",
   "metadata": {},
   "outputs": [],
   "source": []
  }
 ],
 "metadata": {
  "kernelspec": {
   "display_name": "Python 3 (ipykernel)",
   "language": "python",
   "name": "python3"
  },
  "language_info": {
   "codemirror_mode": {
    "name": "ipython",
    "version": 3
   },
   "file_extension": ".py",
   "mimetype": "text/x-python",
   "name": "python",
   "nbconvert_exporter": "python",
   "pygments_lexer": "ipython3",
   "version": "3.9.13"
  }
 },
 "nbformat": 4,
 "nbformat_minor": 5
}
